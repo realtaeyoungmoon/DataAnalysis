{
 "cells": [
  {
   "cell_type": "markdown",
   "id": "4e0bb9e6-3cd1-43a5-bf80-00b0d4b85cf2",
   "metadata": {},
   "source": [
    "## Deep Learning"
   ]
  },
  {
   "cell_type": "code",
   "execution_count": null,
   "id": "fd56ed57-b62f-4792-8c64-e1684e384015",
   "metadata": {},
   "outputs": [],
   "source": [
    "import tensorflow as tf\n",
    "from tensorflow import keras\n",
    "from tensorflow.keras import layers\n",
    "from tensorflow.keras.layers import Dense, Conv2D, MaxPooling2D, Dropout\n",
    "from tensorflow.keras import regularizers\n",
    "from tensorflow.keras.utils import to_categorical\n",
    "\n",
    "import numpy as np\n",
    "import pandas as pd\n",
    "import statsmodels.api as sm\n",
    "import matplotlib.pyplot as plt\n",
    "import seaborn as sns\n",
    "from sklearn import datasets\n",
    "from sklearn.metrics import mean_absolute_error, mean_squared_error\n",
    "import sklearn.preprocessing as preproc\n",
    "from sklearn.metrics import confusion_matrix, accuracy_score, classification_report, plot_confusion_matrix\n",
    "from sklearn import metrics\n",
    "\n",
    "from sklearn.model_selection import train_test_split"
   ]
  },
  {
   "cell_type": "markdown",
   "id": "d687250b-2a8f-4e8c-b417-93958d5f29bb",
   "metadata": {},
   "source": [
    "### 1. Regression Example"
   ]
  },
  {
   "cell_type": "code",
   "execution_count": null,
   "id": "9cde902b-9dd1-4cbb-8986-3cf5dc784768",
   "metadata": {},
   "outputs": [],
   "source": [
    "# California housing dataset. medv is the median value to predict\n",
    "from sklearn import datasets\n",
    "\n",
    "X = datasets.fetch_california_housing()['data']\n",
    "y = datasets.fetch_california_housing()['target']\n",
    "features = datasets.fetch_california_housing()['feature_names']\n",
    "DESCR = datasets.fetch_california_housing()['DESCR']\n",
    "\n",
    "cali_df = pd.DataFrame(X, columns = features)\n",
    "cali_df.insert(0,'Value', y)\n",
    "cali_df"
   ]
  },
  {
   "cell_type": "code",
   "execution_count": null,
   "id": "51be0071-605e-44a9-a41b-5e26ea822076",
   "metadata": {},
   "outputs": [],
   "source": [
    "cali_df.Value.describe()"
   ]
  },
  {
   "cell_type": "code",
   "execution_count": null,
   "id": "2cafecc9-c566-47b3-94b1-3aac70bf46d9",
   "metadata": {},
   "outputs": [],
   "source": [
    "X = pd.DataFrame(preproc.StandardScaler().fit_transform(X))\n",
    "\n",
    "X_train, X_test, y_train, y_test = train_test_split(X, y, test_size = 0.20)"
   ]
  },
  {
   "cell_type": "code",
   "execution_count": null,
   "id": "206d2e34-eda2-4a38-8911-92488ae36ba5",
   "metadata": {},
   "outputs": [],
   "source": [
    "X"
   ]
  },
  {
   "cell_type": "code",
   "execution_count": null,
   "id": "da30bd82-a171-4d61-bbab-1e600fa18b27",
   "metadata": {},
   "outputs": [],
   "source": [
    "model = keras.Sequential()\n",
    "model.add(Dense(100, input_dim=X_train.shape[1], activation='relu'))\n",
    "model.add(Dropout(0.2))\n",
    "model.add(Dense(1))\n"
   ]
  },
  {
   "cell_type": "code",
   "execution_count": null,
   "id": "ca500af7-8866-406c-b9f8-eca2d888cfa6",
   "metadata": {},
   "outputs": [],
   "source": [
    "model.summary()"
   ]
  },
  {
   "cell_type": "code",
   "execution_count": null,
   "id": "03fbd0dc-2c88-4507-a5a3-a74e082286ad",
   "metadata": {},
   "outputs": [],
   "source": [
    "model.compile(loss= \"mean_squared_error\" , optimizer=\"adam\", metrics=[\"mean_squared_error\"])"
   ]
  },
  {
   "cell_type": "code",
   "execution_count": null,
   "id": "d70ca483-fcaa-4d18-9c71-238e54469b57",
   "metadata": {
    "tags": []
   },
   "outputs": [],
   "source": [
    "callback = tf.keras.callbacks.EarlyStopping(monitor='val_mean_squared_error', patience=4)\n",
    "history = model.fit(X_train, y_train, epochs=100, batch_size=128, validation_split = 0.1, callbacks=[callback])\n",
    "print('Done')"
   ]
  },
  {
   "cell_type": "code",
   "execution_count": null,
   "id": "caf6902e-e1fd-4f70-a561-f0ba2afb881c",
   "metadata": {},
   "outputs": [],
   "source": [
    "plt.plot(history.history['mean_squared_error'], label='Trg MSE')\n",
    "plt.plot(history.history['val_mean_squared_error'], label='Val MSE')\n",
    "plt.xlabel('Epoch')\n",
    "plt.ylabel('Squared Error')\n",
    "plt.legend()\n",
    "plt.grid(True)"
   ]
  },
  {
   "cell_type": "code",
   "execution_count": null,
   "id": "90305ae0-71dd-4e99-b098-7afa1f95a08a",
   "metadata": {},
   "outputs": [],
   "source": [
    "y_pred = model.predict(X_test)"
   ]
  },
  {
   "cell_type": "code",
   "execution_count": null,
   "id": "d11cabea-d552-4dee-b322-c7acada8d490",
   "metadata": {},
   "outputs": [],
   "source": [
    "print('MSE = ', mean_squared_error(y_test,y_pred))\n",
    "print('RMSE = ', np.sqrt(mean_squared_error(y_test,y_pred)))\n",
    "print('MAE = ', mean_absolute_error(y_test,y_pred))\n"
   ]
  },
  {
   "cell_type": "code",
   "execution_count": null,
   "id": "180625c1-f281-4c31-8098-d925359f5b42",
   "metadata": {},
   "outputs": [],
   "source": [
    "plt.figure(figsize = (8,8))\n",
    "plt.scatter(y_test, y_pred, alpha=0.5)\n",
    "plt.title('Actual vs Predicted \\n Closer to red line (identity) means more accurate prediction')\n",
    "plt.plot( [y_test.min(),y_test.max()],[y_test.min(),y_test.max()], color='red' )\n",
    "plt.xlabel(\"Actual\")\n",
    "plt.ylabel(\"Predicted\")"
   ]
  },
  {
   "cell_type": "code",
   "execution_count": null,
   "id": "a1215070-285c-465d-b0c1-ec7ee27fd99a",
   "metadata": {},
   "outputs": [],
   "source": [
    "# R-squared calculation\n",
    "pd.DataFrame({'actual':y_test, 'predicted':y_pred.ravel()}).corr()**2"
   ]
  },
  {
   "cell_type": "markdown",
   "id": "60f76287-0cf9-4027-9003-07619ef80eec",
   "metadata": {},
   "source": [
    "##### Use XGBoost to do the same thing"
   ]
  },
  {
   "cell_type": "code",
   "execution_count": null,
   "id": "b3efd141-1557-4b2c-ab32-4c36f23f2725",
   "metadata": {},
   "outputs": [],
   "source": [
    "# Fit model\n",
    "from xgboost import XGBRegressor\n",
    "\n",
    "model_xgb_regr = XGBRegressor()\n",
    "model_xgb_regr.fit(X_train, y_train)\n",
    "model_xgb_regr.predict(X_test)"
   ]
  },
  {
   "cell_type": "code",
   "execution_count": null,
   "id": "0a4ff04c-a609-4f7c-bc7b-e1e5bc813e51",
   "metadata": {},
   "outputs": [],
   "source": [
    "# Evaluate model\n",
    "y_pred  =  model_xgb_regr.predict(X_test)\n",
    "from sklearn.metrics import mean_absolute_error, mean_squared_error\n",
    "print('MSE = ', mean_squared_error(y_test,y_pred))\n",
    "print('RMSE = ', np.sqrt(mean_squared_error(y_test,y_pred)))\n",
    "print('MAE = ', mean_absolute_error(y_test,y_pred))\n"
   ]
  },
  {
   "cell_type": "code",
   "execution_count": null,
   "id": "b2fda3e5-4272-4f75-ade1-488b3b0d376c",
   "metadata": {},
   "outputs": [],
   "source": [
    "# Evaluate residuals\n",
    "plt.figure(figsize = (8,8))\n",
    "plt.scatter(y_test, y_pred, alpha=0.5)\n",
    "plt.title('Actual vs Predicted \\n Closer to red line (identity) means more accurate prediction')\n",
    "plt.plot(  [y_test.min(),y_test.max()],[y_test.min(),y_test.max()], color='red' )\n",
    "plt.xlabel(\"Actual\")\n",
    "plt.ylabel(\"Predicted\");"
   ]
  },
  {
   "cell_type": "code",
   "execution_count": null,
   "id": "a1d17940-3f75-4e35-9d8c-c143410c2ee4",
   "metadata": {},
   "outputs": [],
   "source": []
  },
  {
   "cell_type": "markdown",
   "id": "b602cdc1-da9a-48d9-b39e-3fdea55b2c78",
   "metadata": {},
   "source": [
    "## 2. Classification"
   ]
  },
  {
   "cell_type": "code",
   "execution_count": null,
   "id": "d082cca1-ac08-4aca-a0b6-4ad5b812545f",
   "metadata": {},
   "outputs": [],
   "source": [
    "df = pd.read_csv('diabetes.csv')\n",
    "print(df.shape)\n",
    "df.head()"
   ]
  },
  {
   "cell_type": "code",
   "execution_count": null,
   "id": "be1097d3-c4a9-4563-a09e-ca3a03da9057",
   "metadata": {},
   "outputs": [],
   "source": [
    "from sklearn.model_selection import train_test_split\n",
    "X = df.iloc[:,:8]\n",
    "X = pd.DataFrame(preproc.StandardScaler().fit_transform(X))\n",
    "y = df.Outcome\n",
    "X_train, X_test, y_train, y_test = train_test_split(X, y, test_size=0.25)"
   ]
  },
  {
   "cell_type": "code",
   "execution_count": null,
   "id": "90750af2-24b0-433d-be42-0d783700f658",
   "metadata": {},
   "outputs": [],
   "source": [
    "X_train.shape[1]"
   ]
  },
  {
   "cell_type": "code",
   "execution_count": null,
   "id": "67fc4b58-38de-4288-8556-4b3ddf05873e",
   "metadata": {},
   "outputs": [],
   "source": [
    "model = keras.Sequential()\n",
    "model.add(Dense(100, input_dim=X_train.shape[1], activation='relu'))\n",
    "# model.add(Dense(100, activation='relu'))\n",
    "# model.add(Dense(200, activation='relu'))\n",
    "# model.add(Dense(256, activation='relu'))\n",
    "model.add(Dense(8, activation='relu'))\n",
    "# model.add(Dense(200, activation='relu'))\n",
    "model.add(Dense(1, activation='sigmoid'))\n",
    "\n",
    "model.compile(loss= \"binary_crossentropy\" , optimizer=\"adam\", metrics=[\"accuracy\"])\n",
    "\n",
    "callback = tf.keras.callbacks.EarlyStopping(monitor='val_accuracy', patience=4)\n",
    "history = model.fit(X_train, y_train, epochs=100, batch_size=32, validation_split = 0.2, callbacks=[callback])\n",
    "print('\\nDone!!')"
   ]
  },
  {
   "cell_type": "code",
   "execution_count": null,
   "id": "f7d8a29a-43a5-4461-8bc7-62ed540c6978",
   "metadata": {},
   "outputs": [],
   "source": [
    "model.evaluate(X_test, y_test)"
   ]
  },
  {
   "cell_type": "code",
   "execution_count": null,
   "id": "d3c8607a-66ff-4eda-9772-05ab31ad2d14",
   "metadata": {},
   "outputs": [],
   "source": [
    "# evaluate the keras model\n",
    "ss, accuracy = model.evaluate(X_test, y_test)\n",
    "print('Accuracy:', accuracy*100)"
   ]
  },
  {
   "cell_type": "code",
   "execution_count": null,
   "id": "1e1a748a-7145-45c7-acdf-3fca2d095aa6",
   "metadata": {},
   "outputs": [],
   "source": [
    "# Training Accuracy\n",
    "pred_prob = model.predict(X_train)\n",
    "threshold = 0.50\n",
    "\n",
    "# pred = list(map(round, pred_prob))\n",
    "pred = (model.predict(X_train)>threshold) * 1\n",
    "from sklearn.metrics import (confusion_matrix, accuracy_score)\n",
    " \n",
    "# confusion matrix\n",
    "cm = confusion_matrix(y_train, pred)\n",
    "print (\"Confusion Matrix : \\n\", cm)\n",
    " \n",
    "# accuracy score of the model\n",
    "print('Train accuracy = ', accuracy_score(y_train, pred))"
   ]
  },
  {
   "cell_type": "code",
   "execution_count": null,
   "id": "489001e6-2be8-45ad-9c9f-969d1d838ab4",
   "metadata": {},
   "outputs": [],
   "source": [
    "# Testing Accuracy\n",
    "pred_prob = model.predict(X_test)\n",
    "threshold = 0.50\n",
    "\n",
    "\n",
    "# pred = list(map(round, pred_prob))\n",
    "pred = (model.predict(X_test)>threshold) * 1\n",
    "from sklearn.metrics import (confusion_matrix, accuracy_score)\n",
    " \n",
    "# confusion matrix\n",
    "cm = confusion_matrix(y_test, pred)\n",
    "print (\"Confusion Matrix : \\n\", cm)\n",
    " \n",
    "# accuracy score of the model\n",
    "print('Test accuracy = ', accuracy_score(y_test, pred))"
   ]
  },
  {
   "cell_type": "code",
   "execution_count": null,
   "id": "b6f59d7f-3179-4f47-8570-878db8e16eda",
   "metadata": {},
   "outputs": [],
   "source": [
    "pred = (model.predict(X_test)>threshold) * 1"
   ]
  },
  {
   "cell_type": "code",
   "execution_count": null,
   "id": "bde9e379-6ccf-4d3c-b2a8-020e0bab94e4",
   "metadata": {},
   "outputs": [],
   "source": [
    "pred.shape"
   ]
  },
  {
   "cell_type": "code",
   "execution_count": null,
   "id": "477d5b9b-0a73-41af-a675-4fb9ab4319fd",
   "metadata": {},
   "outputs": [],
   "source": [
    "from sklearn.metrics import ConfusionMatrixDisplay\n",
    "print(classification_report(y_true = y_test, y_pred = pred))\n",
    "ConfusionMatrixDisplay(confusion_matrix=cm).plot()\n",
    "# ConfusionMatrixDisplay.from_predictions(y_true = y_test, y_pred = pred, cmap='Greys')"
   ]
  },
  {
   "cell_type": "code",
   "execution_count": null,
   "id": "17b6452a-e207-4ebf-bea8-9431c13b4b4e",
   "metadata": {},
   "outputs": [],
   "source": [
    "# AUC calculation\n",
    "metrics.roc_auc_score(y_test, pred_prob)"
   ]
  },
  {
   "cell_type": "code",
   "execution_count": null,
   "id": "ee77d422-aca9-4ff7-8994-5ec83d77a6a0",
   "metadata": {},
   "outputs": [],
   "source": [
    "# Source for code below: https://stackoverflow.com/questions/25009284/how-to-plot-roc-curve-in-python\n",
    "fpr, tpr, thresholds = metrics.roc_curve(y_test, pred_prob)\n",
    "roc_auc = metrics.auc(fpr, tpr)\n",
    "plt.figure(figsize = (9,8))\n",
    "plt.title('Receiver Operating Characteristic')\n",
    "plt.plot(fpr, tpr, 'b', label = 'AUC = %0.2f' % roc_auc)\n",
    "plt.legend(loc = 'lower right')\n",
    "plt.plot([0, 1], [0, 1],'r--')\n",
    "plt.xlim([0, 1])\n",
    "plt.ylim([0, 1])\n",
    "plt.ylabel('True Positive Rate')\n",
    "plt.xlabel('False Positive Rate')\n",
    "plt.show()"
   ]
  },
  {
   "cell_type": "code",
   "execution_count": null,
   "id": "8316866c-818a-4e5d-a44d-b93da6934a3a",
   "metadata": {},
   "outputs": [],
   "source": []
  },
  {
   "cell_type": "code",
   "execution_count": null,
   "id": "194e242f-973e-4690-878f-afede63959aa",
   "metadata": {},
   "outputs": [],
   "source": []
  },
  {
   "cell_type": "code",
   "execution_count": null,
   "id": "d5be5ddd-d0d8-4050-aa83-da31e8cd53cf",
   "metadata": {},
   "outputs": [],
   "source": []
  },
  {
   "cell_type": "markdown",
   "id": "0cf936f5-4bf2-4ef4-83ee-0b9ebd30d6a7",
   "metadata": {},
   "source": [
    "## 3. Multi-class Classification"
   ]
  },
  {
   "cell_type": "code",
   "execution_count": null,
   "id": "74e0437b-2d12-4030-9bff-6b5822bbcfba",
   "metadata": {},
   "outputs": [],
   "source": [
    "df=sns.load_dataset('iris')"
   ]
  },
  {
   "cell_type": "code",
   "execution_count": null,
   "id": "5b24b024-5d95-49be-8558-5910519c36dc",
   "metadata": {},
   "outputs": [],
   "source": [
    "df"
   ]
  },
  {
   "cell_type": "code",
   "execution_count": null,
   "id": "e9bc9de9-378a-40ef-a712-32f4e4f047ab",
   "metadata": {},
   "outputs": [],
   "source": [
    "from sklearn.preprocessing import LabelEncoder\n",
    "le = LabelEncoder()\n",
    "encoded_labels = le.fit_transform(df['species'].values.ravel()) # This needs a 1D arrary\n",
    "\n",
    "list(enumerate(le.classes_))"
   ]
  },
  {
   "cell_type": "code",
   "execution_count": null,
   "id": "3cf26258-ad9e-487a-9d93-bdc078ca36f5",
   "metadata": {},
   "outputs": [],
   "source": [
    "from tensorflow.keras.utils import to_categorical\n",
    "X = df.iloc[:,:4]\n",
    "y = to_categorical(encoded_labels)\n"
   ]
  },
  {
   "cell_type": "code",
   "execution_count": null,
   "id": "38745077-7a6d-4c49-82d7-c7a658adf70c",
   "metadata": {},
   "outputs": [],
   "source": [
    "X_train, X_test, y_train, y_test = train_test_split(X, y, test_size=0.25)"
   ]
  },
  {
   "cell_type": "code",
   "execution_count": null,
   "id": "56c840f3-0eca-4452-bbb9-a8716b24fb77",
   "metadata": {},
   "outputs": [],
   "source": [
    "model = keras.Sequential()\n",
    "model.add(Dense(12, input_dim=X_train.shape[1], activation='relu'))\n",
    "model.add(Dense(8, activation='relu'))\n",
    "model.add(Dense(3, activation='softmax'))\n",
    "\n",
    "# compile the keras model\n",
    "model.compile(loss='categorical_crossentropy', optimizer='adam', metrics=['accuracy'])\n",
    "\n",
    "# fit the keras model on the dataset\n",
    "callback = tf.keras.callbacks.EarlyStopping(monitor='accuracy', patience=4)\n",
    "model.fit(X_train, y_train, epochs=150, batch_size=10, callbacks = [callback])\n",
    "\n",
    "print('\\nDone')"
   ]
  },
  {
   "cell_type": "code",
   "execution_count": null,
   "id": "42e86230-cf87-4726-8eed-ec63fbbd82cc",
   "metadata": {},
   "outputs": [],
   "source": [
    "model.evaluate(X_test, y_test)"
   ]
  },
  {
   "cell_type": "code",
   "execution_count": null,
   "id": "47b3b7d2-53fe-4b92-8ff3-199a4ccd2584",
   "metadata": {},
   "outputs": [],
   "source": []
  },
  {
   "cell_type": "markdown",
   "id": "a2ca18e0-0976-4f1c-b92c-e4d622c4600a",
   "metadata": {},
   "source": [
    "## 4. Image Recognition Using CNNs"
   ]
  },
  {
   "cell_type": "code",
   "execution_count": null,
   "id": "78bb1a36-f9bf-440f-9770-c459ca433d75",
   "metadata": {},
   "outputs": [],
   "source": [
    "from tensorflow.keras.datasets import mnist\n",
    "(train_images, train_labels), (test_images, test_labels) = mnist.load_data()"
   ]
  },
  {
   "cell_type": "code",
   "execution_count": null,
   "id": "ef5b9076-f18e-4700-986e-9597c7bde6aa",
   "metadata": {},
   "outputs": [],
   "source": [
    "train_images.shape\n"
   ]
  },
  {
   "cell_type": "code",
   "execution_count": null,
   "id": "27ae3b4d-e86b-4961-a3b3-3b3448087f38",
   "metadata": {},
   "outputs": [],
   "source": [
    "image_number = 8444\n",
    "plt.imshow(train_images[image_number], cmap='gray')\n",
    "print('Labeled as:', train_labels[image_number])"
   ]
  },
  {
   "cell_type": "code",
   "execution_count": null,
   "id": "819607c7-e1a8-4512-bb01-2a0616946a5d",
   "metadata": {},
   "outputs": [],
   "source": [
    "train_labels[image_number]"
   ]
  },
  {
   "cell_type": "code",
   "execution_count": null,
   "id": "7ece3008-1609-423c-8ac3-f2280ddeef2a",
   "metadata": {},
   "outputs": [],
   "source": [
    "# We reshape the image arrays in  a form that can be fed to the CNN\n",
    "train_images = train_images.reshape((60000, 28, 28, 1))\n",
    "train_images = train_images.astype(\"float32\") / 255\n",
    "test_images = test_images.reshape((10000, 28, 28, 1))\n",
    "test_images = test_images.astype(\"float32\") / 255"
   ]
  },
  {
   "cell_type": "code",
   "execution_count": null,
   "id": "108e205f-f070-44ab-b17c-35085f2b4d0b",
   "metadata": {},
   "outputs": [],
   "source": [
    "from tensorflow import keras\n",
    "from tensorflow.keras.layers import Flatten, MaxPooling2D, Conv2D, Input\n",
    "model = keras.Sequential()\n",
    "model.add(Input(shape=(28, 28, 1)))\n",
    "model.add(Conv2D(filters=32, kernel_size=3, activation=\"relu\"))\n",
    "model.add(MaxPooling2D(pool_size=2))\n",
    "model.add(Conv2D(filters=64, kernel_size=3, activation=\"relu\"))\n",
    "model.add(MaxPooling2D(pool_size=2))\n",
    "model.add(Conv2D(filters=128, kernel_size=3, activation=\"relu\"))\n",
    "model.add(Flatten())\n",
    "model.add(Dense(10, activation='softmax'))\n",
    "\n",
    "# compile the keras model\n",
    "model.compile(loss='binary_crossentropy', optimizer='adam', metrics=['accuracy'])"
   ]
  },
  {
   "cell_type": "code",
   "execution_count": null,
   "id": "1189a2a5-e963-4ef2-8b21-017802cd266b",
   "metadata": {},
   "outputs": [],
   "source": [
    "model.summary()"
   ]
  },
  {
   "cell_type": "code",
   "execution_count": null,
   "id": "ab9ed56c-b44b-4468-8f15-527f1ba9e3ec",
   "metadata": {},
   "outputs": [],
   "source": [
    "model.compile(optimizer=\"rmsprop\", loss=\"sparse_categorical_crossentropy\", metrics=[\"accuracy\"])\n",
    "model.fit(train_images, train_labels, epochs=5, batch_size=64)"
   ]
  },
  {
   "cell_type": "code",
   "execution_count": null,
   "id": "2ecc5bc1-f932-4019-a534-45a60e05e685",
   "metadata": {},
   "outputs": [],
   "source": [
    "test_loss, test_acc = model.evaluate(test_images, test_labels)\n",
    "print(\"Test accuracy:\", test_acc)"
   ]
  },
  {
   "cell_type": "code",
   "execution_count": null,
   "id": "3b29c705-aac6-4e82-b1f6-75b4a8450fe6",
   "metadata": {},
   "outputs": [],
   "source": []
  },
  {
   "cell_type": "markdown",
   "id": "5ce1d646-6e55-4dbc-9516-2299fa090fe3",
   "metadata": {},
   "source": [
    "## Example of the same model built using the Keras Functional API  \n",
    "```Python  \n",
    "from tensorflow import keras\n",
    "from tensorflow.keras import layers\n",
    "inputs = keras.Input(shape=(28, 28, 1))\n",
    "x = layers.Conv2D(filters=32, kernel_size=3, activation=\"relu\")(inputs)\n",
    "x = layers.MaxPooling2D(pool_size=2)(x)\n",
    "x = layers.Conv2D(filters=64, kernel_size=3, activation=\"relu\")(x)\n",
    "x = layers.MaxPooling2D(pool_size=2)(x)\n",
    "x = layers.Conv2D(filters=128, kernel_size=3, activation=\"relu\")(x)\n",
    "x = layers.Flatten()(x)\n",
    "outputs = layers.Dense(10, activation=\"softmax\")(x)\n",
    "model = keras.Model(inputs=inputs, outputs=outputs)\n",
    "```"
   ]
  },
  {
   "cell_type": "code",
   "execution_count": null,
   "id": "c14e1ae8-0e57-4853-b1b1-61e6b8b54ba6",
   "metadata": {},
   "outputs": [],
   "source": []
  }
 ],
 "metadata": {
  "kernelspec": {
   "display_name": "Python [conda env:mggy8413]",
   "language": "python",
   "name": "conda-env-mggy8413-py"
  },
  "language_info": {
   "codemirror_mode": {
    "name": "ipython",
    "version": 3
   },
   "file_extension": ".py",
   "mimetype": "text/x-python",
   "name": "python",
   "nbconvert_exporter": "python",
   "pygments_lexer": "ipython3",
   "version": "3.9.7"
  }
 },
 "nbformat": 4,
 "nbformat_minor": 5
}
