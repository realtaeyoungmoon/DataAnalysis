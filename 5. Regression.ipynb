{
 "cells": [
  {
   "cell_type": "markdown",
   "id": "c8396dc0-0786-41c5-b5b5-284023a41e76",
   "metadata": {},
   "source": [
    "# Regression Analysis"
   ]
  },
  {
   "cell_type": "markdown",
   "id": "4a96887b-399a-4b77-b63f-394fb5115a53",
   "metadata": {},
   "source": [
    "#### Usual library imports first"
   ]
  },
  {
   "cell_type": "code",
   "execution_count": 1,
   "id": "9bd416c2",
   "metadata": {},
   "outputs": [],
   "source": [
    "import numpy as np\n",
    "import matplotlib.pyplot as plt\n",
    "import pandas as pd\n",
    "import statsmodels.api as sm\n",
    "import seaborn as sns\n",
    "from scipy import stats\n",
    "from sklearn import datasets\n",
    "from sklearn import metrics\n",
    "from sklearn.preprocessing import PolynomialFeatures\n",
    "from sklearn.metrics import mean_squared_error\n",
    "import sklearn.preprocessing as preproc\n",
    "import statsmodels.formula.api as smf\n",
    "from sklearn.metrics import confusion_matrix, accuracy_score, classification_report, plot_confusion_matrix\n",
    "from sklearn.metrics import mean_absolute_error, mean_squared_error\n",
    "from sklearn.model_selection import train_test_split"
   ]
  },
  {
   "cell_type": "markdown",
   "id": "e6a425ab-4fdc-4a00-9da9-04aaf0de1f8e",
   "metadata": {},
   "source": [
    "#### Load mtcars dataset"
   ]
  },
  {
   "cell_type": "code",
   "execution_count": 2,
   "id": "0e195d4f",
   "metadata": {},
   "outputs": [
    {
     "data": {
      "text/html": [
       "<div>\n",
       "<style scoped>\n",
       "    .dataframe tbody tr th:only-of-type {\n",
       "        vertical-align: middle;\n",
       "    }\n",
       "\n",
       "    .dataframe tbody tr th {\n",
       "        vertical-align: top;\n",
       "    }\n",
       "\n",
       "    .dataframe thead th {\n",
       "        text-align: right;\n",
       "    }\n",
       "</style>\n",
       "<table border=\"1\" class=\"dataframe\">\n",
       "  <thead>\n",
       "    <tr style=\"text-align: right;\">\n",
       "      <th></th>\n",
       "      <th>mpg</th>\n",
       "      <th>cyl</th>\n",
       "      <th>disp</th>\n",
       "      <th>hp</th>\n",
       "      <th>drat</th>\n",
       "      <th>wt</th>\n",
       "      <th>qsec</th>\n",
       "      <th>vs</th>\n",
       "      <th>am</th>\n",
       "      <th>gear</th>\n",
       "      <th>carb</th>\n",
       "    </tr>\n",
       "  </thead>\n",
       "  <tbody>\n",
       "    <tr>\n",
       "      <th>Maserati Bora</th>\n",
       "      <td>15.0</td>\n",
       "      <td>8</td>\n",
       "      <td>301.0</td>\n",
       "      <td>335</td>\n",
       "      <td>3.54</td>\n",
       "      <td>3.57</td>\n",
       "      <td>14.60</td>\n",
       "      <td>0</td>\n",
       "      <td>1</td>\n",
       "      <td>5</td>\n",
       "      <td>8</td>\n",
       "    </tr>\n",
       "    <tr>\n",
       "      <th>Duster 360</th>\n",
       "      <td>14.3</td>\n",
       "      <td>8</td>\n",
       "      <td>360.0</td>\n",
       "      <td>245</td>\n",
       "      <td>3.21</td>\n",
       "      <td>3.57</td>\n",
       "      <td>15.84</td>\n",
       "      <td>0</td>\n",
       "      <td>0</td>\n",
       "      <td>3</td>\n",
       "      <td>4</td>\n",
       "    </tr>\n",
       "    <tr>\n",
       "      <th>Merc 450SL</th>\n",
       "      <td>17.3</td>\n",
       "      <td>8</td>\n",
       "      <td>275.8</td>\n",
       "      <td>180</td>\n",
       "      <td>3.07</td>\n",
       "      <td>3.73</td>\n",
       "      <td>17.60</td>\n",
       "      <td>0</td>\n",
       "      <td>0</td>\n",
       "      <td>3</td>\n",
       "      <td>3</td>\n",
       "    </tr>\n",
       "    <tr>\n",
       "      <th>Merc 230</th>\n",
       "      <td>22.8</td>\n",
       "      <td>4</td>\n",
       "      <td>140.8</td>\n",
       "      <td>95</td>\n",
       "      <td>3.92</td>\n",
       "      <td>3.15</td>\n",
       "      <td>22.90</td>\n",
       "      <td>1</td>\n",
       "      <td>0</td>\n",
       "      <td>4</td>\n",
       "      <td>2</td>\n",
       "    </tr>\n",
       "  </tbody>\n",
       "</table>\n",
       "</div>"
      ],
      "text/plain": [
       "                mpg  cyl   disp   hp  drat    wt   qsec  vs  am  gear  carb\n",
       "Maserati Bora  15.0    8  301.0  335  3.54  3.57  14.60   0   1     5     8\n",
       "Duster 360     14.3    8  360.0  245  3.21  3.57  15.84   0   0     3     4\n",
       "Merc 450SL     17.3    8  275.8  180  3.07  3.73  17.60   0   0     3     3\n",
       "Merc 230       22.8    4  140.8   95  3.92  3.15  22.90   1   0     4     2"
      ]
     },
     "execution_count": 2,
     "metadata": {},
     "output_type": "execute_result"
    }
   ],
   "source": [
    "mtcars = sm.datasets.get_rdataset('mtcars').data\n",
    "mtcars.sample(4)"
   ]
  },
  {
   "cell_type": "code",
   "execution_count": 3,
   "id": "93b8d95e-4dcd-4003-b5cf-e4fa7efcb4f7",
   "metadata": {},
   "outputs": [
    {
     "data": {
      "text/plain": [
       "Index(['mpg', 'cyl', 'disp', 'hp', 'drat', 'wt', 'qsec', 'vs', 'am', 'gear',\n",
       "       'carb'],\n",
       "      dtype='object')"
      ]
     },
     "execution_count": 3,
     "metadata": {},
     "output_type": "execute_result"
    }
   ],
   "source": [
    "mtcars.columns"
   ]
  },
  {
   "cell_type": "markdown",
   "id": "f4ac28ba-7cc2-4259-acdc-64fcfdbe7ace",
   "metadata": {},
   "source": [
    "#### Split dataset between X (features, or predictors) and y (target)"
   ]
  },
  {
   "cell_type": "code",
   "execution_count": 4,
   "id": "621fd4e5-4063-4924-a192-1317ad19d661",
   "metadata": {},
   "outputs": [
    {
     "name": "stderr",
     "output_type": "stream",
     "text": [
      "/opt/conda/envs/mggy8413/lib/python3.9/site-packages/statsmodels/tsa/tsatools.py:142: FutureWarning: In a future version of pandas all arguments of concat except for the argument 'objs' will be keyword-only\n",
      "  x = pd.concat(x[::order], 1)\n"
     ]
    }
   ],
   "source": [
    "y = mtcars.mpg.values\n",
    "\n",
    "# sm.add_constant adds a column to the dataframe with 1.0 as a constant\n",
    "features = mtcars.iloc[:,1:]\n",
    "X = sm.add_constant(features)"
   ]
  },
  {
   "cell_type": "code",
   "execution_count": 5,
   "id": "13e9903f-2f1f-45e6-b069-075c89c77919",
   "metadata": {},
   "outputs": [
    {
     "name": "stdout",
     "output_type": "stream",
     "text": [
      "(32, 11)\n",
      "(32, 11)\n",
      "(32, 10)\n"
     ]
    }
   ],
   "source": [
    "print(mtcars.shape)\n",
    "print(X.shape)\n",
    "print(features.shape)"
   ]
  },
  {
   "cell_type": "markdown",
   "id": "89e3b554-3cf5-436c-ad7f-71c778001b1a",
   "metadata": {},
   "source": [
    "#### Build model and obtain summary"
   ]
  },
  {
   "cell_type": "code",
   "execution_count": 6,
   "id": "a338a760-fba8-4a40-a3fd-ebd6751046ff",
   "metadata": {},
   "outputs": [
    {
     "data": {
      "text/html": [
       "<table class=\"simpletable\">\n",
       "<caption>OLS Regression Results</caption>\n",
       "<tr>\n",
       "  <th>Dep. Variable:</th>            <td>y</td>        <th>  R-squared:         </th> <td>   0.869</td>\n",
       "</tr>\n",
       "<tr>\n",
       "  <th>Model:</th>                   <td>OLS</td>       <th>  Adj. R-squared:    </th> <td>   0.807</td>\n",
       "</tr>\n",
       "<tr>\n",
       "  <th>Method:</th>             <td>Least Squares</td>  <th>  F-statistic:       </th> <td>   13.93</td>\n",
       "</tr>\n",
       "<tr>\n",
       "  <th>Date:</th>             <td>Fri, 08 Oct 2021</td> <th>  Prob (F-statistic):</th> <td>3.79e-07</td>\n",
       "</tr>\n",
       "<tr>\n",
       "  <th>Time:</th>                 <td>23:13:49</td>     <th>  Log-Likelihood:    </th> <td> -69.855</td>\n",
       "</tr>\n",
       "<tr>\n",
       "  <th>No. Observations:</th>      <td>    32</td>      <th>  AIC:               </th> <td>   161.7</td>\n",
       "</tr>\n",
       "<tr>\n",
       "  <th>Df Residuals:</th>          <td>    21</td>      <th>  BIC:               </th> <td>   177.8</td>\n",
       "</tr>\n",
       "<tr>\n",
       "  <th>Df Model:</th>              <td>    10</td>      <th>                     </th>     <td> </td>   \n",
       "</tr>\n",
       "<tr>\n",
       "  <th>Covariance Type:</th>      <td>nonrobust</td>    <th>                     </th>     <td> </td>   \n",
       "</tr>\n",
       "</table>\n",
       "<table class=\"simpletable\">\n",
       "<tr>\n",
       "    <td></td>       <th>coef</th>     <th>std err</th>      <th>t</th>      <th>P>|t|</th>  <th>[0.025</th>    <th>0.975]</th>  \n",
       "</tr>\n",
       "<tr>\n",
       "  <th>const</th> <td>   12.3034</td> <td>   18.718</td> <td>    0.657</td> <td> 0.518</td> <td>  -26.623</td> <td>   51.229</td>\n",
       "</tr>\n",
       "<tr>\n",
       "  <th>cyl</th>   <td>   -0.1114</td> <td>    1.045</td> <td>   -0.107</td> <td> 0.916</td> <td>   -2.285</td> <td>    2.062</td>\n",
       "</tr>\n",
       "<tr>\n",
       "  <th>disp</th>  <td>    0.0133</td> <td>    0.018</td> <td>    0.747</td> <td> 0.463</td> <td>   -0.024</td> <td>    0.050</td>\n",
       "</tr>\n",
       "<tr>\n",
       "  <th>hp</th>    <td>   -0.0215</td> <td>    0.022</td> <td>   -0.987</td> <td> 0.335</td> <td>   -0.067</td> <td>    0.024</td>\n",
       "</tr>\n",
       "<tr>\n",
       "  <th>drat</th>  <td>    0.7871</td> <td>    1.635</td> <td>    0.481</td> <td> 0.635</td> <td>   -2.614</td> <td>    4.188</td>\n",
       "</tr>\n",
       "<tr>\n",
       "  <th>wt</th>    <td>   -3.7153</td> <td>    1.894</td> <td>   -1.961</td> <td> 0.063</td> <td>   -7.655</td> <td>    0.224</td>\n",
       "</tr>\n",
       "<tr>\n",
       "  <th>qsec</th>  <td>    0.8210</td> <td>    0.731</td> <td>    1.123</td> <td> 0.274</td> <td>   -0.699</td> <td>    2.341</td>\n",
       "</tr>\n",
       "<tr>\n",
       "  <th>vs</th>    <td>    0.3178</td> <td>    2.105</td> <td>    0.151</td> <td> 0.881</td> <td>   -4.059</td> <td>    4.694</td>\n",
       "</tr>\n",
       "<tr>\n",
       "  <th>am</th>    <td>    2.5202</td> <td>    2.057</td> <td>    1.225</td> <td> 0.234</td> <td>   -1.757</td> <td>    6.797</td>\n",
       "</tr>\n",
       "<tr>\n",
       "  <th>gear</th>  <td>    0.6554</td> <td>    1.493</td> <td>    0.439</td> <td> 0.665</td> <td>   -2.450</td> <td>    3.761</td>\n",
       "</tr>\n",
       "<tr>\n",
       "  <th>carb</th>  <td>   -0.1994</td> <td>    0.829</td> <td>   -0.241</td> <td> 0.812</td> <td>   -1.923</td> <td>    1.524</td>\n",
       "</tr>\n",
       "</table>\n",
       "<table class=\"simpletable\">\n",
       "<tr>\n",
       "  <th>Omnibus:</th>       <td> 1.907</td> <th>  Durbin-Watson:     </th> <td>   1.861</td>\n",
       "</tr>\n",
       "<tr>\n",
       "  <th>Prob(Omnibus):</th> <td> 0.385</td> <th>  Jarque-Bera (JB):  </th> <td>   1.747</td>\n",
       "</tr>\n",
       "<tr>\n",
       "  <th>Skew:</th>          <td> 0.521</td> <th>  Prob(JB):          </th> <td>   0.418</td>\n",
       "</tr>\n",
       "<tr>\n",
       "  <th>Kurtosis:</th>      <td> 2.526</td> <th>  Cond. No.          </th> <td>1.22e+04</td>\n",
       "</tr>\n",
       "</table><br/><br/>Notes:<br/>[1] Standard Errors assume that the covariance matrix of the errors is correctly specified.<br/>[2] The condition number is large, 1.22e+04. This might indicate that there are<br/>strong multicollinearity or other numerical problems."
      ],
      "text/plain": [
       "<class 'statsmodels.iolib.summary.Summary'>\n",
       "\"\"\"\n",
       "                            OLS Regression Results                            \n",
       "==============================================================================\n",
       "Dep. Variable:                      y   R-squared:                       0.869\n",
       "Model:                            OLS   Adj. R-squared:                  0.807\n",
       "Method:                 Least Squares   F-statistic:                     13.93\n",
       "Date:                Fri, 08 Oct 2021   Prob (F-statistic):           3.79e-07\n",
       "Time:                        23:13:49   Log-Likelihood:                -69.855\n",
       "No. Observations:                  32   AIC:                             161.7\n",
       "Df Residuals:                      21   BIC:                             177.8\n",
       "Df Model:                          10                                         \n",
       "Covariance Type:            nonrobust                                         \n",
       "==============================================================================\n",
       "                 coef    std err          t      P>|t|      [0.025      0.975]\n",
       "------------------------------------------------------------------------------\n",
       "const         12.3034     18.718      0.657      0.518     -26.623      51.229\n",
       "cyl           -0.1114      1.045     -0.107      0.916      -2.285       2.062\n",
       "disp           0.0133      0.018      0.747      0.463      -0.024       0.050\n",
       "hp            -0.0215      0.022     -0.987      0.335      -0.067       0.024\n",
       "drat           0.7871      1.635      0.481      0.635      -2.614       4.188\n",
       "wt            -3.7153      1.894     -1.961      0.063      -7.655       0.224\n",
       "qsec           0.8210      0.731      1.123      0.274      -0.699       2.341\n",
       "vs             0.3178      2.105      0.151      0.881      -4.059       4.694\n",
       "am             2.5202      2.057      1.225      0.234      -1.757       6.797\n",
       "gear           0.6554      1.493      0.439      0.665      -2.450       3.761\n",
       "carb          -0.1994      0.829     -0.241      0.812      -1.923       1.524\n",
       "==============================================================================\n",
       "Omnibus:                        1.907   Durbin-Watson:                   1.861\n",
       "Prob(Omnibus):                  0.385   Jarque-Bera (JB):                1.747\n",
       "Skew:                           0.521   Prob(JB):                        0.418\n",
       "Kurtosis:                       2.526   Cond. No.                     1.22e+04\n",
       "==============================================================================\n",
       "\n",
       "Notes:\n",
       "[1] Standard Errors assume that the covariance matrix of the errors is correctly specified.\n",
       "[2] The condition number is large, 1.22e+04. This might indicate that there are\n",
       "strong multicollinearity or other numerical problems.\n",
       "\"\"\""
      ]
     },
     "execution_count": 6,
     "metadata": {},
     "output_type": "execute_result"
    }
   ],
   "source": [
    "model = sm.OLS(y, X).fit()\n",
    "model.summary()"
   ]
  },
  {
   "cell_type": "markdown",
   "id": "4a49d67e-e81d-43d5-9f0a-acb14cdc8401",
   "metadata": {},
   "source": [
    "#### Perform predictions"
   ]
  },
  {
   "cell_type": "code",
   "execution_count": 7,
   "id": "9789474a-95a9-4c1c-9b1d-ffa9fcfdd763",
   "metadata": {},
   "outputs": [
    {
     "data": {
      "text/plain": [
       "Mazda RX4              22.599506\n",
       "Mazda RX4 Wag          22.111886\n",
       "Datsun 710             26.250644\n",
       "Hornet 4 Drive         21.237405\n",
       "Hornet Sportabout      17.693434\n",
       "Valiant                20.383039\n",
       "Duster 360             14.386256\n",
       "Merc 240D              22.496012\n",
       "Merc 230               24.419090\n",
       "Merc 280               18.699030\n",
       "Merc 280C              19.191654\n",
       "Merc 450SE             14.172162\n",
       "Merc 450SL             15.599574\n",
       "Merc 450SLC            15.742225\n",
       "Cadillac Fleetwood     12.034013\n",
       "Lincoln Continental    10.936438\n",
       "Chrysler Imperial      10.493629\n",
       "Fiat 128               27.772906\n",
       "Honda Civic            29.896739\n",
       "Toyota Corolla         29.512369\n",
       "Toyota Corona          23.643103\n",
       "Dodge Challenger       16.943053\n",
       "AMC Javelin            17.732181\n",
       "Camaro Z28             13.306022\n",
       "Pontiac Firebird       16.691679\n",
       "Fiat X1-9              28.293469\n",
       "Porsche 914-2          26.152954\n",
       "Lotus Europa           27.636273\n",
       "Ford Pantera L         18.870041\n",
       "Ferrari Dino           19.693828\n",
       "Maserati Bora          13.941118\n",
       "Volvo 142E             24.368268\n",
       "dtype: float64"
      ]
     },
     "execution_count": 7,
     "metadata": {},
     "output_type": "execute_result"
    }
   ],
   "source": [
    "model.predict(X)"
   ]
  },
  {
   "cell_type": "code",
   "execution_count": 8,
   "id": "a64b8799-8f97-4757-8bc1-b4d4efeb9e8d",
   "metadata": {},
   "outputs": [
    {
     "data": {
      "text/plain": [
       "<statsmodels.regression.linear_model.RegressionResultsWrapper at 0x7ff70efd88b0>"
      ]
     },
     "execution_count": 8,
     "metadata": {},
     "output_type": "execute_result"
    }
   ],
   "source": [
    "model"
   ]
  },
  {
   "cell_type": "code",
   "execution_count": 9,
   "id": "f71e0a28-9e53-4580-8be7-568b22c39aca",
   "metadata": {},
   "outputs": [
    {
     "data": {
      "text/html": [
       "<div>\n",
       "<style scoped>\n",
       "    .dataframe tbody tr th:only-of-type {\n",
       "        vertical-align: middle;\n",
       "    }\n",
       "\n",
       "    .dataframe tbody tr th {\n",
       "        vertical-align: top;\n",
       "    }\n",
       "\n",
       "    .dataframe thead th {\n",
       "        text-align: right;\n",
       "    }\n",
       "</style>\n",
       "<table border=\"1\" class=\"dataframe\">\n",
       "  <thead>\n",
       "    <tr style=\"text-align: right;\">\n",
       "      <th></th>\n",
       "      <th>mpg</th>\n",
       "      <th>pred</th>\n",
       "      <th>difference</th>\n",
       "    </tr>\n",
       "  </thead>\n",
       "  <tbody>\n",
       "    <tr>\n",
       "      <th>Mazda RX4</th>\n",
       "      <td>21.0</td>\n",
       "      <td>22.599506</td>\n",
       "      <td>-1.599506</td>\n",
       "    </tr>\n",
       "    <tr>\n",
       "      <th>Mazda RX4 Wag</th>\n",
       "      <td>21.0</td>\n",
       "      <td>22.111886</td>\n",
       "      <td>-1.111886</td>\n",
       "    </tr>\n",
       "    <tr>\n",
       "      <th>Datsun 710</th>\n",
       "      <td>22.8</td>\n",
       "      <td>26.250644</td>\n",
       "      <td>-3.450644</td>\n",
       "    </tr>\n",
       "    <tr>\n",
       "      <th>Hornet 4 Drive</th>\n",
       "      <td>21.4</td>\n",
       "      <td>21.237405</td>\n",
       "      <td>0.162595</td>\n",
       "    </tr>\n",
       "    <tr>\n",
       "      <th>Hornet Sportabout</th>\n",
       "      <td>18.7</td>\n",
       "      <td>17.693434</td>\n",
       "      <td>1.006566</td>\n",
       "    </tr>\n",
       "    <tr>\n",
       "      <th>Valiant</th>\n",
       "      <td>18.1</td>\n",
       "      <td>20.383039</td>\n",
       "      <td>-2.283039</td>\n",
       "    </tr>\n",
       "    <tr>\n",
       "      <th>Duster 360</th>\n",
       "      <td>14.3</td>\n",
       "      <td>14.386256</td>\n",
       "      <td>-0.086256</td>\n",
       "    </tr>\n",
       "    <tr>\n",
       "      <th>Merc 240D</th>\n",
       "      <td>24.4</td>\n",
       "      <td>22.496012</td>\n",
       "      <td>1.903988</td>\n",
       "    </tr>\n",
       "    <tr>\n",
       "      <th>Merc 230</th>\n",
       "      <td>22.8</td>\n",
       "      <td>24.419090</td>\n",
       "      <td>-1.619090</td>\n",
       "    </tr>\n",
       "    <tr>\n",
       "      <th>Merc 280</th>\n",
       "      <td>19.2</td>\n",
       "      <td>18.699030</td>\n",
       "      <td>0.500970</td>\n",
       "    </tr>\n",
       "    <tr>\n",
       "      <th>Merc 280C</th>\n",
       "      <td>17.8</td>\n",
       "      <td>19.191654</td>\n",
       "      <td>-1.391654</td>\n",
       "    </tr>\n",
       "    <tr>\n",
       "      <th>Merc 450SE</th>\n",
       "      <td>16.4</td>\n",
       "      <td>14.172162</td>\n",
       "      <td>2.227838</td>\n",
       "    </tr>\n",
       "    <tr>\n",
       "      <th>Merc 450SL</th>\n",
       "      <td>17.3</td>\n",
       "      <td>15.599574</td>\n",
       "      <td>1.700426</td>\n",
       "    </tr>\n",
       "    <tr>\n",
       "      <th>Merc 450SLC</th>\n",
       "      <td>15.2</td>\n",
       "      <td>15.742225</td>\n",
       "      <td>-0.542225</td>\n",
       "    </tr>\n",
       "    <tr>\n",
       "      <th>Cadillac Fleetwood</th>\n",
       "      <td>10.4</td>\n",
       "      <td>12.034013</td>\n",
       "      <td>-1.634013</td>\n",
       "    </tr>\n",
       "    <tr>\n",
       "      <th>Lincoln Continental</th>\n",
       "      <td>10.4</td>\n",
       "      <td>10.936438</td>\n",
       "      <td>-0.536438</td>\n",
       "    </tr>\n",
       "    <tr>\n",
       "      <th>Chrysler Imperial</th>\n",
       "      <td>14.7</td>\n",
       "      <td>10.493629</td>\n",
       "      <td>4.206371</td>\n",
       "    </tr>\n",
       "    <tr>\n",
       "      <th>Fiat 128</th>\n",
       "      <td>32.4</td>\n",
       "      <td>27.772906</td>\n",
       "      <td>4.627094</td>\n",
       "    </tr>\n",
       "    <tr>\n",
       "      <th>Honda Civic</th>\n",
       "      <td>30.4</td>\n",
       "      <td>29.896739</td>\n",
       "      <td>0.503261</td>\n",
       "    </tr>\n",
       "    <tr>\n",
       "      <th>Toyota Corolla</th>\n",
       "      <td>33.9</td>\n",
       "      <td>29.512369</td>\n",
       "      <td>4.387631</td>\n",
       "    </tr>\n",
       "    <tr>\n",
       "      <th>Toyota Corona</th>\n",
       "      <td>21.5</td>\n",
       "      <td>23.643103</td>\n",
       "      <td>-2.143103</td>\n",
       "    </tr>\n",
       "    <tr>\n",
       "      <th>Dodge Challenger</th>\n",
       "      <td>15.5</td>\n",
       "      <td>16.943053</td>\n",
       "      <td>-1.443053</td>\n",
       "    </tr>\n",
       "    <tr>\n",
       "      <th>AMC Javelin</th>\n",
       "      <td>15.2</td>\n",
       "      <td>17.732181</td>\n",
       "      <td>-2.532181</td>\n",
       "    </tr>\n",
       "    <tr>\n",
       "      <th>Camaro Z28</th>\n",
       "      <td>13.3</td>\n",
       "      <td>13.306022</td>\n",
       "      <td>-0.006022</td>\n",
       "    </tr>\n",
       "    <tr>\n",
       "      <th>Pontiac Firebird</th>\n",
       "      <td>19.2</td>\n",
       "      <td>16.691679</td>\n",
       "      <td>2.508321</td>\n",
       "    </tr>\n",
       "    <tr>\n",
       "      <th>Fiat X1-9</th>\n",
       "      <td>27.3</td>\n",
       "      <td>28.293469</td>\n",
       "      <td>-0.993469</td>\n",
       "    </tr>\n",
       "    <tr>\n",
       "      <th>Porsche 914-2</th>\n",
       "      <td>26.0</td>\n",
       "      <td>26.152954</td>\n",
       "      <td>-0.152954</td>\n",
       "    </tr>\n",
       "    <tr>\n",
       "      <th>Lotus Europa</th>\n",
       "      <td>30.4</td>\n",
       "      <td>27.636273</td>\n",
       "      <td>2.763727</td>\n",
       "    </tr>\n",
       "    <tr>\n",
       "      <th>Ford Pantera L</th>\n",
       "      <td>15.8</td>\n",
       "      <td>18.870041</td>\n",
       "      <td>-3.070041</td>\n",
       "    </tr>\n",
       "    <tr>\n",
       "      <th>Ferrari Dino</th>\n",
       "      <td>19.7</td>\n",
       "      <td>19.693828</td>\n",
       "      <td>0.006172</td>\n",
       "    </tr>\n",
       "    <tr>\n",
       "      <th>Maserati Bora</th>\n",
       "      <td>15.0</td>\n",
       "      <td>13.941118</td>\n",
       "      <td>1.058882</td>\n",
       "    </tr>\n",
       "    <tr>\n",
       "      <th>Volvo 142E</th>\n",
       "      <td>21.4</td>\n",
       "      <td>24.368268</td>\n",
       "      <td>-2.968268</td>\n",
       "    </tr>\n",
       "  </tbody>\n",
       "</table>\n",
       "</div>"
      ],
      "text/plain": [
       "                      mpg       pred  difference\n",
       "Mazda RX4            21.0  22.599506   -1.599506\n",
       "Mazda RX4 Wag        21.0  22.111886   -1.111886\n",
       "Datsun 710           22.8  26.250644   -3.450644\n",
       "Hornet 4 Drive       21.4  21.237405    0.162595\n",
       "Hornet Sportabout    18.7  17.693434    1.006566\n",
       "Valiant              18.1  20.383039   -2.283039\n",
       "Duster 360           14.3  14.386256   -0.086256\n",
       "Merc 240D            24.4  22.496012    1.903988\n",
       "Merc 230             22.8  24.419090   -1.619090\n",
       "Merc 280             19.2  18.699030    0.500970\n",
       "Merc 280C            17.8  19.191654   -1.391654\n",
       "Merc 450SE           16.4  14.172162    2.227838\n",
       "Merc 450SL           17.3  15.599574    1.700426\n",
       "Merc 450SLC          15.2  15.742225   -0.542225\n",
       "Cadillac Fleetwood   10.4  12.034013   -1.634013\n",
       "Lincoln Continental  10.4  10.936438   -0.536438\n",
       "Chrysler Imperial    14.7  10.493629    4.206371\n",
       "Fiat 128             32.4  27.772906    4.627094\n",
       "Honda Civic          30.4  29.896739    0.503261\n",
       "Toyota Corolla       33.9  29.512369    4.387631\n",
       "Toyota Corona        21.5  23.643103   -2.143103\n",
       "Dodge Challenger     15.5  16.943053   -1.443053\n",
       "AMC Javelin          15.2  17.732181   -2.532181\n",
       "Camaro Z28           13.3  13.306022   -0.006022\n",
       "Pontiac Firebird     19.2  16.691679    2.508321\n",
       "Fiat X1-9            27.3  28.293469   -0.993469\n",
       "Porsche 914-2        26.0  26.152954   -0.152954\n",
       "Lotus Europa         30.4  27.636273    2.763727\n",
       "Ford Pantera L       15.8  18.870041   -3.070041\n",
       "Ferrari Dino         19.7  19.693828    0.006172\n",
       "Maserati Bora        15.0  13.941118    1.058882\n",
       "Volvo 142E           21.4  24.368268   -2.968268"
      ]
     },
     "execution_count": 9,
     "metadata": {},
     "output_type": "execute_result"
    }
   ],
   "source": [
    "preds = pd.DataFrame(model.predict(X), index = list(mtcars.index), columns = ['pred'])\n",
    "\n",
    "compare = pd.DataFrame(mtcars['mpg'])\n",
    "compare['pred'] = preds.pred\n",
    "compare['difference'] = compare.mpg - compare.pred\n",
    "\n",
    "compare\n"
   ]
  },
  {
   "cell_type": "code",
   "execution_count": 10,
   "id": "34c5b8a4-ada2-46a5-a403-52455a4d293c",
   "metadata": {},
   "outputs": [
    {
     "data": {
      "text/plain": [
       "count    32.000\n",
       "mean      0.000\n",
       "std       2.181\n",
       "min      -3.451\n",
       "25%      -1.604\n",
       "50%      -0.120\n",
       "75%       1.219\n",
       "max       4.627\n",
       "Name: difference, dtype: float64"
      ]
     },
     "execution_count": 10,
     "metadata": {},
     "output_type": "execute_result"
    }
   ],
   "source": [
    "round(compare.difference.describe(),3)"
   ]
  },
  {
   "cell_type": "markdown",
   "id": "a9775673-6c23-4b8c-a7df-374799384139",
   "metadata": {},
   "source": [
    "***\n",
    "## Assessing the regression model"
   ]
  },
  {
   "cell_type": "markdown",
   "id": "e06ea7e4-626e-4684-9298-27ac0073bf3e",
   "metadata": {},
   "source": [
    "#### 1. Standard Error of Regression"
   ]
  },
  {
   "cell_type": "markdown",
   "id": "fe47a2b4-f513-426e-9805-c10fec37d1ba",
   "metadata": {},
   "source": [
    "The standard error of regression takes into account the degrees of freedom lost due to the number of regressors in the model, and the number of observations the model is based on.  It it considered a more accurate representation of the standard error of regression."
   ]
  },
  {
   "cell_type": "code",
   "execution_count": 11,
   "id": "9423a2a2-954f-460b-b887-f2afa4f16c62",
   "metadata": {},
   "outputs": [
    {
     "data": {
      "text/plain": [
       "2.6501970278655076"
      ]
     },
     "execution_count": 11,
     "metadata": {},
     "output_type": "execute_result"
    }
   ],
   "source": [
    "# Calculated as:\n",
    "model.mse_resid**.5"
   ]
  },
  {
   "cell_type": "code",
   "execution_count": 12,
   "id": "43cdedcf-7560-4af6-b1e4-95599f053b16",
   "metadata": {},
   "outputs": [
    {
     "data": {
      "text/plain": [
       "2.6501970278655076"
      ]
     },
     "execution_count": 12,
     "metadata": {},
     "output_type": "execute_result"
    }
   ],
   "source": [
    "# Also as:\n",
    "np.sqrt(np.sum(model.resid**2)/model.df_resid)"
   ]
  },
  {
   "cell_type": "code",
   "execution_count": 13,
   "id": "dfef110c-4d22-46d6-a094-01cab7e4d04d",
   "metadata": {},
   "outputs": [
    {
     "data": {
      "text/plain": [
       "2.6501970278655076"
      ]
     },
     "execution_count": 13,
     "metadata": {},
     "output_type": "execute_result"
    }
   ],
   "source": [
    "# Also calculated directly from the model as\n",
    "model.scale**.5"
   ]
  },
  {
   "cell_type": "markdown",
   "id": "3118eca5-f39d-4990-a393-15c2a5fbd700",
   "metadata": {},
   "source": [
    "`model.resid` is the residuals, and `model.df_resid` is the degrees of freedom for the model residuals"
   ]
  },
  {
   "cell_type": "code",
   "execution_count": 14,
   "id": "5e547985-2764-4401-96aa-c1f4a99d3e8a",
   "metadata": {},
   "outputs": [
    {
     "data": {
      "text/plain": [
       "21.0"
      ]
     },
     "execution_count": 14,
     "metadata": {},
     "output_type": "execute_result"
    }
   ],
   "source": [
    "model.df_resid"
   ]
  },
  {
   "cell_type": "markdown",
   "id": "e6f3c68c-f028-47eb-a915-5977be2eb76c",
   "metadata": {},
   "source": [
    "#### 2. Goodness of fit, R-squared"
   ]
  },
  {
   "cell_type": "markdown",
   "id": "10c44cf0-ee65-4894-9ced-ed86b4d432a9",
   "metadata": {},
   "source": [
    "##### R-squared is the square of the correlation betweeen actual and predicted values"
   ]
  },
  {
   "cell_type": "code",
   "execution_count": 15,
   "id": "dee00b03-1dfc-44ea-82f6-7fa642227490",
   "metadata": {},
   "outputs": [
    {
     "data": {
      "text/html": [
       "<div>\n",
       "<style scoped>\n",
       "    .dataframe tbody tr th:only-of-type {\n",
       "        vertical-align: middle;\n",
       "    }\n",
       "\n",
       "    .dataframe tbody tr th {\n",
       "        vertical-align: top;\n",
       "    }\n",
       "\n",
       "    .dataframe thead th {\n",
       "        text-align: right;\n",
       "    }\n",
       "</style>\n",
       "<table border=\"1\" class=\"dataframe\">\n",
       "  <thead>\n",
       "    <tr style=\"text-align: right;\">\n",
       "      <th></th>\n",
       "      <th>mpg</th>\n",
       "      <th>pred</th>\n",
       "      <th>difference</th>\n",
       "    </tr>\n",
       "  </thead>\n",
       "  <tbody>\n",
       "    <tr>\n",
       "      <th>mpg</th>\n",
       "      <td>1.000000</td>\n",
       "      <td>0.869016</td>\n",
       "      <td>0.130984</td>\n",
       "    </tr>\n",
       "    <tr>\n",
       "      <th>pred</th>\n",
       "      <td>0.869016</td>\n",
       "      <td>1.000000</td>\n",
       "      <td>0.000000</td>\n",
       "    </tr>\n",
       "    <tr>\n",
       "      <th>difference</th>\n",
       "      <td>0.130984</td>\n",
       "      <td>0.000000</td>\n",
       "      <td>1.000000</td>\n",
       "    </tr>\n",
       "  </tbody>\n",
       "</table>\n",
       "</div>"
      ],
      "text/plain": [
       "                 mpg      pred  difference\n",
       "mpg         1.000000  0.869016    0.130984\n",
       "pred        0.869016  1.000000    0.000000\n",
       "difference  0.130984  0.000000    1.000000"
      ]
     },
     "execution_count": 15,
     "metadata": {},
     "output_type": "execute_result"
    }
   ],
   "source": [
    "round(compare.corr()**2, 6)"
   ]
  },
  {
   "cell_type": "markdown",
   "id": "f801747d-a7a1-42fb-aea5-56c75b156fb1",
   "metadata": {},
   "source": [
    "#### Root mean squared error  \n",
    "The RMSE is just the square root of the average squared errors.  It is the same as if we had calculated the population standard deviation based on the residuals.\n",
    "\n",
    "RMSE is normally calculated for the test set, because for the training data we have the standard error of regression."
   ]
  },
  {
   "cell_type": "code",
   "execution_count": 16,
   "id": "548a4e07-a055-41b9-ae4c-2ca2f4ab83ea",
   "metadata": {},
   "outputs": [
    {
     "data": {
      "text/plain": [
       "2.1469049671609435"
      ]
     },
     "execution_count": 16,
     "metadata": {},
     "output_type": "execute_result"
    }
   ],
   "source": [
    "mean_squared_error(compare.pred, compare.mpg) **.5"
   ]
  },
  {
   "cell_type": "markdown",
   "id": "113ac2fe-96fc-4719-bd7f-6f13b6c96b2f",
   "metadata": {},
   "source": [
    "### 3. Understanding the F-statistic, and its p-value"
   ]
  },
  {
   "cell_type": "code",
   "execution_count": 17,
   "id": "7b6ffa6f-7c1c-42c8-9687-80a0474d0d38",
   "metadata": {},
   "outputs": [
    {
     "data": {
      "text/plain": [
       "13.932463690208843"
      ]
     },
     "execution_count": 17,
     "metadata": {},
     "output_type": "execute_result"
    }
   ],
   "source": [
    "# F stat=  (explained variance) / (unexplained variance)\n",
    "# F stat = (ESS/DFM) / (RSS/DFE)\n",
    "(model.ess/model.df_model) / (np.sum(model.resid**2)/model.df_resid)\n"
   ]
  },
  {
   "cell_type": "code",
   "execution_count": 18,
   "id": "c0196bed-2d05-4085-a5fc-705b7238e212",
   "metadata": {},
   "outputs": [
    {
     "data": {
      "text/plain": [
       "3.7931521057466e-07"
      ]
     },
     "execution_count": 18,
     "metadata": {},
     "output_type": "execute_result"
    }
   ],
   "source": [
    "# p value for F stat\n",
    "import scipy\n",
    "1-(scipy.stats.f.cdf(model.fvalue, model.df_model, model.df_resid))"
   ]
  },
  {
   "cell_type": "code",
   "execution_count": 19,
   "id": "276c3a10-f90a-474e-a9b8-a3fadfbe7777",
   "metadata": {},
   "outputs": [
    {
     "data": {
      "text/plain": [
       "13.932463690208843"
      ]
     },
     "execution_count": 19,
     "metadata": {},
     "output_type": "execute_result"
    }
   ],
   "source": [
    "# Getting f value directly from statsmodels\n",
    "model.fvalue"
   ]
  },
  {
   "cell_type": "code",
   "execution_count": 20,
   "id": "d0ec79aa-9f3d-4f3a-a495-bcf79f05f0f4",
   "metadata": {},
   "outputs": [
    {
     "data": {
      "text/plain": [
       "3.793152105305839e-07"
      ]
     },
     "execution_count": 20,
     "metadata": {},
     "output_type": "execute_result"
    }
   ],
   "source": [
    "# Getting the p value of the f statistic directly from statsmodels\n",
    "model.f_pvalue"
   ]
  },
  {
   "cell_type": "markdown",
   "id": "e67c1c7a-b635-4d18-8f07-5e6c8d46485e",
   "metadata": {},
   "source": [
    "##### Degrees of freedom"
   ]
  },
  {
   "cell_type": "code",
   "execution_count": 21,
   "id": "7dcce0c5-fcab-46f7-a51d-66e486e8af19",
   "metadata": {},
   "outputs": [],
   "source": [
    "# http://facweb.cs.depaul.edu/sjost/csc423/documents/f-test-reg.htm\n",
    "# Deg Fdm for Model, p-1, where p is number of regressors\n",
    "dfm = model.df_model"
   ]
  },
  {
   "cell_type": "code",
   "execution_count": 22,
   "id": "84b6cc29-5a49-495b-af2a-7ec30901a116",
   "metadata": {},
   "outputs": [
    {
     "data": {
      "text/plain": [
       "21.0"
      ]
     },
     "execution_count": 22,
     "metadata": {},
     "output_type": "execute_result"
    }
   ],
   "source": [
    "# n-p, Deg Fdm for Errors, where n is number of observations, and p is number of regressors\n",
    "model.df_resid"
   ]
  },
  {
   "cell_type": "markdown",
   "id": "cafb9c21-5627-4518-95fd-8108d96c443c",
   "metadata": {},
   "source": [
    "#### ESS, TSS and RSS calculations"
   ]
  },
  {
   "cell_type": "code",
   "execution_count": 23,
   "id": "732b08c8",
   "metadata": {},
   "outputs": [
    {
     "name": "stdout",
     "output_type": "stream",
     "text": [
      "0.8690157644777647\n",
      "RSS 147.4944300166506 \n",
      "ESS 978.5527574833493 \n",
      "TSS 1126.0471874999998\n",
      "ESS+RSS= 1126.0471874999998\n",
      "F value 199.035195574412\n",
      "ESS/TSS= 0.8690157644777647\n"
     ]
    }
   ],
   "source": [
    "y=mtcars.mpg.values\n",
    "RSS = np.sum(model.resid**2)\n",
    "TSS = np.sum((y - np.mean(y))**2)\n",
    "ESS= model.ess\n",
    "R_sq = 1 - RSS / TSS\n",
    "print(R_sq)\n",
    "print('RSS', RSS,'\\nESS', model.ess, '\\nTSS',  TSS)\n",
    "print('ESS+RSS=',RSS+model.ess)\n",
    "print('F value', ESS/(RSS/(30)))\n",
    "print('ESS/TSS=', ESS/TSS)"
   ]
  },
  {
   "cell_type": "code",
   "execution_count": 24,
   "id": "22fae77b",
   "metadata": {},
   "outputs": [
    {
     "data": {
      "text/html": [
       "<div>\n",
       "<style scoped>\n",
       "    .dataframe tbody tr th:only-of-type {\n",
       "        vertical-align: middle;\n",
       "    }\n",
       "\n",
       "    .dataframe tbody tr th {\n",
       "        vertical-align: top;\n",
       "    }\n",
       "\n",
       "    .dataframe thead th {\n",
       "        text-align: right;\n",
       "    }\n",
       "</style>\n",
       "<table border=\"1\" class=\"dataframe\">\n",
       "  <thead>\n",
       "    <tr style=\"text-align: right;\">\n",
       "      <th></th>\n",
       "      <th>mpg</th>\n",
       "      <th>pred</th>\n",
       "      <th>difference</th>\n",
       "    </tr>\n",
       "  </thead>\n",
       "  <tbody>\n",
       "    <tr>\n",
       "      <th>mpg</th>\n",
       "      <td>1.000000</td>\n",
       "      <td>8.690158e-01</td>\n",
       "      <td>1.309842e-01</td>\n",
       "    </tr>\n",
       "    <tr>\n",
       "      <th>pred</th>\n",
       "      <td>0.869016</td>\n",
       "      <td>1.000000e+00</td>\n",
       "      <td>2.511002e-27</td>\n",
       "    </tr>\n",
       "    <tr>\n",
       "      <th>difference</th>\n",
       "      <td>0.130984</td>\n",
       "      <td>2.511002e-27</td>\n",
       "      <td>1.000000e+00</td>\n",
       "    </tr>\n",
       "  </tbody>\n",
       "</table>\n",
       "</div>"
      ],
      "text/plain": [
       "                 mpg          pred    difference\n",
       "mpg         1.000000  8.690158e-01  1.309842e-01\n",
       "pred        0.869016  1.000000e+00  2.511002e-27\n",
       "difference  0.130984  2.511002e-27  1.000000e+00"
      ]
     },
     "execution_count": 24,
     "metadata": {},
     "output_type": "execute_result"
    }
   ],
   "source": [
    "compare.corr()**2"
   ]
  },
  {
   "cell_type": "markdown",
   "id": "e0c2a207-e629-40bc-b6f9-eb960ead46d1",
   "metadata": {},
   "source": [
    "#### 4. Plot the Residuals"
   ]
  },
  {
   "cell_type": "code",
   "execution_count": 25,
   "id": "521940f8-f500-43be-afd1-766c7a3d2ca3",
   "metadata": {},
   "outputs": [
    {
     "data": {
      "image/png": "[encoded data removed]",
      "text/plain": [
       "<Figure size 720x432 with 1 Axes>"
      ]
     },
     "metadata": {
      "needs_background": "light"
     },
     "output_type": "display_data"
    }
   ],
   "source": [
    "plt.figure(figsize = (10,6))\n",
    "plt.scatter(compare.pred,model.resid)\n",
    "plt.axhline(0, color='black')\n",
    "plt.xlabel('Fitted Value/ Prediction')\n",
    "plt.ylabel('Residual')\n",
    "plt.title('RESIDUAL PLOT');"
   ]
  },
  {
   "cell_type": "markdown",
   "id": "3616e4ef-7842-4d7b-8df2-e0eb16511ec9",
   "metadata": {},
   "source": [
    "##### Perform the Breusch-Pagan test for testing whether heteroscedasticity is present"
   ]
  },
  {
   "cell_type": "code",
   "execution_count": 26,
   "id": "3042df29-76e3-4355-951c-0da844600d6c",
   "metadata": {},
   "outputs": [
    {
     "name": "stdout",
     "output_type": "stream",
     "text": [
      "[('Lagrange multiplier statistic', 14.913588960622409), ('p-value', 0.13524415065664627), ('f-value', 1.8329499825990316), ('f p-value', 0.11634584353912343)] \n",
      "\n",
      "p-value is 0.1163 which is greater than 0.05.  Hence we fail to reject                                             the null hypothesis (H0): Homoscedasticity is present,                                             and conclude that the data has homoscedasticity.\n"
     ]
    }
   ],
   "source": [
    "names = ['Lagrange multiplier statistic', 'p-value',\n",
    "        'f-value', 'f p-value']\n",
    "test = sm.stats.het_breuschpagan(model.resid, model.model.exog)\n",
    "print(list(zip(names, test)),'\\n')\n",
    "if test[3]>.05:\n",
    "    print('p-value is', round(test[3], 4), 'which is greater than 0.05.  Hence we fail to reject \\\n",
    "                                            the null hypothesis (H0): Homoscedasticity is present, \\\n",
    "                                            and conclude that the data has homoscedasticity.')\n",
    "else:\n",
    "    print('p-value is', round(test[3], 4), 'which is less than 0.05.  Hence we accept the alternate \\\n",
    "                                            hypothesis, alternative hypothesis: (Ha): Homoscedasticity \\\n",
    "                                            is not present (i.e. heteroscedasticity exists)')"
   ]
  },
  {
   "cell_type": "markdown",
   "id": "793860fe-61c3-41dc-b610-ab55db6c23f9",
   "metadata": {},
   "source": [
    "***\n",
    "### Lasso and Ridge Regression"
   ]
  },
  {
   "cell_type": "markdown",
   "id": "290afc4a-2346-4684-8042-03c948978ae9",
   "metadata": {},
   "source": [
    "##### L1 norm"
   ]
  },
  {
   "cell_type": "code",
   "execution_count": 27,
   "id": "d76c419f-3244-453d-93d9-16eb6bb92c59",
   "metadata": {},
   "outputs": [
    {
     "data": {
      "text/plain": [
       "5.0"
      ]
     },
     "execution_count": 27,
     "metadata": {},
     "output_type": "execute_result"
    }
   ],
   "source": [
    "np.linalg.norm([2,3], 1)"
   ]
  },
  {
   "cell_type": "code",
   "execution_count": 28,
   "id": "8579d4d8-0137-4f29-a6d1-02f31539e12c",
   "metadata": {},
   "outputs": [
    {
     "data": {
      "text/plain": [
       "5"
      ]
     },
     "execution_count": 28,
     "metadata": {},
     "output_type": "execute_result"
    }
   ],
   "source": [
    "# same as sum of all elements\n",
    "2 + 3"
   ]
  },
  {
   "cell_type": "markdown",
   "id": "99019bbe-bcf8-4b37-986b-ff2da5effbad",
   "metadata": {},
   "source": [
    "##### L2 norm"
   ]
  },
  {
   "cell_type": "code",
   "execution_count": 29,
   "id": "9e97df05-6f74-4e20-9b2e-db8c1412e5d6",
   "metadata": {},
   "outputs": [
    {
     "data": {
      "text/plain": [
       "3.605551275463989"
      ]
     },
     "execution_count": 29,
     "metadata": {},
     "output_type": "execute_result"
    }
   ],
   "source": [
    "np.linalg.norm([2,3], 2)"
   ]
  },
  {
   "cell_type": "code",
   "execution_count": 30,
   "id": "d3a5d88c-5c65-43c6-8cdd-fa0961228e42",
   "metadata": {},
   "outputs": [
    {
     "data": {
      "text/plain": [
       "3.605551275463989"
      ]
     },
     "execution_count": 30,
     "metadata": {},
     "output_type": "execute_result"
    }
   ],
   "source": [
    "# same as the root of the sum of squares of the elements\n",
    "np.sqrt(2**2 + 3**2)"
   ]
  },
  {
   "cell_type": "markdown",
   "id": "dbefc2f9-d09f-4800-ab5f-f7b0bd8bf51b",
   "metadata": {},
   "source": [
    "#### Peforming Lasso and Ridge regression"
   ]
  },
  {
   "cell_type": "code",
   "execution_count": 31,
   "id": "b5c54ec2-e3a9-4d57-b440-5912fc3e14bc",
   "metadata": {},
   "outputs": [],
   "source": [
    "model_reg = sm.regression.linear_model.OLS(y,X).fit_regularized(alpha = 1, L1_wt = .1, refit=True)"
   ]
  },
  {
   "cell_type": "code",
   "execution_count": 32,
   "id": "3e83dc7d-66ec-4d7b-a978-3a4fa88c7ebd",
   "metadata": {},
   "outputs": [
    {
     "data": {
      "text/html": [
       "<table class=\"simpletable\">\n",
       "<caption>OLS Regression Results</caption>\n",
       "<tr>\n",
       "  <th>Dep. Variable:</th>            <td>y</td>        <th>  R-squared:         </th> <td>   0.834</td>\n",
       "</tr>\n",
       "<tr>\n",
       "  <th>Model:</th>                   <td>OLS</td>       <th>  Adj. R-squared:    </th> <td>   0.795</td>\n",
       "</tr>\n",
       "<tr>\n",
       "  <th>Method:</th>             <td>Least Squares</td>  <th>  F-statistic:       </th> <td>   18.00</td>\n",
       "</tr>\n",
       "<tr>\n",
       "  <th>Date:</th>             <td>Fri, 08 Oct 2021</td> <th>  Prob (F-statistic):</th> <td>2.62e-08</td>\n",
       "</tr>\n",
       "<tr>\n",
       "  <th>Time:</th>                 <td>23:13:50</td>     <th>  Log-Likelihood:    </th> <td> -73.602</td>\n",
       "</tr>\n",
       "<tr>\n",
       "  <th>No. Observations:</th>      <td>    32</td>      <th>  AIC:               </th> <td>   163.2</td>\n",
       "</tr>\n",
       "<tr>\n",
       "  <th>Df Residuals:</th>          <td>    25</td>      <th>  BIC:               </th> <td>   174.9</td>\n",
       "</tr>\n",
       "<tr>\n",
       "  <th>Df Model:</th>              <td>     7</td>      <th>                     </th>     <td> </td>   \n",
       "</tr>\n",
       "<tr>\n",
       "  <th>Covariance Type:</th>      <td>nonrobust</td>    <th>                     </th>     <td> </td>   \n",
       "</tr>\n",
       "</table>\n",
       "<table class=\"simpletable\">\n",
       "<tr>\n",
       "    <td></td>       <th>coef</th>     <th>std err</th>      <th>t</th>      <th>P>|t|</th>  <th>[0.025</th>    <th>0.975]</th>  \n",
       "</tr>\n",
       "<tr>\n",
       "  <th>const</th> <td>         0</td> <td>        0</td> <td>      nan</td> <td>   nan</td> <td>        0</td> <td>        0</td>\n",
       "</tr>\n",
       "<tr>\n",
       "  <th>cyl</th>   <td>         0</td> <td>        0</td> <td>      nan</td> <td>   nan</td> <td>        0</td> <td>        0</td>\n",
       "</tr>\n",
       "<tr>\n",
       "  <th>disp</th>  <td>   -0.0093</td> <td>    0.010</td> <td>   -0.979</td> <td> 0.337</td> <td>   -0.029</td> <td>    0.010</td>\n",
       "</tr>\n",
       "<tr>\n",
       "  <th>hp</th>    <td>   -0.0025</td> <td>    0.020</td> <td>   -0.125</td> <td> 0.901</td> <td>   -0.043</td> <td>    0.038</td>\n",
       "</tr>\n",
       "<tr>\n",
       "  <th>drat</th>  <td>    2.0389</td> <td>    1.482</td> <td>    1.376</td> <td> 0.181</td> <td>   -1.014</td> <td>    5.091</td>\n",
       "</tr>\n",
       "<tr>\n",
       "  <th>wt</th>    <td>         0</td> <td>        0</td> <td>      nan</td> <td>   nan</td> <td>        0</td> <td>        0</td>\n",
       "</tr>\n",
       "<tr>\n",
       "  <th>qsec</th>  <td>    0.6674</td> <td>    0.272</td> <td>    2.456</td> <td> 0.021</td> <td>    0.108</td> <td>    1.227</td>\n",
       "</tr>\n",
       "<tr>\n",
       "  <th>vs</th>    <td>         0</td> <td>        0</td> <td>      nan</td> <td>   nan</td> <td>        0</td> <td>        0</td>\n",
       "</tr>\n",
       "<tr>\n",
       "  <th>am</th>    <td>    3.1923</td> <td>    1.992</td> <td>    1.603</td> <td> 0.122</td> <td>   -0.910</td> <td>    7.294</td>\n",
       "</tr>\n",
       "<tr>\n",
       "  <th>gear</th>  <td>    1.6071</td> <td>    1.359</td> <td>    1.183</td> <td> 0.248</td> <td>   -1.192</td> <td>    4.406</td>\n",
       "</tr>\n",
       "<tr>\n",
       "  <th>carb</th>  <td>   -1.3805</td> <td>    0.573</td> <td>   -2.410</td> <td> 0.024</td> <td>   -2.560</td> <td>   -0.201</td>\n",
       "</tr>\n",
       "</table>\n",
       "<table class=\"simpletable\">\n",
       "<tr>\n",
       "  <th>Omnibus:</th>       <td> 0.280</td> <th>  Durbin-Watson:     </th> <td>   2.167</td>\n",
       "</tr>\n",
       "<tr>\n",
       "  <th>Prob(Omnibus):</th> <td> 0.869</td> <th>  Jarque-Bera (JB):  </th> <td>   0.467</td>\n",
       "</tr>\n",
       "<tr>\n",
       "  <th>Skew:</th>          <td>-0.070</td> <th>  Prob(JB):          </th> <td>   0.792</td>\n",
       "</tr>\n",
       "<tr>\n",
       "  <th>Kurtosis:</th>      <td> 2.425</td> <th>  Cond. No.          </th> <td>1.22e+04</td>\n",
       "</tr>\n",
       "</table><br/><br/>Notes:<br/>[1] Standard Errors assume that the covariance matrix of the errors is correctly specified.<br/>[2] The condition number is large, 1.22e+04. This might indicate that there are<br/>strong multicollinearity or other numerical problems."
      ],
      "text/plain": [
       "<class 'statsmodels.iolib.summary.Summary'>\n",
       "\"\"\"\n",
       "                            OLS Regression Results                            \n",
       "==============================================================================\n",
       "Dep. Variable:                      y   R-squared:                       0.834\n",
       "Model:                            OLS   Adj. R-squared:                  0.795\n",
       "Method:                 Least Squares   F-statistic:                     18.00\n",
       "Date:                Fri, 08 Oct 2021   Prob (F-statistic):           2.62e-08\n",
       "Time:                        23:13:50   Log-Likelihood:                -73.602\n",
       "No. Observations:                  32   AIC:                             163.2\n",
       "Df Residuals:                      25   BIC:                             174.9\n",
       "Df Model:                           7                                         \n",
       "Covariance Type:            nonrobust                                         \n",
       "==============================================================================\n",
       "                 coef    std err          t      P>|t|      [0.025      0.975]\n",
       "------------------------------------------------------------------------------\n",
       "const               0          0        nan        nan           0           0\n",
       "cyl                 0          0        nan        nan           0           0\n",
       "disp          -0.0093      0.010     -0.979      0.337      -0.029       0.010\n",
       "hp            -0.0025      0.020     -0.125      0.901      -0.043       0.038\n",
       "drat           2.0389      1.482      1.376      0.181      -1.014       5.091\n",
       "wt                  0          0        nan        nan           0           0\n",
       "qsec           0.6674      0.272      2.456      0.021       0.108       1.227\n",
       "vs                  0          0        nan        nan           0           0\n",
       "am             3.1923      1.992      1.603      0.122      -0.910       7.294\n",
       "gear           1.6071      1.359      1.183      0.248      -1.192       4.406\n",
       "carb          -1.3805      0.573     -2.410      0.024      -2.560      -0.201\n",
       "==============================================================================\n",
       "Omnibus:                        0.280   Durbin-Watson:                   2.167\n",
       "Prob(Omnibus):                  0.869   Jarque-Bera (JB):                0.467\n",
       "Skew:                          -0.070   Prob(JB):                        0.792\n",
       "Kurtosis:                       2.425   Cond. No.                     1.22e+04\n",
       "==============================================================================\n",
       "\n",
       "Notes:\n",
       "[1] Standard Errors assume that the covariance matrix of the errors is correctly specified.\n",
       "[2] The condition number is large, 1.22e+04. This might indicate that there are\n",
       "strong multicollinearity or other numerical problems.\n",
       "\"\"\""
      ]
     },
     "execution_count": 32,
     "metadata": {},
     "output_type": "execute_result"
    }
   ],
   "source": [
    "model_reg.summary()"
   ]
  },
  {
   "cell_type": "code",
   "execution_count": 33,
   "id": "f82e76a6-d968-43de-93d7-5d28401e2f9e",
   "metadata": {},
   "outputs": [
    {
     "data": {
      "text/html": [
       "<div>\n",
       "<style scoped>\n",
       "    .dataframe tbody tr th:only-of-type {\n",
       "        vertical-align: middle;\n",
       "    }\n",
       "\n",
       "    .dataframe tbody tr th {\n",
       "        vertical-align: top;\n",
       "    }\n",
       "\n",
       "    .dataframe thead th {\n",
       "        text-align: right;\n",
       "    }\n",
       "</style>\n",
       "<table border=\"1\" class=\"dataframe\">\n",
       "  <thead>\n",
       "    <tr style=\"text-align: right;\">\n",
       "      <th></th>\n",
       "      <th>model</th>\n",
       "      <th>model_reg</th>\n",
       "    </tr>\n",
       "  </thead>\n",
       "  <tbody>\n",
       "    <tr>\n",
       "      <th>const</th>\n",
       "      <td>12.303374</td>\n",
       "      <td>0.000000</td>\n",
       "    </tr>\n",
       "    <tr>\n",
       "      <th>cyl</th>\n",
       "      <td>-0.111440</td>\n",
       "      <td>0.000000</td>\n",
       "    </tr>\n",
       "    <tr>\n",
       "      <th>disp</th>\n",
       "      <td>0.013335</td>\n",
       "      <td>-0.009334</td>\n",
       "    </tr>\n",
       "    <tr>\n",
       "      <th>hp</th>\n",
       "      <td>-0.021482</td>\n",
       "      <td>-0.002483</td>\n",
       "    </tr>\n",
       "    <tr>\n",
       "      <th>drat</th>\n",
       "      <td>0.787111</td>\n",
       "      <td>2.038859</td>\n",
       "    </tr>\n",
       "    <tr>\n",
       "      <th>wt</th>\n",
       "      <td>-3.715304</td>\n",
       "      <td>0.000000</td>\n",
       "    </tr>\n",
       "    <tr>\n",
       "      <th>qsec</th>\n",
       "      <td>0.821041</td>\n",
       "      <td>0.667390</td>\n",
       "    </tr>\n",
       "    <tr>\n",
       "      <th>vs</th>\n",
       "      <td>0.317763</td>\n",
       "      <td>0.000000</td>\n",
       "    </tr>\n",
       "    <tr>\n",
       "      <th>am</th>\n",
       "      <td>2.520227</td>\n",
       "      <td>3.192283</td>\n",
       "    </tr>\n",
       "    <tr>\n",
       "      <th>gear</th>\n",
       "      <td>0.655413</td>\n",
       "      <td>1.607129</td>\n",
       "    </tr>\n",
       "    <tr>\n",
       "      <th>carb</th>\n",
       "      <td>-0.199419</td>\n",
       "      <td>-1.380473</td>\n",
       "    </tr>\n",
       "  </tbody>\n",
       "</table>\n",
       "</div>"
      ],
      "text/plain": [
       "           model  model_reg\n",
       "const  12.303374   0.000000\n",
       "cyl    -0.111440   0.000000\n",
       "disp    0.013335  -0.009334\n",
       "hp     -0.021482  -0.002483\n",
       "drat    0.787111   2.038859\n",
       "wt     -3.715304   0.000000\n",
       "qsec    0.821041   0.667390\n",
       "vs      0.317763   0.000000\n",
       "am      2.520227   3.192283\n",
       "gear    0.655413   1.607129\n",
       "carb   -0.199419  -1.380473"
      ]
     },
     "execution_count": 33,
     "metadata": {},
     "output_type": "execute_result"
    }
   ],
   "source": [
    "pd.DataFrame({'model': model.params, \n",
    "              'model_reg': model_reg.params})"
   ]
  },
  {
   "cell_type": "code",
   "execution_count": 34,
   "id": "7b956773-7d6a-46b8-a5b3-340b63a9a7b7",
   "metadata": {},
   "outputs": [
    {
     "data": {
      "text/plain": [
       "5.825422019252034"
      ]
     },
     "execution_count": 34,
     "metadata": {},
     "output_type": "execute_result"
    }
   ],
   "source": [
    "mean_squared_error(model_reg.predict(X), y)"
   ]
  },
  {
   "cell_type": "code",
   "execution_count": 35,
   "id": "d55c89e8-94b1-4dd4-ba55-5f036e8bc808",
   "metadata": {},
   "outputs": [
    {
     "data": {
      "text/plain": [
       "array([ 0.00000000e+00,  0.00000000e+00, -9.33429540e-03, -2.48251056e-03,\n",
       "        2.03885853e+00,  0.00000000e+00,  6.67389918e-01,  0.00000000e+00,\n",
       "        3.19228288e+00,  1.60712882e+00, -1.38047254e+00])"
      ]
     },
     "execution_count": 35,
     "metadata": {},
     "output_type": "execute_result"
    }
   ],
   "source": [
    "model_reg.params"
   ]
  },
  {
   "cell_type": "markdown",
   "id": "815bfc88-d18b-42f1-b62a-8641f3cf7938",
   "metadata": {},
   "source": [
    "***\n",
    "## Polynomial Features"
   ]
  },
  {
   "cell_type": "markdown",
   "id": "9b5a8660-9fe0-4fee-ada4-ca8120bfdfee",
   "metadata": {},
   "source": [
    "We first need to 'fit' polynomial features to data which in our case is `X`, and store this 'fit' in a variable we call, say `p_X`.  We can then transform any input to the polynomial feature set using `transform()`.  \n",
    "  \n",
    "[Throughout our modeling journey, we will often see a difference between the fit and the transform methods.  `fit` creates the mechanism, `transform` implements it.  Sometimes these operations are combined in a single step using `fit_transform()`.  What we do depends upon our use case.]  \n",
    "  \n",
    "The `PolynomialFeatures` function automatically inserts a constant, so if we use our `X` as an input, we will get the constant term twice (as we had added a constant earlier using `add_constant`).  So we will use `features` instead of `X`."
   ]
  },
  {
   "cell_type": "markdown",
   "id": "16c84da8-b3e6-42d9-a284-ca9de718a247",
   "metadata": {},
   "source": [
    "\n",
    "### Polynomial Features Example"
   ]
  },
  {
   "cell_type": "code",
   "execution_count": 36,
   "id": "eec2430f-077d-461a-b2de-12d0cbee0f54",
   "metadata": {},
   "outputs": [
    {
     "name": "stdout",
     "output_type": "stream",
     "text": [
      "\n",
      " LinregressResult(slope=0.001312620315650887, intercept=0.5984710661055463, rvalue=0.002831659590515802, pvalue=0.9844291170707569, stderr=0.0669076410894747) \n",
      "\n",
      "\n"
     ]
    },
    {
     "data": {
      "image/png": "[encoded data removed]",
      "text/plain": [
       "<Figure size 360x360 with 1 Axes>"
      ]
     },
     "metadata": {
      "needs_background": "light"
     },
     "output_type": "display_data"
    }
   ],
   "source": [
    "# Why Polynomial Regression?\n",
    "\n",
    "df, labels = datasets.make_moons(noise=.1)\n",
    "df = pd.DataFrame(df, columns = ['x', 'y'])\n",
    "df['label'] = labels\n",
    "df = df[df.label == 0]\n",
    "# sns.scatterplot(data=df, x = df.iloc[:,0], y=df.iloc[:,1])\n",
    "sns.lmplot(data=df, x = \"x\", y=\"y\", line_kws={\"lw\":4,\"alpha\": .5, \"color\":\"red\"},ci=1)\n",
    "print('\\n', stats.linregress(x = df['x'], y = df['y']),'\\n\\n')"
   ]
  },
  {
   "cell_type": "code",
   "execution_count": 37,
   "id": "c6528de4-cf7c-4bd7-8824-097fce5c848d",
   "metadata": {},
   "outputs": [
    {
     "name": "stdout",
     "output_type": "stream",
     "text": [
      "Dataset is:\n",
      "    x1  x2  y\n",
      "0   3   7  8\n",
      "1   3   2  1\n",
      "2   9   9  4\n",
      "3   1   4  1\n",
      "4   5   3  6\n",
      "\n",
      "Polynomial and Interaction Feature names are:\n",
      " ['1', 'x1', 'x2', 'x1^2', 'x1 x2', 'x2^2']\n"
     ]
    }
   ],
   "source": [
    "# Explaining polynomial features with a random example\n",
    "\n",
    "from sklearn.preprocessing import PolynomialFeatures\n",
    "import pandas as pd\n",
    "import numpy as np\n",
    "\n",
    "data = pd.DataFrame.from_dict({\n",
    "    'x1': np.random.randint(low=1, high=10, size=5),\n",
    "    'x2': np.random.randint(low=1, high=10, size=5),\n",
    "    'y': np.random.randint(low=1, high=10, size=5)\n",
    "})\n",
    "print('Dataset is:\\n', data)\n",
    "feat = data.iloc[:,:2].copy()\n",
    "p = PolynomialFeatures(degree=2, interaction_only=False).fit(feat)\n",
    "print('\\nPolynomial and Interaction Feature names are:\\n', \n",
    "      p.get_feature_names(feat.columns))\n"
   ]
  },
  {
   "cell_type": "code",
   "execution_count": 38,
   "id": "15f530eb-bb49-4154-a439-78da3ad6c55e",
   "metadata": {},
   "outputs": [
    {
     "name": "stdout",
     "output_type": "stream",
     "text": [
      "     1   x1   x2  x1^2  x1 x2  x2^2\n",
      "0  1.0  3.0  7.0   9.0   21.0  49.0\n",
      "1  1.0  3.0  2.0   9.0    6.0   4.0\n",
      "2  1.0  9.0  9.0  81.0   81.0  81.0\n",
      "3  1.0  1.0  4.0   1.0    4.0  16.0\n",
      "4  1.0  5.0  3.0  25.0   15.0   9.0\n"
     ]
    }
   ],
   "source": [
    "features = pd.DataFrame(p.transform(feat), \n",
    "                        columns=p.get_feature_names(feat.columns))\n",
    "print(features)"
   ]
  },
  {
   "cell_type": "markdown",
   "id": "dd3752a8-ab40-497f-88c9-1f0091571844",
   "metadata": {},
   "source": [
    "\n",
    "#### Calculating polynomial features for mtcars"
   ]
  },
  {
   "cell_type": "code",
   "execution_count": 39,
   "id": "30c62c61-7f17-4706-9d9e-57ad1c091654",
   "metadata": {},
   "outputs": [],
   "source": [
    "mtcars = sm.datasets.get_rdataset('mtcars').data\n",
    "y = mtcars.mpg.values\n",
    "features = mtcars.iloc[:,1:]"
   ]
  },
  {
   "cell_type": "code",
   "execution_count": 40,
   "id": "d926cde9-65c7-41b1-b0d5-05da00740c11",
   "metadata": {},
   "outputs": [],
   "source": [
    "poly = PolynomialFeatures(degree=2, interaction_only=False).fit(features)"
   ]
  },
  {
   "cell_type": "code",
   "execution_count": 41,
   "id": "6bf85eea-9d67-4332-bed6-b193f96aec27",
   "metadata": {},
   "outputs": [
    {
     "data": {
      "text/html": [
       "<div>\n",
       "<style scoped>\n",
       "    .dataframe tbody tr th:only-of-type {\n",
       "        vertical-align: middle;\n",
       "    }\n",
       "\n",
       "    .dataframe tbody tr th {\n",
       "        vertical-align: top;\n",
       "    }\n",
       "\n",
       "    .dataframe thead th {\n",
       "        text-align: right;\n",
       "    }\n",
       "</style>\n",
       "<table border=\"1\" class=\"dataframe\">\n",
       "  <thead>\n",
       "    <tr style=\"text-align: right;\">\n",
       "      <th></th>\n",
       "      <th>1</th>\n",
       "      <th>cyl</th>\n",
       "      <th>disp</th>\n",
       "      <th>hp</th>\n",
       "      <th>drat</th>\n",
       "      <th>wt</th>\n",
       "      <th>qsec</th>\n",
       "      <th>vs</th>\n",
       "      <th>am</th>\n",
       "      <th>gear</th>\n",
       "      <th>...</th>\n",
       "      <th>vs^2</th>\n",
       "      <th>vs am</th>\n",
       "      <th>vs gear</th>\n",
       "      <th>vs carb</th>\n",
       "      <th>am^2</th>\n",
       "      <th>am gear</th>\n",
       "      <th>am carb</th>\n",
       "      <th>gear^2</th>\n",
       "      <th>gear carb</th>\n",
       "      <th>carb^2</th>\n",
       "    </tr>\n",
       "  </thead>\n",
       "  <tbody>\n",
       "    <tr>\n",
       "      <th>0</th>\n",
       "      <td>1.0</td>\n",
       "      <td>6.0</td>\n",
       "      <td>160.0</td>\n",
       "      <td>110.0</td>\n",
       "      <td>3.90</td>\n",
       "      <td>2.620</td>\n",
       "      <td>16.46</td>\n",
       "      <td>0.0</td>\n",
       "      <td>1.0</td>\n",
       "      <td>4.0</td>\n",
       "      <td>...</td>\n",
       "      <td>0.0</td>\n",
       "      <td>0.0</td>\n",
       "      <td>0.0</td>\n",
       "      <td>0.0</td>\n",
       "      <td>1.0</td>\n",
       "      <td>4.0</td>\n",
       "      <td>4.0</td>\n",
       "      <td>16.0</td>\n",
       "      <td>16.0</td>\n",
       "      <td>16.0</td>\n",
       "    </tr>\n",
       "    <tr>\n",
       "      <th>1</th>\n",
       "      <td>1.0</td>\n",
       "      <td>6.0</td>\n",
       "      <td>160.0</td>\n",
       "      <td>110.0</td>\n",
       "      <td>3.90</td>\n",
       "      <td>2.875</td>\n",
       "      <td>17.02</td>\n",
       "      <td>0.0</td>\n",
       "      <td>1.0</td>\n",
       "      <td>4.0</td>\n",
       "      <td>...</td>\n",
       "      <td>0.0</td>\n",
       "      <td>0.0</td>\n",
       "      <td>0.0</td>\n",
       "      <td>0.0</td>\n",
       "      <td>1.0</td>\n",
       "      <td>4.0</td>\n",
       "      <td>4.0</td>\n",
       "      <td>16.0</td>\n",
       "      <td>16.0</td>\n",
       "      <td>16.0</td>\n",
       "    </tr>\n",
       "    <tr>\n",
       "      <th>2</th>\n",
       "      <td>1.0</td>\n",
       "      <td>4.0</td>\n",
       "      <td>108.0</td>\n",
       "      <td>93.0</td>\n",
       "      <td>3.85</td>\n",
       "      <td>2.320</td>\n",
       "      <td>18.61</td>\n",
       "      <td>1.0</td>\n",
       "      <td>1.0</td>\n",
       "      <td>4.0</td>\n",
       "      <td>...</td>\n",
       "      <td>1.0</td>\n",
       "      <td>1.0</td>\n",
       "      <td>4.0</td>\n",
       "      <td>1.0</td>\n",
       "      <td>1.0</td>\n",
       "      <td>4.0</td>\n",
       "      <td>1.0</td>\n",
       "      <td>16.0</td>\n",
       "      <td>4.0</td>\n",
       "      <td>1.0</td>\n",
       "    </tr>\n",
       "    <tr>\n",
       "      <th>3</th>\n",
       "      <td>1.0</td>\n",
       "      <td>6.0</td>\n",
       "      <td>258.0</td>\n",
       "      <td>110.0</td>\n",
       "      <td>3.08</td>\n",
       "      <td>3.215</td>\n",
       "      <td>19.44</td>\n",
       "      <td>1.0</td>\n",
       "      <td>0.0</td>\n",
       "      <td>3.0</td>\n",
       "      <td>...</td>\n",
       "      <td>1.0</td>\n",
       "      <td>0.0</td>\n",
       "      <td>3.0</td>\n",
       "      <td>1.0</td>\n",
       "      <td>0.0</td>\n",
       "      <td>0.0</td>\n",
       "      <td>0.0</td>\n",
       "      <td>9.0</td>\n",
       "      <td>3.0</td>\n",
       "      <td>1.0</td>\n",
       "    </tr>\n",
       "    <tr>\n",
       "      <th>4</th>\n",
       "      <td>1.0</td>\n",
       "      <td>8.0</td>\n",
       "      <td>360.0</td>\n",
       "      <td>175.0</td>\n",
       "      <td>3.15</td>\n",
       "      <td>3.440</td>\n",
       "      <td>17.02</td>\n",
       "      <td>0.0</td>\n",
       "      <td>0.0</td>\n",
       "      <td>3.0</td>\n",
       "      <td>...</td>\n",
       "      <td>0.0</td>\n",
       "      <td>0.0</td>\n",
       "      <td>0.0</td>\n",
       "      <td>0.0</td>\n",
       "      <td>0.0</td>\n",
       "      <td>0.0</td>\n",
       "      <td>0.0</td>\n",
       "      <td>9.0</td>\n",
       "      <td>6.0</td>\n",
       "      <td>4.0</td>\n",
       "    </tr>\n",
       "  </tbody>\n",
       "</table>\n",
       "<p>5 rows × 66 columns</p>\n",
       "</div>"
      ],
      "text/plain": [
       "     1  cyl   disp     hp  drat     wt   qsec   vs   am  gear  ...  vs^2  \\\n",
       "0  1.0  6.0  160.0  110.0  3.90  2.620  16.46  0.0  1.0   4.0  ...   0.0   \n",
       "1  1.0  6.0  160.0  110.0  3.90  2.875  17.02  0.0  1.0   4.0  ...   0.0   \n",
       "2  1.0  4.0  108.0   93.0  3.85  2.320  18.61  1.0  1.0   4.0  ...   1.0   \n",
       "3  1.0  6.0  258.0  110.0  3.08  3.215  19.44  1.0  0.0   3.0  ...   1.0   \n",
       "4  1.0  8.0  360.0  175.0  3.15  3.440  17.02  0.0  0.0   3.0  ...   0.0   \n",
       "\n",
       "   vs am  vs gear  vs carb  am^2  am gear  am carb  gear^2  gear carb  carb^2  \n",
       "0    0.0      0.0      0.0   1.0      4.0      4.0    16.0       16.0    16.0  \n",
       "1    0.0      0.0      0.0   1.0      4.0      4.0    16.0       16.0    16.0  \n",
       "2    1.0      4.0      1.0   1.0      4.0      1.0    16.0        4.0     1.0  \n",
       "3    0.0      3.0      1.0   0.0      0.0      0.0     9.0        3.0     1.0  \n",
       "4    0.0      0.0      0.0   0.0      0.0      0.0     9.0        6.0     4.0  \n",
       "\n",
       "[5 rows x 66 columns]"
      ]
     },
     "execution_count": 41,
     "metadata": {},
     "output_type": "execute_result"
    }
   ],
   "source": [
    "p_X = pd.DataFrame(poly.transform(features), columns=poly.get_feature_names(features.columns))\n",
    "p_X.head()"
   ]
  },
  {
   "cell_type": "code",
   "execution_count": 42,
   "id": "fb3a2684-517b-4afc-a1f6-da4c9a7348b1",
   "metadata": {},
   "outputs": [
    {
     "name": "stdout",
     "output_type": "stream",
     "text": [
      "['1', 'cyl', 'disp', 'hp', 'drat', 'wt', 'qsec', 'vs', 'am', 'gear', 'carb', 'cyl^2', 'cyl disp', 'cyl hp', 'cyl drat', 'cyl wt', 'cyl qsec', 'cyl vs', 'cyl am', 'cyl gear', 'cyl carb', 'disp^2', 'disp hp', 'disp drat', 'disp wt', 'disp qsec', 'disp vs', 'disp am', 'disp gear', 'disp carb', 'hp^2', 'hp drat', 'hp wt', 'hp qsec', 'hp vs', 'hp am', 'hp gear', 'hp carb', 'drat^2', 'drat wt', 'drat qsec', 'drat vs', 'drat am', 'drat gear', 'drat carb', 'wt^2', 'wt qsec', 'wt vs', 'wt am', 'wt gear', 'wt carb', 'qsec^2', 'qsec vs', 'qsec am', 'qsec gear', 'qsec carb', 'vs^2', 'vs am', 'vs gear', 'vs carb', 'am^2', 'am gear', 'am carb', 'gear^2', 'gear carb', 'carb^2']\n"
     ]
    }
   ],
   "source": [
    "print(poly.get_feature_names(features.columns))"
   ]
  },
  {
   "cell_type": "markdown",
   "id": "cbe21f48-bc70-44f5-8ed8-d1d22e027b2f",
   "metadata": {},
   "source": [
    "Now `p_X` contains our data frame with the polynomial features.  From this point, we do our regression the normal way."
   ]
  },
  {
   "cell_type": "code",
   "execution_count": 43,
   "id": "0ab672db-1c37-4aa3-828b-401fc5a2d982",
   "metadata": {
    "tags": []
   },
   "outputs": [
    {
     "name": "stdout",
     "output_type": "stream",
     "text": [
      "R-squared is:\n"
     ]
    },
    {
     "data": {
      "text/plain": [
       "1.0"
      ]
     },
     "execution_count": 43,
     "metadata": {},
     "output_type": "execute_result"
    }
   ],
   "source": [
    "model_poly = sm.OLS(y, p_X).fit()\n",
    "print('R-squared is:')\n",
    "model_poly.rsquared"
   ]
  },
  {
   "cell_type": "markdown",
   "id": "49e60abc-4e21-4c5f-ae2f-da9b9f656c3b",
   "metadata": {},
   "source": [
    "#### Perform predictions"
   ]
  },
  {
   "cell_type": "code",
   "execution_count": 44,
   "id": "274edbbe-9abe-49ef-8f5b-56176025cfa9",
   "metadata": {},
   "outputs": [],
   "source": [
    "preds = pd.DataFrame({'PolynomialPred': model_poly.predict(p_X)}, columns = ['PolynomialPred'])"
   ]
  },
  {
   "cell_type": "code",
   "execution_count": 45,
   "id": "eb6f7863-d10d-4660-96c1-4c64b57327d2",
   "metadata": {},
   "outputs": [
    {
     "data": {
      "text/html": [
       "<div>\n",
       "<style scoped>\n",
       "    .dataframe tbody tr th:only-of-type {\n",
       "        vertical-align: middle;\n",
       "    }\n",
       "\n",
       "    .dataframe tbody tr th {\n",
       "        vertical-align: top;\n",
       "    }\n",
       "\n",
       "    .dataframe thead th {\n",
       "        text-align: right;\n",
       "    }\n",
       "</style>\n",
       "<table border=\"1\" class=\"dataframe\">\n",
       "  <thead>\n",
       "    <tr style=\"text-align: right;\">\n",
       "      <th></th>\n",
       "      <th>mpg</th>\n",
       "      <th>PolynomialPred</th>\n",
       "      <th>difference</th>\n",
       "    </tr>\n",
       "  </thead>\n",
       "  <tbody>\n",
       "    <tr>\n",
       "      <th>Mazda RX4</th>\n",
       "      <td>21.0</td>\n",
       "      <td>21.0</td>\n",
       "      <td>5.684342e-14</td>\n",
       "    </tr>\n",
       "    <tr>\n",
       "      <th>Mazda RX4 Wag</th>\n",
       "      <td>21.0</td>\n",
       "      <td>21.0</td>\n",
       "      <td>1.136868e-13</td>\n",
       "    </tr>\n",
       "    <tr>\n",
       "      <th>Datsun 710</th>\n",
       "      <td>22.8</td>\n",
       "      <td>22.8</td>\n",
       "      <td>6.053824e-12</td>\n",
       "    </tr>\n",
       "    <tr>\n",
       "      <th>Hornet 4 Drive</th>\n",
       "      <td>21.4</td>\n",
       "      <td>21.4</td>\n",
       "      <td>1.392664e-11</td>\n",
       "    </tr>\n",
       "    <tr>\n",
       "      <th>Hornet Sportabout</th>\n",
       "      <td>18.7</td>\n",
       "      <td>18.7</td>\n",
       "      <td>-4.416023e-12</td>\n",
       "    </tr>\n",
       "    <tr>\n",
       "      <th>Valiant</th>\n",
       "      <td>18.1</td>\n",
       "      <td>18.1</td>\n",
       "      <td>-2.131628e-13</td>\n",
       "    </tr>\n",
       "    <tr>\n",
       "      <th>Duster 360</th>\n",
       "      <td>14.3</td>\n",
       "      <td>14.3</td>\n",
       "      <td>-2.128075e-12</td>\n",
       "    </tr>\n",
       "    <tr>\n",
       "      <th>Merc 240D</th>\n",
       "      <td>24.4</td>\n",
       "      <td>24.4</td>\n",
       "      <td>8.597567e-13</td>\n",
       "    </tr>\n",
       "    <tr>\n",
       "      <th>Merc 230</th>\n",
       "      <td>22.8</td>\n",
       "      <td>22.8</td>\n",
       "      <td>1.740830e-13</td>\n",
       "    </tr>\n",
       "    <tr>\n",
       "      <th>Merc 280</th>\n",
       "      <td>19.2</td>\n",
       "      <td>19.2</td>\n",
       "      <td>-6.146195e-13</td>\n",
       "    </tr>\n",
       "    <tr>\n",
       "      <th>Merc 280C</th>\n",
       "      <td>17.8</td>\n",
       "      <td>17.8</td>\n",
       "      <td>-4.085621e-13</td>\n",
       "    </tr>\n",
       "    <tr>\n",
       "      <th>Merc 450SE</th>\n",
       "      <td>16.4</td>\n",
       "      <td>16.4</td>\n",
       "      <td>-2.110312e-12</td>\n",
       "    </tr>\n",
       "    <tr>\n",
       "      <th>Merc 450SL</th>\n",
       "      <td>17.3</td>\n",
       "      <td>17.3</td>\n",
       "      <td>-2.483347e-12</td>\n",
       "    </tr>\n",
       "    <tr>\n",
       "      <th>Merc 450SLC</th>\n",
       "      <td>15.2</td>\n",
       "      <td>15.2</td>\n",
       "      <td>7.780443e-13</td>\n",
       "    </tr>\n",
       "    <tr>\n",
       "      <th>Cadillac Fleetwood</th>\n",
       "      <td>10.4</td>\n",
       "      <td>10.4</td>\n",
       "      <td>2.308731e-11</td>\n",
       "    </tr>\n",
       "    <tr>\n",
       "      <th>Lincoln Continental</th>\n",
       "      <td>10.4</td>\n",
       "      <td>10.4</td>\n",
       "      <td>-1.761258e-11</td>\n",
       "    </tr>\n",
       "    <tr>\n",
       "      <th>Chrysler Imperial</th>\n",
       "      <td>14.7</td>\n",
       "      <td>14.7</td>\n",
       "      <td>-1.652012e-12</td>\n",
       "    </tr>\n",
       "    <tr>\n",
       "      <th>Fiat 128</th>\n",
       "      <td>32.4</td>\n",
       "      <td>32.4</td>\n",
       "      <td>4.334311e-13</td>\n",
       "    </tr>\n",
       "    <tr>\n",
       "      <th>Honda Civic</th>\n",
       "      <td>30.4</td>\n",
       "      <td>30.4</td>\n",
       "      <td>6.892265e-13</td>\n",
       "    </tr>\n",
       "    <tr>\n",
       "      <th>Toyota Corolla</th>\n",
       "      <td>33.9</td>\n",
       "      <td>33.9</td>\n",
       "      <td>-7.815970e-14</td>\n",
       "    </tr>\n",
       "    <tr>\n",
       "      <th>Toyota Corona</th>\n",
       "      <td>21.5</td>\n",
       "      <td>21.5</td>\n",
       "      <td>2.060574e-13</td>\n",
       "    </tr>\n",
       "    <tr>\n",
       "      <th>Dodge Challenger</th>\n",
       "      <td>15.5</td>\n",
       "      <td>15.5</td>\n",
       "      <td>-1.033840e-11</td>\n",
       "    </tr>\n",
       "    <tr>\n",
       "      <th>AMC Javelin</th>\n",
       "      <td>15.2</td>\n",
       "      <td>15.2</td>\n",
       "      <td>-5.837109e-12</td>\n",
       "    </tr>\n",
       "    <tr>\n",
       "      <th>Camaro Z28</th>\n",
       "      <td>13.3</td>\n",
       "      <td>13.3</td>\n",
       "      <td>-2.582823e-12</td>\n",
       "    </tr>\n",
       "    <tr>\n",
       "      <th>Pontiac Firebird</th>\n",
       "      <td>19.2</td>\n",
       "      <td>19.2</td>\n",
       "      <td>-2.664535e-13</td>\n",
       "    </tr>\n",
       "    <tr>\n",
       "      <th>Fiat X1-9</th>\n",
       "      <td>27.3</td>\n",
       "      <td>27.3</td>\n",
       "      <td>1.591616e-12</td>\n",
       "    </tr>\n",
       "    <tr>\n",
       "      <th>Porsche 914-2</th>\n",
       "      <td>26.0</td>\n",
       "      <td>26.0</td>\n",
       "      <td>1.726619e-12</td>\n",
       "    </tr>\n",
       "    <tr>\n",
       "      <th>Lotus Europa</th>\n",
       "      <td>30.4</td>\n",
       "      <td>30.4</td>\n",
       "      <td>1.563194e-13</td>\n",
       "    </tr>\n",
       "    <tr>\n",
       "      <th>Ford Pantera L</th>\n",
       "      <td>15.8</td>\n",
       "      <td>15.8</td>\n",
       "      <td>2.220446e-12</td>\n",
       "    </tr>\n",
       "    <tr>\n",
       "      <th>Ferrari Dino</th>\n",
       "      <td>19.7</td>\n",
       "      <td>19.7</td>\n",
       "      <td>-1.336886e-11</td>\n",
       "    </tr>\n",
       "    <tr>\n",
       "      <th>Maserati Bora</th>\n",
       "      <td>15.0</td>\n",
       "      <td>15.0</td>\n",
       "      <td>-4.177991e-12</td>\n",
       "    </tr>\n",
       "    <tr>\n",
       "      <th>Volvo 142E</th>\n",
       "      <td>21.4</td>\n",
       "      <td>21.4</td>\n",
       "      <td>-2.238210e-12</td>\n",
       "    </tr>\n",
       "  </tbody>\n",
       "</table>\n",
       "</div>"
      ],
      "text/plain": [
       "                      mpg  PolynomialPred    difference\n",
       "Mazda RX4            21.0            21.0  5.684342e-14\n",
       "Mazda RX4 Wag        21.0            21.0  1.136868e-13\n",
       "Datsun 710           22.8            22.8  6.053824e-12\n",
       "Hornet 4 Drive       21.4            21.4  1.392664e-11\n",
       "Hornet Sportabout    18.7            18.7 -4.416023e-12\n",
       "Valiant              18.1            18.1 -2.131628e-13\n",
       "Duster 360           14.3            14.3 -2.128075e-12\n",
       "Merc 240D            24.4            24.4  8.597567e-13\n",
       "Merc 230             22.8            22.8  1.740830e-13\n",
       "Merc 280             19.2            19.2 -6.146195e-13\n",
       "Merc 280C            17.8            17.8 -4.085621e-13\n",
       "Merc 450SE           16.4            16.4 -2.110312e-12\n",
       "Merc 450SL           17.3            17.3 -2.483347e-12\n",
       "Merc 450SLC          15.2            15.2  7.780443e-13\n",
       "Cadillac Fleetwood   10.4            10.4  2.308731e-11\n",
       "Lincoln Continental  10.4            10.4 -1.761258e-11\n",
       "Chrysler Imperial    14.7            14.7 -1.652012e-12\n",
       "Fiat 128             32.4            32.4  4.334311e-13\n",
       "Honda Civic          30.4            30.4  6.892265e-13\n",
       "Toyota Corolla       33.9            33.9 -7.815970e-14\n",
       "Toyota Corona        21.5            21.5  2.060574e-13\n",
       "Dodge Challenger     15.5            15.5 -1.033840e-11\n",
       "AMC Javelin          15.2            15.2 -5.837109e-12\n",
       "Camaro Z28           13.3            13.3 -2.582823e-12\n",
       "Pontiac Firebird     19.2            19.2 -2.664535e-13\n",
       "Fiat X1-9            27.3            27.3  1.591616e-12\n",
       "Porsche 914-2        26.0            26.0  1.726619e-12\n",
       "Lotus Europa         30.4            30.4  1.563194e-13\n",
       "Ford Pantera L       15.8            15.8  2.220446e-12\n",
       "Ferrari Dino         19.7            19.7 -1.336886e-11\n",
       "Maserati Bora        15.0            15.0 -4.177991e-12\n",
       "Volvo 142E           21.4            21.4 -2.238210e-12"
      ]
     },
     "execution_count": 45,
     "metadata": {},
     "output_type": "execute_result"
    }
   ],
   "source": [
    "preds.index = mtcars.index\n",
    "compare2 = pd.DataFrame(mtcars['mpg'])\n",
    "compare2['PolynomialPred'] = preds.PolynomialPred\n",
    "compare2['difference'] = compare2.mpg - compare2.PolynomialPred\n",
    "\n",
    "compare2"
   ]
  },
  {
   "cell_type": "code",
   "execution_count": null,
   "id": "1e2b7813",
   "metadata": {},
   "outputs": [],
   "source": [
    "\n"
   ]
  },
  {
   "cell_type": "code",
   "execution_count": null,
   "id": "b8489d55-e979-4c8d-84c0-5041687f2802",
   "metadata": {},
   "outputs": [],
   "source": []
  },
  {
   "cell_type": "markdown",
   "id": "a84d8e06",
   "metadata": {},
   "source": [
    "***\n",
    "## Logistic Regression"
   ]
  },
  {
   "cell_type": "markdown",
   "id": "166029f2-2144-42ab-9b5d-12a5a5d3bb70",
   "metadata": {},
   "source": [
    "#### Load the data"
   ]
  },
  {
   "cell_type": "code",
   "execution_count": 46,
   "id": "fb054168-484d-430e-aa5f-02a3b8a59293",
   "metadata": {},
   "outputs": [],
   "source": [
    "# https://www.kaggle.com/uciml/pima-indians-diabetes-database\n",
    "df = pd.read_csv('diabetes.csv')"
   ]
  },
  {
   "cell_type": "markdown",
   "id": "561e5e1b-3216-4de0-9363-54baa88e2af6",
   "metadata": {},
   "source": [
    "#### Review the data"
   ]
  },
  {
   "cell_type": "code",
   "execution_count": 47,
   "id": "6be30807-58d0-46ad-ab81-e4543a0312fe",
   "metadata": {},
   "outputs": [
    {
     "data": {
      "text/html": [
       "<div>\n",
       "<style scoped>\n",
       "    .dataframe tbody tr th:only-of-type {\n",
       "        vertical-align: middle;\n",
       "    }\n",
       "\n",
       "    .dataframe tbody tr th {\n",
       "        vertical-align: top;\n",
       "    }\n",
       "\n",
       "    .dataframe thead th {\n",
       "        text-align: right;\n",
       "    }\n",
       "</style>\n",
       "<table border=\"1\" class=\"dataframe\">\n",
       "  <thead>\n",
       "    <tr style=\"text-align: right;\">\n",
       "      <th></th>\n",
       "      <th>Pregnancies</th>\n",
       "      <th>Glucose</th>\n",
       "      <th>BloodPressure</th>\n",
       "      <th>SkinThickness</th>\n",
       "      <th>Insulin</th>\n",
       "      <th>BMI</th>\n",
       "      <th>DiabetesPedigreeFunction</th>\n",
       "      <th>Age</th>\n",
       "      <th>Outcome</th>\n",
       "    </tr>\n",
       "  </thead>\n",
       "  <tbody>\n",
       "    <tr>\n",
       "      <th>0</th>\n",
       "      <td>6</td>\n",
       "      <td>148</td>\n",
       "      <td>72</td>\n",
       "      <td>35</td>\n",
       "      <td>0</td>\n",
       "      <td>33.6</td>\n",
       "      <td>0.627</td>\n",
       "      <td>50</td>\n",
       "      <td>1</td>\n",
       "    </tr>\n",
       "    <tr>\n",
       "      <th>1</th>\n",
       "      <td>1</td>\n",
       "      <td>85</td>\n",
       "      <td>66</td>\n",
       "      <td>29</td>\n",
       "      <td>0</td>\n",
       "      <td>26.6</td>\n",
       "      <td>0.351</td>\n",
       "      <td>31</td>\n",
       "      <td>0</td>\n",
       "    </tr>\n",
       "    <tr>\n",
       "      <th>2</th>\n",
       "      <td>8</td>\n",
       "      <td>183</td>\n",
       "      <td>64</td>\n",
       "      <td>0</td>\n",
       "      <td>0</td>\n",
       "      <td>23.3</td>\n",
       "      <td>0.672</td>\n",
       "      <td>32</td>\n",
       "      <td>1</td>\n",
       "    </tr>\n",
       "    <tr>\n",
       "      <th>3</th>\n",
       "      <td>1</td>\n",
       "      <td>89</td>\n",
       "      <td>66</td>\n",
       "      <td>23</td>\n",
       "      <td>94</td>\n",
       "      <td>28.1</td>\n",
       "      <td>0.167</td>\n",
       "      <td>21</td>\n",
       "      <td>0</td>\n",
       "    </tr>\n",
       "    <tr>\n",
       "      <th>4</th>\n",
       "      <td>0</td>\n",
       "      <td>137</td>\n",
       "      <td>40</td>\n",
       "      <td>35</td>\n",
       "      <td>168</td>\n",
       "      <td>43.1</td>\n",
       "      <td>2.288</td>\n",
       "      <td>33</td>\n",
       "      <td>1</td>\n",
       "    </tr>\n",
       "    <tr>\n",
       "      <th>...</th>\n",
       "      <td>...</td>\n",
       "      <td>...</td>\n",
       "      <td>...</td>\n",
       "      <td>...</td>\n",
       "      <td>...</td>\n",
       "      <td>...</td>\n",
       "      <td>...</td>\n",
       "      <td>...</td>\n",
       "      <td>...</td>\n",
       "    </tr>\n",
       "    <tr>\n",
       "      <th>763</th>\n",
       "      <td>10</td>\n",
       "      <td>101</td>\n",
       "      <td>76</td>\n",
       "      <td>48</td>\n",
       "      <td>180</td>\n",
       "      <td>32.9</td>\n",
       "      <td>0.171</td>\n",
       "      <td>63</td>\n",
       "      <td>0</td>\n",
       "    </tr>\n",
       "    <tr>\n",
       "      <th>764</th>\n",
       "      <td>2</td>\n",
       "      <td>122</td>\n",
       "      <td>70</td>\n",
       "      <td>27</td>\n",
       "      <td>0</td>\n",
       "      <td>36.8</td>\n",
       "      <td>0.340</td>\n",
       "      <td>27</td>\n",
       "      <td>0</td>\n",
       "    </tr>\n",
       "    <tr>\n",
       "      <th>765</th>\n",
       "      <td>5</td>\n",
       "      <td>121</td>\n",
       "      <td>72</td>\n",
       "      <td>23</td>\n",
       "      <td>112</td>\n",
       "      <td>26.2</td>\n",
       "      <td>0.245</td>\n",
       "      <td>30</td>\n",
       "      <td>0</td>\n",
       "    </tr>\n",
       "    <tr>\n",
       "      <th>766</th>\n",
       "      <td>1</td>\n",
       "      <td>126</td>\n",
       "      <td>60</td>\n",
       "      <td>0</td>\n",
       "      <td>0</td>\n",
       "      <td>30.1</td>\n",
       "      <td>0.349</td>\n",
       "      <td>47</td>\n",
       "      <td>1</td>\n",
       "    </tr>\n",
       "    <tr>\n",
       "      <th>767</th>\n",
       "      <td>1</td>\n",
       "      <td>93</td>\n",
       "      <td>70</td>\n",
       "      <td>31</td>\n",
       "      <td>0</td>\n",
       "      <td>30.4</td>\n",
       "      <td>0.315</td>\n",
       "      <td>23</td>\n",
       "      <td>0</td>\n",
       "    </tr>\n",
       "  </tbody>\n",
       "</table>\n",
       "<p>768 rows × 9 columns</p>\n",
       "</div>"
      ],
      "text/plain": [
       "     Pregnancies  Glucose  BloodPressure  SkinThickness  Insulin   BMI  \\\n",
       "0              6      148             72             35        0  33.6   \n",
       "1              1       85             66             29        0  26.6   \n",
       "2              8      183             64              0        0  23.3   \n",
       "3              1       89             66             23       94  28.1   \n",
       "4              0      137             40             35      168  43.1   \n",
       "..           ...      ...            ...            ...      ...   ...   \n",
       "763           10      101             76             48      180  32.9   \n",
       "764            2      122             70             27        0  36.8   \n",
       "765            5      121             72             23      112  26.2   \n",
       "766            1      126             60              0        0  30.1   \n",
       "767            1       93             70             31        0  30.4   \n",
       "\n",
       "     DiabetesPedigreeFunction  Age  Outcome  \n",
       "0                       0.627   50        1  \n",
       "1                       0.351   31        0  \n",
       "2                       0.672   32        1  \n",
       "3                       0.167   21        0  \n",
       "4                       2.288   33        1  \n",
       "..                        ...  ...      ...  \n",
       "763                     0.171   63        0  \n",
       "764                     0.340   27        0  \n",
       "765                     0.245   30        0  \n",
       "766                     0.349   47        1  \n",
       "767                     0.315   23        0  \n",
       "\n",
       "[768 rows x 9 columns]"
      ]
     },
     "execution_count": 47,
     "metadata": {},
     "output_type": "execute_result"
    }
   ],
   "source": [
    "df"
   ]
  },
  {
   "cell_type": "code",
   "execution_count": 48,
   "id": "3524e33e-01c0-4214-baf8-537e29a221da",
   "metadata": {},
   "outputs": [
    {
     "data": {
      "text/plain": [
       "0    500\n",
       "1    268\n",
       "Name: Outcome, dtype: int64"
      ]
     },
     "execution_count": 48,
     "metadata": {},
     "output_type": "execute_result"
    }
   ],
   "source": [
    "df.Outcome.value_counts()"
   ]
  },
  {
   "cell_type": "code",
   "execution_count": 49,
   "id": "85ba092e-a23f-4a0a-b337-4f1597940f75",
   "metadata": {},
   "outputs": [
    {
     "data": {
      "text/html": [
       "<div>\n",
       "<style scoped>\n",
       "    .dataframe tbody tr th:only-of-type {\n",
       "        vertical-align: middle;\n",
       "    }\n",
       "\n",
       "    .dataframe tbody tr th {\n",
       "        vertical-align: top;\n",
       "    }\n",
       "\n",
       "    .dataframe thead th {\n",
       "        text-align: right;\n",
       "    }\n",
       "</style>\n",
       "<table border=\"1\" class=\"dataframe\">\n",
       "  <thead>\n",
       "    <tr style=\"text-align: right;\">\n",
       "      <th></th>\n",
       "      <th>Pregnancies</th>\n",
       "      <th>Glucose</th>\n",
       "      <th>BloodPressure</th>\n",
       "      <th>SkinThickness</th>\n",
       "      <th>Insulin</th>\n",
       "      <th>BMI</th>\n",
       "      <th>DiabetesPedigreeFunction</th>\n",
       "      <th>Age</th>\n",
       "      <th>Outcome</th>\n",
       "    </tr>\n",
       "  </thead>\n",
       "  <tbody>\n",
       "    <tr>\n",
       "      <th>count</th>\n",
       "      <td>768.000000</td>\n",
       "      <td>768.000000</td>\n",
       "      <td>768.000000</td>\n",
       "      <td>768.000000</td>\n",
       "      <td>768.000000</td>\n",
       "      <td>768.000000</td>\n",
       "      <td>768.000000</td>\n",
       "      <td>768.000000</td>\n",
       "      <td>768.000000</td>\n",
       "    </tr>\n",
       "    <tr>\n",
       "      <th>mean</th>\n",
       "      <td>3.845052</td>\n",
       "      <td>120.894531</td>\n",
       "      <td>69.105469</td>\n",
       "      <td>20.536458</td>\n",
       "      <td>79.799479</td>\n",
       "      <td>31.992578</td>\n",
       "      <td>0.471876</td>\n",
       "      <td>33.240885</td>\n",
       "      <td>0.348958</td>\n",
       "    </tr>\n",
       "    <tr>\n",
       "      <th>std</th>\n",
       "      <td>3.369578</td>\n",
       "      <td>31.972618</td>\n",
       "      <td>19.355807</td>\n",
       "      <td>15.952218</td>\n",
       "      <td>115.244002</td>\n",
       "      <td>7.884160</td>\n",
       "      <td>0.331329</td>\n",
       "      <td>11.760232</td>\n",
       "      <td>0.476951</td>\n",
       "    </tr>\n",
       "    <tr>\n",
       "      <th>min</th>\n",
       "      <td>0.000000</td>\n",
       "      <td>0.000000</td>\n",
       "      <td>0.000000</td>\n",
       "      <td>0.000000</td>\n",
       "      <td>0.000000</td>\n",
       "      <td>0.000000</td>\n",
       "      <td>0.078000</td>\n",
       "      <td>21.000000</td>\n",
       "      <td>0.000000</td>\n",
       "    </tr>\n",
       "    <tr>\n",
       "      <th>25%</th>\n",
       "      <td>1.000000</td>\n",
       "      <td>99.000000</td>\n",
       "      <td>62.000000</td>\n",
       "      <td>0.000000</td>\n",
       "      <td>0.000000</td>\n",
       "      <td>27.300000</td>\n",
       "      <td>0.243750</td>\n",
       "      <td>24.000000</td>\n",
       "      <td>0.000000</td>\n",
       "    </tr>\n",
       "    <tr>\n",
       "      <th>50%</th>\n",
       "      <td>3.000000</td>\n",
       "      <td>117.000000</td>\n",
       "      <td>72.000000</td>\n",
       "      <td>23.000000</td>\n",
       "      <td>30.500000</td>\n",
       "      <td>32.000000</td>\n",
       "      <td>0.372500</td>\n",
       "      <td>29.000000</td>\n",
       "      <td>0.000000</td>\n",
       "    </tr>\n",
       "    <tr>\n",
       "      <th>75%</th>\n",
       "      <td>6.000000</td>\n",
       "      <td>140.250000</td>\n",
       "      <td>80.000000</td>\n",
       "      <td>32.000000</td>\n",
       "      <td>127.250000</td>\n",
       "      <td>36.600000</td>\n",
       "      <td>0.626250</td>\n",
       "      <td>41.000000</td>\n",
       "      <td>1.000000</td>\n",
       "    </tr>\n",
       "    <tr>\n",
       "      <th>max</th>\n",
       "      <td>17.000000</td>\n",
       "      <td>199.000000</td>\n",
       "      <td>122.000000</td>\n",
       "      <td>99.000000</td>\n",
       "      <td>846.000000</td>\n",
       "      <td>67.100000</td>\n",
       "      <td>2.420000</td>\n",
       "      <td>81.000000</td>\n",
       "      <td>1.000000</td>\n",
       "    </tr>\n",
       "  </tbody>\n",
       "</table>\n",
       "</div>"
      ],
      "text/plain": [
       "       Pregnancies     Glucose  BloodPressure  SkinThickness     Insulin  \\\n",
       "count   768.000000  768.000000     768.000000     768.000000  768.000000   \n",
       "mean      3.845052  120.894531      69.105469      20.536458   79.799479   \n",
       "std       3.369578   31.972618      19.355807      15.952218  115.244002   \n",
       "min       0.000000    0.000000       0.000000       0.000000    0.000000   \n",
       "25%       1.000000   99.000000      62.000000       0.000000    0.000000   \n",
       "50%       3.000000  117.000000      72.000000      23.000000   30.500000   \n",
       "75%       6.000000  140.250000      80.000000      32.000000  127.250000   \n",
       "max      17.000000  199.000000     122.000000      99.000000  846.000000   \n",
       "\n",
       "              BMI  DiabetesPedigreeFunction         Age     Outcome  \n",
       "count  768.000000                768.000000  768.000000  768.000000  \n",
       "mean    31.992578                  0.471876   33.240885    0.348958  \n",
       "std      7.884160                  0.331329   11.760232    0.476951  \n",
       "min      0.000000                  0.078000   21.000000    0.000000  \n",
       "25%     27.300000                  0.243750   24.000000    0.000000  \n",
       "50%     32.000000                  0.372500   29.000000    0.000000  \n",
       "75%     36.600000                  0.626250   41.000000    1.000000  \n",
       "max     67.100000                  2.420000   81.000000    1.000000  "
      ]
     },
     "execution_count": 49,
     "metadata": {},
     "output_type": "execute_result"
    }
   ],
   "source": [
    "df.describe()"
   ]
  },
  {
   "cell_type": "code",
   "execution_count": 50,
   "id": "20490667-305f-499e-8094-da29f485e2a5",
   "metadata": {},
   "outputs": [
    {
     "data": {
      "image/png": "[encoded data removed]",
      "text/plain": [
       "<Figure size 432x288 with 2 Axes>"
      ]
     },
     "metadata": {
      "needs_background": "light"
     },
     "output_type": "display_data"
    }
   ],
   "source": [
    "sns.heatmap(df.corr(), cmap=\"PiYG\");"
   ]
  },
  {
   "cell_type": "markdown",
   "id": "ba412acd-2b9d-479c-9392-bba34713c0e5",
   "metadata": {},
   "source": [
    "#### Prepare the data, and perform a train-test split"
   ]
  },
  {
   "cell_type": "code",
   "execution_count": 51,
   "id": "621c4c86-521c-4df2-88a2-2d19b08f1eab",
   "metadata": {},
   "outputs": [
    {
     "name": "stderr",
     "output_type": "stream",
     "text": [
      "/opt/conda/envs/mggy8413/lib/python3.9/site-packages/statsmodels/tsa/tsatools.py:142: FutureWarning: In a future version of pandas all arguments of concat except for the argument 'objs' will be keyword-only\n",
      "  x = pd.concat(x[::order], 1)\n"
     ]
    }
   ],
   "source": [
    "# Columns 0 to 8 are our predictors, or features\n",
    "X = df.iloc[:,:8]\n",
    "\n",
    "# Standard scale the features\n",
    "X = pd.DataFrame(preproc.StandardScaler().fit_transform(X))\n",
    "\n",
    "# Add the intercept term/constant\n",
    "X = sm.add_constant(X)\n",
    "\n",
    "# The last column is our y variable, the target\n",
    "y = df.Outcome\n",
    "\n",
    "# Now we are ready to do the train-test split 75-25, with random_state=1\n",
    "X_train, X_test, y_train, y_test = train_test_split(X, y, test_size=0.25, random_state=1)"
   ]
  },
  {
   "cell_type": "code",
   "execution_count": 52,
   "id": "4e295316-02ff-49ab-b4dd-93c17d66b301",
   "metadata": {},
   "outputs": [
    {
     "data": {
      "text/plain": [
       "Index(['const', 0, 1, 2, 3, 4, 5, 6, 7], dtype='object')"
      ]
     },
     "execution_count": 52,
     "metadata": {},
     "output_type": "execute_result"
    }
   ],
   "source": [
    "X.columns"
   ]
  },
  {
   "cell_type": "code",
   "execution_count": 53,
   "id": "5db86f98-7b30-4c92-a939-486f935a62c3",
   "metadata": {},
   "outputs": [
    {
     "data": {
      "text/html": [
       "<div>\n",
       "<style scoped>\n",
       "    .dataframe tbody tr th:only-of-type {\n",
       "        vertical-align: middle;\n",
       "    }\n",
       "\n",
       "    .dataframe tbody tr th {\n",
       "        vertical-align: top;\n",
       "    }\n",
       "\n",
       "    .dataframe thead th {\n",
       "        text-align: right;\n",
       "    }\n",
       "</style>\n",
       "<table border=\"1\" class=\"dataframe\">\n",
       "  <thead>\n",
       "    <tr style=\"text-align: right;\">\n",
       "      <th></th>\n",
       "      <th>const</th>\n",
       "      <th>0</th>\n",
       "      <th>1</th>\n",
       "      <th>2</th>\n",
       "      <th>3</th>\n",
       "      <th>4</th>\n",
       "      <th>5</th>\n",
       "      <th>6</th>\n",
       "      <th>7</th>\n",
       "    </tr>\n",
       "  </thead>\n",
       "  <tbody>\n",
       "    <tr>\n",
       "      <th>118</th>\n",
       "      <td>1.0</td>\n",
       "      <td>0.046014</td>\n",
       "      <td>-0.747831</td>\n",
       "      <td>-0.470732</td>\n",
       "      <td>0.154533</td>\n",
       "      <td>-0.692891</td>\n",
       "      <td>-0.481351</td>\n",
       "      <td>-0.087210</td>\n",
       "      <td>-0.956462</td>\n",
       "    </tr>\n",
       "    <tr>\n",
       "      <th>205</th>\n",
       "      <td>1.0</td>\n",
       "      <td>0.342981</td>\n",
       "      <td>-0.309671</td>\n",
       "      <td>0.149641</td>\n",
       "      <td>0.468173</td>\n",
       "      <td>-0.692891</td>\n",
       "      <td>-1.027104</td>\n",
       "      <td>-0.195934</td>\n",
       "      <td>-0.531023</td>\n",
       "    </tr>\n",
       "    <tr>\n",
       "      <th>506</th>\n",
       "      <td>1.0</td>\n",
       "      <td>-1.141852</td>\n",
       "      <td>1.849832</td>\n",
       "      <td>1.080200</td>\n",
       "      <td>0.342717</td>\n",
       "      <td>0.088570</td>\n",
       "      <td>0.572079</td>\n",
       "      <td>-0.476805</td>\n",
       "      <td>0.149679</td>\n",
       "    </tr>\n",
       "    <tr>\n",
       "      <th>587</th>\n",
       "      <td>1.0</td>\n",
       "      <td>0.639947</td>\n",
       "      <td>-0.560048</td>\n",
       "      <td>-0.160546</td>\n",
       "      <td>-1.288212</td>\n",
       "      <td>-0.692891</td>\n",
       "      <td>-0.976336</td>\n",
       "      <td>-0.673113</td>\n",
       "      <td>-0.360847</td>\n",
       "    </tr>\n",
       "    <tr>\n",
       "      <th>34</th>\n",
       "      <td>1.0</td>\n",
       "      <td>1.827813</td>\n",
       "      <td>0.034598</td>\n",
       "      <td>0.459827</td>\n",
       "      <td>0.656358</td>\n",
       "      <td>-0.692891</td>\n",
       "      <td>-0.557503</td>\n",
       "      <td>0.121178</td>\n",
       "      <td>1.000557</td>\n",
       "    </tr>\n",
       "    <tr>\n",
       "      <th>...</th>\n",
       "      <td>...</td>\n",
       "      <td>...</td>\n",
       "      <td>...</td>\n",
       "      <td>...</td>\n",
       "      <td>...</td>\n",
       "      <td>...</td>\n",
       "      <td>...</td>\n",
       "      <td>...</td>\n",
       "      <td>...</td>\n",
       "    </tr>\n",
       "    <tr>\n",
       "      <th>645</th>\n",
       "      <td>1.0</td>\n",
       "      <td>-0.547919</td>\n",
       "      <td>1.129998</td>\n",
       "      <td>0.253036</td>\n",
       "      <td>0.907270</td>\n",
       "      <td>3.127584</td>\n",
       "      <td>0.940144</td>\n",
       "      <td>-1.020427</td>\n",
       "      <td>-0.275760</td>\n",
       "    </tr>\n",
       "    <tr>\n",
       "      <th>715</th>\n",
       "      <td>1.0</td>\n",
       "      <td>0.936914</td>\n",
       "      <td>2.068912</td>\n",
       "      <td>-0.987710</td>\n",
       "      <td>0.781814</td>\n",
       "      <td>2.710805</td>\n",
       "      <td>0.242089</td>\n",
       "      <td>1.069496</td>\n",
       "      <td>0.064591</td>\n",
       "    </tr>\n",
       "    <tr>\n",
       "      <th>72</th>\n",
       "      <td>1.0</td>\n",
       "      <td>2.718712</td>\n",
       "      <td>0.159787</td>\n",
       "      <td>1.080200</td>\n",
       "      <td>-1.288212</td>\n",
       "      <td>-0.692891</td>\n",
       "      <td>1.447821</td>\n",
       "      <td>0.335607</td>\n",
       "      <td>0.745293</td>\n",
       "    </tr>\n",
       "    <tr>\n",
       "      <th>235</th>\n",
       "      <td>1.0</td>\n",
       "      <td>0.046014</td>\n",
       "      <td>1.568158</td>\n",
       "      <td>0.149641</td>\n",
       "      <td>-1.288212</td>\n",
       "      <td>-0.692891</td>\n",
       "      <td>1.473205</td>\n",
       "      <td>0.021514</td>\n",
       "      <td>-0.616111</td>\n",
       "    </tr>\n",
       "    <tr>\n",
       "      <th>37</th>\n",
       "      <td>1.0</td>\n",
       "      <td>1.530847</td>\n",
       "      <td>-0.591345</td>\n",
       "      <td>0.356432</td>\n",
       "      <td>1.032726</td>\n",
       "      <td>-0.692891</td>\n",
       "      <td>0.115169</td>\n",
       "      <td>0.583256</td>\n",
       "      <td>1.085644</td>\n",
       "    </tr>\n",
       "  </tbody>\n",
       "</table>\n",
       "<p>576 rows × 9 columns</p>\n",
       "</div>"
      ],
      "text/plain": [
       "     const         0         1         2         3         4         5  \\\n",
       "118    1.0  0.046014 -0.747831 -0.470732  0.154533 -0.692891 -0.481351   \n",
       "205    1.0  0.342981 -0.309671  0.149641  0.468173 -0.692891 -1.027104   \n",
       "506    1.0 -1.141852  1.849832  1.080200  0.342717  0.088570  0.572079   \n",
       "587    1.0  0.639947 -0.560048 -0.160546 -1.288212 -0.692891 -0.976336   \n",
       "34     1.0  1.827813  0.034598  0.459827  0.656358 -0.692891 -0.557503   \n",
       "..     ...       ...       ...       ...       ...       ...       ...   \n",
       "645    1.0 -0.547919  1.129998  0.253036  0.907270  3.127584  0.940144   \n",
       "715    1.0  0.936914  2.068912 -0.987710  0.781814  2.710805  0.242089   \n",
       "72     1.0  2.718712  0.159787  1.080200 -1.288212 -0.692891  1.447821   \n",
       "235    1.0  0.046014  1.568158  0.149641 -1.288212 -0.692891  1.473205   \n",
       "37     1.0  1.530847 -0.591345  0.356432  1.032726 -0.692891  0.115169   \n",
       "\n",
       "            6         7  \n",
       "118 -0.087210 -0.956462  \n",
       "205 -0.195934 -0.531023  \n",
       "506 -0.476805  0.149679  \n",
       "587 -0.673113 -0.360847  \n",
       "34   0.121178  1.000557  \n",
       "..        ...       ...  \n",
       "645 -1.020427 -0.275760  \n",
       "715  1.069496  0.064591  \n",
       "72   0.335607  0.745293  \n",
       "235  0.021514 -0.616111  \n",
       "37   0.583256  1.085644  \n",
       "\n",
       "[576 rows x 9 columns]"
      ]
     },
     "execution_count": 53,
     "metadata": {},
     "output_type": "execute_result"
    }
   ],
   "source": [
    "X_train"
   ]
  },
  {
   "cell_type": "code",
   "execution_count": 54,
   "id": "9bf2af43-66ea-47d7-8708-c3736c05bb55",
   "metadata": {},
   "outputs": [
    {
     "data": {
      "text/plain": [
       "118    0\n",
       "205    0\n",
       "506    1\n",
       "587    0\n",
       "34     0\n",
       "      ..\n",
       "645    0\n",
       "715    1\n",
       "72     1\n",
       "235    1\n",
       "37     1\n",
       "Name: Outcome, Length: 576, dtype: int64"
      ]
     },
     "execution_count": 54,
     "metadata": {},
     "output_type": "execute_result"
    }
   ],
   "source": [
    "y_train"
   ]
  },
  {
   "cell_type": "markdown",
   "id": "2c15d3b8-198d-4066-a7cd-e9f19eff30f2",
   "metadata": {},
   "source": [
    "#### Create a model using the Statsmodels library"
   ]
  },
  {
   "cell_type": "code",
   "execution_count": 55,
   "id": "bf97e492-de6c-478a-90ca-a8a9783958d1",
   "metadata": {},
   "outputs": [
    {
     "name": "stdout",
     "output_type": "stream",
     "text": [
      "Optimization terminated successfully.\n",
      "         Current function value: 0.474074\n",
      "         Iterations 6\n"
     ]
    },
    {
     "data": {
      "text/html": [
       "<table class=\"simpletable\">\n",
       "<caption>Logit Regression Results</caption>\n",
       "<tr>\n",
       "  <th>Dep. Variable:</th>        <td>Outcome</td>     <th>  No. Observations:  </th>  <td>   576</td>  \n",
       "</tr>\n",
       "<tr>\n",
       "  <th>Model:</th>                 <td>Logit</td>      <th>  Df Residuals:      </th>  <td>   567</td>  \n",
       "</tr>\n",
       "<tr>\n",
       "  <th>Method:</th>                 <td>MLE</td>       <th>  Df Model:          </th>  <td>     8</td>  \n",
       "</tr>\n",
       "<tr>\n",
       "  <th>Date:</th>            <td>Fri, 08 Oct 2021</td> <th>  Pseudo R-squ.:     </th>  <td>0.2646</td>  \n",
       "</tr>\n",
       "<tr>\n",
       "  <th>Time:</th>                <td>23:13:52</td>     <th>  Log-Likelihood:    </th> <td> -273.07</td> \n",
       "</tr>\n",
       "<tr>\n",
       "  <th>converged:</th>             <td>True</td>       <th>  LL-Null:           </th> <td> -371.29</td> \n",
       "</tr>\n",
       "<tr>\n",
       "  <th>Covariance Type:</th>     <td>nonrobust</td>    <th>  LLR p-value:       </th> <td>3.567e-38</td>\n",
       "</tr>\n",
       "</table>\n",
       "<table class=\"simpletable\">\n",
       "<tr>\n",
       "    <td></td>       <th>coef</th>     <th>std err</th>      <th>z</th>      <th>P>|z|</th>  <th>[0.025</th>    <th>0.975]</th>  \n",
       "</tr>\n",
       "<tr>\n",
       "  <th>const</th> <td>   -0.8721</td> <td>    0.111</td> <td>   -7.853</td> <td> 0.000</td> <td>   -1.090</td> <td>   -0.654</td>\n",
       "</tr>\n",
       "<tr>\n",
       "  <th>0</th>     <td>    0.3975</td> <td>    0.123</td> <td>    3.230</td> <td> 0.001</td> <td>    0.156</td> <td>    0.639</td>\n",
       "</tr>\n",
       "<tr>\n",
       "  <th>1</th>     <td>    1.1319</td> <td>    0.138</td> <td>    8.191</td> <td> 0.000</td> <td>    0.861</td> <td>    1.403</td>\n",
       "</tr>\n",
       "<tr>\n",
       "  <th>2</th>     <td>   -0.2824</td> <td>    0.111</td> <td>   -2.543</td> <td> 0.011</td> <td>   -0.500</td> <td>   -0.065</td>\n",
       "</tr>\n",
       "<tr>\n",
       "  <th>3</th>     <td>   -0.0432</td> <td>    0.129</td> <td>   -0.336</td> <td> 0.737</td> <td>   -0.295</td> <td>    0.209</td>\n",
       "</tr>\n",
       "<tr>\n",
       "  <th>4</th>     <td>   -0.0835</td> <td>    0.127</td> <td>   -0.658</td> <td> 0.510</td> <td>   -0.332</td> <td>    0.165</td>\n",
       "</tr>\n",
       "<tr>\n",
       "  <th>5</th>     <td>    0.7206</td> <td>    0.138</td> <td>    5.214</td> <td> 0.000</td> <td>    0.450</td> <td>    0.991</td>\n",
       "</tr>\n",
       "<tr>\n",
       "  <th>6</th>     <td>    0.1972</td> <td>    0.111</td> <td>    1.781</td> <td> 0.075</td> <td>   -0.020</td> <td>    0.414</td>\n",
       "</tr>\n",
       "<tr>\n",
       "  <th>7</th>     <td>    0.1623</td> <td>    0.126</td> <td>    1.286</td> <td> 0.198</td> <td>   -0.085</td> <td>    0.410</td>\n",
       "</tr>\n",
       "</table>"
      ],
      "text/plain": [
       "<class 'statsmodels.iolib.summary.Summary'>\n",
       "\"\"\"\n",
       "                           Logit Regression Results                           \n",
       "==============================================================================\n",
       "Dep. Variable:                Outcome   No. Observations:                  576\n",
       "Model:                          Logit   Df Residuals:                      567\n",
       "Method:                           MLE   Df Model:                            8\n",
       "Date:                Fri, 08 Oct 2021   Pseudo R-squ.:                  0.2646\n",
       "Time:                        23:13:52   Log-Likelihood:                -273.07\n",
       "converged:                       True   LL-Null:                       -371.29\n",
       "Covariance Type:            nonrobust   LLR p-value:                 3.567e-38\n",
       "==============================================================================\n",
       "                 coef    std err          z      P>|z|      [0.025      0.975]\n",
       "------------------------------------------------------------------------------\n",
       "const         -0.8721      0.111     -7.853      0.000      -1.090      -0.654\n",
       "0              0.3975      0.123      3.230      0.001       0.156       0.639\n",
       "1              1.1319      0.138      8.191      0.000       0.861       1.403\n",
       "2             -0.2824      0.111     -2.543      0.011      -0.500      -0.065\n",
       "3             -0.0432      0.129     -0.336      0.737      -0.295       0.209\n",
       "4             -0.0835      0.127     -0.658      0.510      -0.332       0.165\n",
       "5              0.7206      0.138      5.214      0.000       0.450       0.991\n",
       "6              0.1972      0.111      1.781      0.075      -0.020       0.414\n",
       "7              0.1623      0.126      1.286      0.198      -0.085       0.410\n",
       "==============================================================================\n",
       "\"\"\""
      ]
     },
     "execution_count": 55,
     "metadata": {},
     "output_type": "execute_result"
    }
   ],
   "source": [
    "model = sm.Logit(y_train, X_train).fit()\n",
    "model.summary()"
   ]
  },
  {
   "cell_type": "markdown",
   "id": "2d600cd5-b1cd-4a54-94f7-4a283b0dd733",
   "metadata": {},
   "source": [
    "#### Run the model on the test set, and build a confusion matrix"
   ]
  },
  {
   "cell_type": "code",
   "execution_count": 56,
   "id": "a97b4e55-72d2-4cca-97d4-d3a547d6ca4c",
   "metadata": {},
   "outputs": [
    {
     "name": "stdout",
     "output_type": "stream",
     "text": [
      "Confusion Matrix : \n",
      " [[109  14]\n",
      " [ 29  40]]\n",
      "Test accuracy =  0.7760416666666666\n"
     ]
    }
   ],
   "source": [
    "# Create predictions.  Note that predictions give us probabilities, not classes!\n",
    "pred_prob = model.predict(X_test)\n",
    "\n",
    "# Set threshold for identifying class 1\n",
    "threshold = 0.50\n",
    "\n",
    "# Convert probabilities to 1s and 0s based on threshold\n",
    "pred = (pred_prob>threshold).astype(int)\n",
    " \n",
    "# confusion matrix\n",
    "cm = confusion_matrix(y_test, pred)\n",
    "print (\"Confusion Matrix : \\n\", cm)\n",
    " \n",
    "# accuracy score of the model\n",
    "print('Test accuracy = ', accuracy_score(y_test, pred))"
   ]
  },
  {
   "cell_type": "code",
   "execution_count": 57,
   "id": "642235b4-d343-4880-8e82-795e641d0490",
   "metadata": {},
   "outputs": [
    {
     "data": {
      "text/html": [
       "<div>\n",
       "<style scoped>\n",
       "    .dataframe tbody tr th:only-of-type {\n",
       "        vertical-align: middle;\n",
       "    }\n",
       "\n",
       "    .dataframe tbody tr th {\n",
       "        vertical-align: top;\n",
       "    }\n",
       "\n",
       "    .dataframe thead th {\n",
       "        text-align: right;\n",
       "    }\n",
       "</style>\n",
       "<table border=\"1\" class=\"dataframe\">\n",
       "  <thead>\n",
       "    <tr style=\"text-align: right;\">\n",
       "      <th></th>\n",
       "      <th>Predicted 0</th>\n",
       "      <th>Predicted 1</th>\n",
       "    </tr>\n",
       "  </thead>\n",
       "  <tbody>\n",
       "    <tr>\n",
       "      <th>Actual 0</th>\n",
       "      <td>109</td>\n",
       "      <td>14</td>\n",
       "    </tr>\n",
       "    <tr>\n",
       "      <th>Actual 1</th>\n",
       "      <td>29</td>\n",
       "      <td>40</td>\n",
       "    </tr>\n",
       "  </tbody>\n",
       "</table>\n",
       "</div>"
      ],
      "text/plain": [
       "          Predicted 0  Predicted 1\n",
       "Actual 0          109           14\n",
       "Actual 1           29           40"
      ]
     },
     "execution_count": 57,
     "metadata": {},
     "output_type": "execute_result"
    }
   ],
   "source": [
    "cm = confusion_matrix(y_test, pred)\n",
    "pd.DataFrame(cm, columns=['Predicted 0', 'Predicted 1'], index = ['Actual 0', 'Actual 1'])"
   ]
  },
  {
   "cell_type": "code",
   "execution_count": 58,
   "id": "846a34b3-1215-4615-8928-238294d29014",
   "metadata": {},
   "outputs": [
    {
     "name": "stdout",
     "output_type": "stream",
     "text": [
      "              precision    recall  f1-score   support\n",
      "\n",
      "           0       0.79      0.89      0.84       123\n",
      "           1       0.74      0.58      0.65        69\n",
      "\n",
      "    accuracy                           0.78       192\n",
      "   macro avg       0.77      0.73      0.74       192\n",
      "weighted avg       0.77      0.78      0.77       192\n",
      "\n"
     ]
    }
   ],
   "source": [
    "print(classification_report(y_true = y_test, y_pred = pred))"
   ]
  },
  {
   "cell_type": "code",
   "execution_count": 59,
   "id": "f4ea9ae7-cb8f-4fae-8c0e-1a5bfbeea016",
   "metadata": {},
   "outputs": [
    {
     "data": {
      "text/plain": [
       "285    0.428174\n",
       "101    0.317866\n",
       "581    0.148071\n",
       "352    0.048148\n",
       "726    0.209056\n",
       "         ...   \n",
       "247    0.759754\n",
       "189    0.362025\n",
       "139    0.205588\n",
       "518    0.244546\n",
       "629    0.061712\n",
       "Length: 192, dtype: float64"
      ]
     },
     "execution_count": 59,
     "metadata": {},
     "output_type": "execute_result"
    }
   ],
   "source": [
    "# See what predicted probabilities look like\n",
    "pred_prob"
   ]
  },
  {
   "cell_type": "code",
   "execution_count": 60,
   "id": "38a115ab-2026-4065-ad5b-b34f499fe476",
   "metadata": {},
   "outputs": [
    {
     "data": {
      "text/plain": [
       "<AxesSubplot:>"
      ]
     },
     "execution_count": 60,
     "metadata": {},
     "output_type": "execute_result"
    },
    {
     "data": {
      "image/png": "[encoded data removed]",
      "text/plain": [
       "<Figure size 432x288 with 1 Axes>"
      ]
     },
     "metadata": {
      "needs_background": "light"
     },
     "output_type": "display_data"
    }
   ],
   "source": [
    "# A histogram of probabilities.  Why not?\n",
    "pred_prob.hist(bins=40)"
   ]
  },
  {
   "cell_type": "markdown",
   "id": "14cf54ad-2c19-40b3-b92b-a9f53045b475",
   "metadata": {},
   "source": [
    "### AUC and ROC calculation"
   ]
  },
  {
   "cell_type": "code",
   "execution_count": 61,
   "id": "fe1729f4-3440-444d-a698-d8e29188a16e",
   "metadata": {},
   "outputs": [
    {
     "data": {
      "text/plain": [
       "0.8502415458937198"
      ]
     },
     "execution_count": 61,
     "metadata": {},
     "output_type": "execute_result"
    }
   ],
   "source": [
    "# AUC calculation\n",
    "metrics.roc_auc_score(y_test, pred_prob)"
   ]
  },
  {
   "cell_type": "code",
   "execution_count": 62,
   "id": "4b3969df-541e-4867-b190-dd1e4cba13cd",
   "metadata": {},
   "outputs": [
    {
     "data": {
      "image/png": "[encoded data removed]",
      "text/plain": [
       "<Figure size 648x576 with 1 Axes>"
      ]
     },
     "metadata": {
      "needs_background": "light"
     },
     "output_type": "display_data"
    }
   ],
   "source": [
    "# Source for code below: https://stackoverflow.com/questions/25009284/how-to-plot-roc-curve-in-python\n",
    "fpr, tpr, thresholds = metrics.roc_curve(y_test, pred_prob)\n",
    "roc_auc = metrics.auc(fpr, tpr)\n",
    "plt.figure(figsize = (9,8))\n",
    "plt.title('Receiver Operating Characteristic')\n",
    "plt.plot(fpr, tpr, 'b', label = 'AUC = %0.2f' % roc_auc)\n",
    "plt.legend(loc = 'lower right')\n",
    "plt.plot([0, 1], [0, 1],'r--')\n",
    "plt.xlim([0, 1])\n",
    "plt.ylim([0, 1])\n",
    "plt.ylabel('True Positive Rate')\n",
    "plt.xlabel('False Positive Rate')\n",
    "plt.show()"
   ]
  },
  {
   "cell_type": "code",
   "execution_count": 63,
   "id": "04d2b836-f7aa-47f1-9e28-a4abb15722cf",
   "metadata": {},
   "outputs": [
    {
     "data": {
      "text/html": [
       "<div>\n",
       "<style scoped>\n",
       "    .dataframe tbody tr th:only-of-type {\n",
       "        vertical-align: middle;\n",
       "    }\n",
       "\n",
       "    .dataframe tbody tr th {\n",
       "        vertical-align: top;\n",
       "    }\n",
       "\n",
       "    .dataframe thead th {\n",
       "        text-align: right;\n",
       "    }\n",
       "</style>\n",
       "<table border=\"1\" class=\"dataframe\">\n",
       "  <thead>\n",
       "    <tr style=\"text-align: right;\">\n",
       "      <th></th>\n",
       "      <th>TPR</th>\n",
       "      <th>FPR</th>\n",
       "      <th>Threshold</th>\n",
       "    </tr>\n",
       "  </thead>\n",
       "  <tbody>\n",
       "    <tr>\n",
       "      <th>0</th>\n",
       "      <td>1.000000</td>\n",
       "      <td>1.000000</td>\n",
       "      <td>0.007175</td>\n",
       "    </tr>\n",
       "    <tr>\n",
       "      <th>1</th>\n",
       "      <td>1.000000</td>\n",
       "      <td>0.983740</td>\n",
       "      <td>0.012744</td>\n",
       "    </tr>\n",
       "    <tr>\n",
       "      <th>2</th>\n",
       "      <td>0.985507</td>\n",
       "      <td>0.983740</td>\n",
       "      <td>0.013068</td>\n",
       "    </tr>\n",
       "    <tr>\n",
       "      <th>3</th>\n",
       "      <td>0.985507</td>\n",
       "      <td>0.967480</td>\n",
       "      <td>0.018312</td>\n",
       "    </tr>\n",
       "    <tr>\n",
       "      <th>4</th>\n",
       "      <td>0.971014</td>\n",
       "      <td>0.967480</td>\n",
       "      <td>0.021612</td>\n",
       "    </tr>\n",
       "    <tr>\n",
       "      <th>5</th>\n",
       "      <td>0.971014</td>\n",
       "      <td>0.609756</td>\n",
       "      <td>0.133697</td>\n",
       "    </tr>\n",
       "    <tr>\n",
       "      <th>6</th>\n",
       "      <td>0.927536</td>\n",
       "      <td>0.609756</td>\n",
       "      <td>0.142601</td>\n",
       "    </tr>\n",
       "    <tr>\n",
       "      <th>7</th>\n",
       "      <td>0.927536</td>\n",
       "      <td>0.528455</td>\n",
       "      <td>0.161013</td>\n",
       "    </tr>\n",
       "    <tr>\n",
       "      <th>8</th>\n",
       "      <td>0.913043</td>\n",
       "      <td>0.528455</td>\n",
       "      <td>0.178360</td>\n",
       "    </tr>\n",
       "    <tr>\n",
       "      <th>9</th>\n",
       "      <td>0.913043</td>\n",
       "      <td>0.471545</td>\n",
       "      <td>0.201957</td>\n",
       "    </tr>\n",
       "    <tr>\n",
       "      <th>10</th>\n",
       "      <td>0.898551</td>\n",
       "      <td>0.471545</td>\n",
       "      <td>0.204355</td>\n",
       "    </tr>\n",
       "    <tr>\n",
       "      <th>11</th>\n",
       "      <td>0.898551</td>\n",
       "      <td>0.414634</td>\n",
       "      <td>0.229368</td>\n",
       "    </tr>\n",
       "    <tr>\n",
       "      <th>12</th>\n",
       "      <td>0.884058</td>\n",
       "      <td>0.414634</td>\n",
       "      <td>0.233658</td>\n",
       "    </tr>\n",
       "    <tr>\n",
       "      <th>13</th>\n",
       "      <td>0.884058</td>\n",
       "      <td>0.325203</td>\n",
       "      <td>0.272242</td>\n",
       "    </tr>\n",
       "    <tr>\n",
       "      <th>14</th>\n",
       "      <td>0.869565</td>\n",
       "      <td>0.325203</td>\n",
       "      <td>0.275499</td>\n",
       "    </tr>\n",
       "    <tr>\n",
       "      <th>15</th>\n",
       "      <td>0.869565</td>\n",
       "      <td>0.284553</td>\n",
       "      <td>0.283386</td>\n",
       "    </tr>\n",
       "    <tr>\n",
       "      <th>16</th>\n",
       "      <td>0.826087</td>\n",
       "      <td>0.284553</td>\n",
       "      <td>0.298225</td>\n",
       "    </tr>\n",
       "    <tr>\n",
       "      <th>17</th>\n",
       "      <td>0.826087</td>\n",
       "      <td>0.235772</td>\n",
       "      <td>0.315672</td>\n",
       "    </tr>\n",
       "    <tr>\n",
       "      <th>18</th>\n",
       "      <td>0.811594</td>\n",
       "      <td>0.235772</td>\n",
       "      <td>0.316882</td>\n",
       "    </tr>\n",
       "    <tr>\n",
       "      <th>19</th>\n",
       "      <td>0.811594</td>\n",
       "      <td>0.186992</td>\n",
       "      <td>0.331539</td>\n",
       "    </tr>\n",
       "    <tr>\n",
       "      <th>20</th>\n",
       "      <td>0.797101</td>\n",
       "      <td>0.186992</td>\n",
       "      <td>0.335884</td>\n",
       "    </tr>\n",
       "    <tr>\n",
       "      <th>21</th>\n",
       "      <td>0.797101</td>\n",
       "      <td>0.178862</td>\n",
       "      <td>0.341980</td>\n",
       "    </tr>\n",
       "    <tr>\n",
       "      <th>22</th>\n",
       "      <td>0.782609</td>\n",
       "      <td>0.178862</td>\n",
       "      <td>0.346000</td>\n",
       "    </tr>\n",
       "    <tr>\n",
       "      <th>23</th>\n",
       "      <td>0.782609</td>\n",
       "      <td>0.170732</td>\n",
       "      <td>0.362025</td>\n",
       "    </tr>\n",
       "    <tr>\n",
       "      <th>24</th>\n",
       "      <td>0.753623</td>\n",
       "      <td>0.170732</td>\n",
       "      <td>0.373144</td>\n",
       "    </tr>\n",
       "    <tr>\n",
       "      <th>25</th>\n",
       "      <td>0.753623</td>\n",
       "      <td>0.154472</td>\n",
       "      <td>0.379556</td>\n",
       "    </tr>\n",
       "    <tr>\n",
       "      <th>26</th>\n",
       "      <td>0.637681</td>\n",
       "      <td>0.154472</td>\n",
       "      <td>0.419714</td>\n",
       "    </tr>\n",
       "    <tr>\n",
       "      <th>27</th>\n",
       "      <td>0.637681</td>\n",
       "      <td>0.138211</td>\n",
       "      <td>0.431014</td>\n",
       "    </tr>\n",
       "    <tr>\n",
       "      <th>28</th>\n",
       "      <td>0.608696</td>\n",
       "      <td>0.138211</td>\n",
       "      <td>0.450222</td>\n",
       "    </tr>\n",
       "    <tr>\n",
       "      <th>29</th>\n",
       "      <td>0.608696</td>\n",
       "      <td>0.113821</td>\n",
       "      <td>0.482765</td>\n",
       "    </tr>\n",
       "    <tr>\n",
       "      <th>30</th>\n",
       "      <td>0.565217</td>\n",
       "      <td>0.113821</td>\n",
       "      <td>0.551113</td>\n",
       "    </tr>\n",
       "    <tr>\n",
       "      <th>31</th>\n",
       "      <td>0.565217</td>\n",
       "      <td>0.105691</td>\n",
       "      <td>0.596950</td>\n",
       "    </tr>\n",
       "    <tr>\n",
       "      <th>32</th>\n",
       "      <td>0.536232</td>\n",
       "      <td>0.105691</td>\n",
       "      <td>0.609567</td>\n",
       "    </tr>\n",
       "    <tr>\n",
       "      <th>33</th>\n",
       "      <td>0.536232</td>\n",
       "      <td>0.089431</td>\n",
       "      <td>0.623075</td>\n",
       "    </tr>\n",
       "    <tr>\n",
       "      <th>34</th>\n",
       "      <td>0.507246</td>\n",
       "      <td>0.089431</td>\n",
       "      <td>0.637728</td>\n",
       "    </tr>\n",
       "    <tr>\n",
       "      <th>35</th>\n",
       "      <td>0.507246</td>\n",
       "      <td>0.056911</td>\n",
       "      <td>0.660482</td>\n",
       "    </tr>\n",
       "    <tr>\n",
       "      <th>36</th>\n",
       "      <td>0.478261</td>\n",
       "      <td>0.056911</td>\n",
       "      <td>0.681649</td>\n",
       "    </tr>\n",
       "    <tr>\n",
       "      <th>37</th>\n",
       "      <td>0.478261</td>\n",
       "      <td>0.048780</td>\n",
       "      <td>0.686627</td>\n",
       "    </tr>\n",
       "    <tr>\n",
       "      <th>38</th>\n",
       "      <td>0.420290</td>\n",
       "      <td>0.048780</td>\n",
       "      <td>0.700065</td>\n",
       "    </tr>\n",
       "    <tr>\n",
       "      <th>39</th>\n",
       "      <td>0.420290</td>\n",
       "      <td>0.040650</td>\n",
       "      <td>0.704860</td>\n",
       "    </tr>\n",
       "    <tr>\n",
       "      <th>40</th>\n",
       "      <td>0.333333</td>\n",
       "      <td>0.040650</td>\n",
       "      <td>0.736029</td>\n",
       "    </tr>\n",
       "    <tr>\n",
       "      <th>41</th>\n",
       "      <td>0.333333</td>\n",
       "      <td>0.032520</td>\n",
       "      <td>0.742282</td>\n",
       "    </tr>\n",
       "    <tr>\n",
       "      <th>42</th>\n",
       "      <td>0.246377</td>\n",
       "      <td>0.032520</td>\n",
       "      <td>0.759754</td>\n",
       "    </tr>\n",
       "    <tr>\n",
       "      <th>43</th>\n",
       "      <td>0.246377</td>\n",
       "      <td>0.008130</td>\n",
       "      <td>0.764586</td>\n",
       "    </tr>\n",
       "    <tr>\n",
       "      <th>44</th>\n",
       "      <td>0.202899</td>\n",
       "      <td>0.008130</td>\n",
       "      <td>0.792743</td>\n",
       "    </tr>\n",
       "    <tr>\n",
       "      <th>45</th>\n",
       "      <td>0.202899</td>\n",
       "      <td>0.000000</td>\n",
       "      <td>0.833885</td>\n",
       "    </tr>\n",
       "    <tr>\n",
       "      <th>46</th>\n",
       "      <td>0.014493</td>\n",
       "      <td>0.000000</td>\n",
       "      <td>0.984072</td>\n",
       "    </tr>\n",
       "    <tr>\n",
       "      <th>47</th>\n",
       "      <td>0.000000</td>\n",
       "      <td>0.000000</td>\n",
       "      <td>1.984072</td>\n",
       "    </tr>\n",
       "  </tbody>\n",
       "</table>\n",
       "</div>"
      ],
      "text/plain": [
       "         TPR       FPR  Threshold\n",
       "0   1.000000  1.000000   0.007175\n",
       "1   1.000000  0.983740   0.012744\n",
       "2   0.985507  0.983740   0.013068\n",
       "3   0.985507  0.967480   0.018312\n",
       "4   0.971014  0.967480   0.021612\n",
       "5   0.971014  0.609756   0.133697\n",
       "6   0.927536  0.609756   0.142601\n",
       "7   0.927536  0.528455   0.161013\n",
       "8   0.913043  0.528455   0.178360\n",
       "9   0.913043  0.471545   0.201957\n",
       "10  0.898551  0.471545   0.204355\n",
       "11  0.898551  0.414634   0.229368\n",
       "12  0.884058  0.414634   0.233658\n",
       "13  0.884058  0.325203   0.272242\n",
       "14  0.869565  0.325203   0.275499\n",
       "15  0.869565  0.284553   0.283386\n",
       "16  0.826087  0.284553   0.298225\n",
       "17  0.826087  0.235772   0.315672\n",
       "18  0.811594  0.235772   0.316882\n",
       "19  0.811594  0.186992   0.331539\n",
       "20  0.797101  0.186992   0.335884\n",
       "21  0.797101  0.178862   0.341980\n",
       "22  0.782609  0.178862   0.346000\n",
       "23  0.782609  0.170732   0.362025\n",
       "24  0.753623  0.170732   0.373144\n",
       "25  0.753623  0.154472   0.379556\n",
       "26  0.637681  0.154472   0.419714\n",
       "27  0.637681  0.138211   0.431014\n",
       "28  0.608696  0.138211   0.450222\n",
       "29  0.608696  0.113821   0.482765\n",
       "30  0.565217  0.113821   0.551113\n",
       "31  0.565217  0.105691   0.596950\n",
       "32  0.536232  0.105691   0.609567\n",
       "33  0.536232  0.089431   0.623075\n",
       "34  0.507246  0.089431   0.637728\n",
       "35  0.507246  0.056911   0.660482\n",
       "36  0.478261  0.056911   0.681649\n",
       "37  0.478261  0.048780   0.686627\n",
       "38  0.420290  0.048780   0.700065\n",
       "39  0.420290  0.040650   0.704860\n",
       "40  0.333333  0.040650   0.736029\n",
       "41  0.333333  0.032520   0.742282\n",
       "42  0.246377  0.032520   0.759754\n",
       "43  0.246377  0.008130   0.764586\n",
       "44  0.202899  0.008130   0.792743\n",
       "45  0.202899  0.000000   0.833885\n",
       "46  0.014493  0.000000   0.984072\n",
       "47  0.000000  0.000000   1.984072"
      ]
     },
     "execution_count": 63,
     "metadata": {},
     "output_type": "execute_result"
    }
   ],
   "source": [
    "pd.DataFrame({'TPR': tpr, 'FPR': fpr, 'Threshold': thresholds}).sort_values(by = ['Threshold']).reset_index(drop=True)"
   ]
  },
  {
   "cell_type": "markdown",
   "id": "c08240d2-3d86-4868-acc7-b81017bfc6e4",
   "metadata": {},
   "source": [
    "#### Format the confusion matrix for readability"
   ]
  },
  {
   "cell_type": "code",
   "execution_count": 64,
   "id": "95a043ea-d3d3-42c8-90f7-0e74bf495982",
   "metadata": {},
   "outputs": [
    {
     "data": {
      "text/html": [
       "<div>\n",
       "<style scoped>\n",
       "    .dataframe tbody tr th:only-of-type {\n",
       "        vertical-align: middle;\n",
       "    }\n",
       "\n",
       "    .dataframe tbody tr th {\n",
       "        vertical-align: top;\n",
       "    }\n",
       "\n",
       "    .dataframe thead tr th {\n",
       "        text-align: left;\n",
       "    }\n",
       "</style>\n",
       "<table border=\"1\" class=\"dataframe\">\n",
       "  <thead>\n",
       "    <tr>\n",
       "      <th></th>\n",
       "      <th></th>\n",
       "      <th colspan=\"2\" halign=\"left\">Predicted</th>\n",
       "    </tr>\n",
       "    <tr>\n",
       "      <th></th>\n",
       "      <th></th>\n",
       "      <th>0</th>\n",
       "      <th>1</th>\n",
       "    </tr>\n",
       "  </thead>\n",
       "  <tbody>\n",
       "    <tr>\n",
       "      <th rowspan=\"2\" valign=\"top\">Actual</th>\n",
       "      <th>0</th>\n",
       "      <td>109</td>\n",
       "      <td>14</td>\n",
       "    </tr>\n",
       "    <tr>\n",
       "      <th>1</th>\n",
       "      <td>29</td>\n",
       "      <td>40</td>\n",
       "    </tr>\n",
       "  </tbody>\n",
       "</table>\n",
       "</div>"
      ],
      "text/plain": [
       "         Predicted    \n",
       "                 0   1\n",
       "Actual 0       109  14\n",
       "       1        29  40"
      ]
     },
     "execution_count": 64,
     "metadata": {},
     "output_type": "execute_result"
    }
   ],
   "source": [
    "cm_clean = pd.DataFrame(cm, index = np.unique(y_test), columns = np.unique(pred))\n",
    "cm_clean.index = pd.MultiIndex.from_arrays([['Actual'] * len(cm_clean.index), cm_clean.index], names=(None,None))\n",
    "cm_clean.columns = pd.MultiIndex.from_arrays([['Predicted'] * len(cm_clean.columns), cm_clean.columns], names=(None,None))\n",
    "cm_clean"
   ]
  },
  {
   "cell_type": "markdown",
   "id": "3bb8f655-3ac2-49ba-b877-7fe30153732b",
   "metadata": {},
   "source": [
    "### Create model using the sklearn library"
   ]
  },
  {
   "cell_type": "code",
   "execution_count": 65,
   "id": "f7374d8c-433c-447b-ab0b-06ab473a82b0",
   "metadata": {},
   "outputs": [
    {
     "name": "stdout",
     "output_type": "stream",
     "text": [
      "0.7760416666666666\n"
     ]
    }
   ],
   "source": [
    "from sklearn.linear_model import LogisticRegression\n",
    "logisticRegr = LogisticRegression()\n",
    "logisticRegr.fit(X_train, y_train)\n",
    "predictions = logisticRegr.predict(X_test)\n",
    "# Use score method to get accuracy of model\n",
    "score = logisticRegr.score(X_test, y_test)\n",
    "print(score)"
   ]
  },
  {
   "cell_type": "code",
   "execution_count": 66,
   "id": "fb943eda-cc2e-4e1c-b485-eeaa938f7f43",
   "metadata": {},
   "outputs": [
    {
     "data": {
      "text/plain": [
       "array([0, 0, 0, 0, 0, 0, 0, 0, 0, 0, 0, 0, 1, 1, 0, 1, 0, 0, 0, 0, 0, 0,\n",
       "       1, 0, 0, 0, 0, 1, 0, 0, 0, 0, 0, 1, 0, 1, 0, 0, 0, 1, 0, 0, 0, 0,\n",
       "       0, 0, 1, 1, 0, 0, 0, 0, 1, 0, 1, 0, 1, 0, 1, 0, 1, 0, 1, 0, 0, 0,\n",
       "       0, 0, 1, 1, 1, 1, 1, 0, 1, 0, 1, 0, 0, 1, 1, 0, 0, 0, 0, 1, 1, 0,\n",
       "       0, 0, 0, 0, 0, 0, 1, 0, 0, 0, 1, 0, 0, 0, 1, 0, 0, 0, 1, 1, 0, 0,\n",
       "       0, 0, 0, 0, 0, 0, 0, 0, 0, 0, 0, 1, 0, 0, 0, 0, 0, 0, 1, 0, 1, 0,\n",
       "       0, 0, 0, 0, 0, 1, 0, 0, 1, 0, 0, 1, 1, 0, 0, 0, 0, 0, 0, 1, 0, 0,\n",
       "       1, 1, 0, 0, 0, 0, 1, 1, 0, 0, 0, 0, 0, 1, 1, 1, 1, 1, 0, 0, 1, 0,\n",
       "       1, 0, 0, 0, 0, 1, 0, 1, 0, 0, 0, 1, 0, 0, 0, 0])"
      ]
     },
     "execution_count": 66,
     "metadata": {},
     "output_type": "execute_result"
    }
   ],
   "source": [
    "predictions"
   ]
  },
  {
   "cell_type": "code",
   "execution_count": 67,
   "id": "1f3f4a16-f1e2-408e-a32c-ffdda8e745c6",
   "metadata": {},
   "outputs": [
    {
     "data": {
      "image/png": "[encoded data removed]",
      "text/plain": [
       "<Figure size 648x648 with 2 Axes>"
      ]
     },
     "metadata": {
      "needs_background": "light"
     },
     "output_type": "display_data"
    }
   ],
   "source": [
    "import matplotlib.pyplot as plt\n",
    "import seaborn as sns\n",
    "from sklearn import metrics\n",
    "\n",
    "cm = metrics.confusion_matrix(y_test, predictions)\n",
    "plt.figure(figsize=(9,9))\n",
    "sns.heatmap(cm, annot=True, fmt=\".3f\", linewidths=.5, square = True, cmap = 'Blues_r');\n",
    "plt.ylabel('Actual label');\n",
    "plt.xlabel('Predicted label');\n",
    "all_sample_title = 'Accuracy Score: {0}'.format(score)\n",
    "plt.title(all_sample_title, size = 15);"
   ]
  },
  {
   "cell_type": "code",
   "execution_count": null,
   "id": "a7ff59dd-1e1c-47a0-994f-02b6b5236d8b",
   "metadata": {},
   "outputs": [],
   "source": []
  },
  {
   "cell_type": "code",
   "execution_count": null,
   "id": "0ad8c2dd-922d-4746-a245-b0b83bb34b57",
   "metadata": {},
   "outputs": [],
   "source": []
  },
  {
   "cell_type": "code",
   "execution_count": null,
   "id": "59910ccc-d0d0-4586-98ac-26649c45796e",
   "metadata": {},
   "outputs": [],
   "source": []
  },
  {
   "cell_type": "code",
   "execution_count": null,
   "id": "0d61e9f2-cc32-448d-9a13-af80e83474cd",
   "metadata": {},
   "outputs": [],
   "source": []
  },
  {
   "cell_type": "code",
   "execution_count": null,
   "id": "455c482a-e699-4519-823a-5f879965b991",
   "metadata": {},
   "outputs": [],
   "source": []
  },
  {
   "cell_type": "code",
   "execution_count": null,
   "id": "af801290-4582-41a7-badf-99edd78190e1",
   "metadata": {},
   "outputs": [],
   "source": []
  },
  {
   "cell_type": "code",
   "execution_count": null,
   "id": "4de519d7-d3aa-45dc-866b-70281b45fad9",
   "metadata": {},
   "outputs": [],
   "source": []
  },
  {
   "cell_type": "code",
   "execution_count": null,
   "id": "8f9f4e71-8e51-463f-a613-2f0d0a3378a9",
   "metadata": {},
   "outputs": [],
   "source": []
  },
  {
   "cell_type": "code",
   "execution_count": null,
   "id": "e52f3fa4-bd4c-4305-bf25-a9e99a3b2450",
   "metadata": {},
   "outputs": [],
   "source": []
  },
  {
   "cell_type": "markdown",
   "id": "2c688196-8748-4333-9fcc-a8ec04789a9d",
   "metadata": {},
   "source": [
    "***\n",
    "### End here\n",
    "***"
   ]
  },
  {
   "cell_type": "code",
   "execution_count": null,
   "id": "fae2dc64-96dc-43f0-a9ad-7080cabe1d9a",
   "metadata": {},
   "outputs": [],
   "source": []
  },
  {
   "cell_type": "markdown",
   "id": "6150fbd1-e967-4cbf-8e4d-b2ff995b5e0d",
   "metadata": {},
   "source": [
    "***\n",
    "## Visualizing Logistic Regression"
   ]
  },
  {
   "cell_type": "code",
   "execution_count": 68,
   "id": "d2fab213-92fe-4370-84d8-a77ae467b186",
   "metadata": {},
   "outputs": [
    {
     "data": {
      "image/png": "[encoded data removed]",
      "text/plain": [
       "<Figure size 432x288 with 1 Axes>"
      ]
     },
     "metadata": {
      "needs_background": "light"
     },
     "output_type": "display_data"
    }
   ],
   "source": [
    "# Plotting Probability vs Odds\n",
    "\n",
    "import seaborn as sns\n",
    "import matplotlib.pyplot as plt\n",
    "\n",
    "df = pd.DataFrame({'Probability': np.arange(0,1, 0.01), \\\n",
    "                   'Odds':np.arange(0,1., 0.01) / \\\n",
    "                   (1-np.arange(0,1., 0.01)) })\n",
    "sns.lineplot(data = df, x = 'Odds', y = 'Probability');"
   ]
  },
  {
   "cell_type": "code",
   "execution_count": 69,
   "id": "cba29008-8e1e-4ba1-a179-6c8f10e96407",
   "metadata": {},
   "outputs": [
    {
     "name": "stderr",
     "output_type": "stream",
     "text": [
      "/opt/conda/envs/mggy8413/lib/python3.9/site-packages/pandas/core/arraylike.py:364: RuntimeWarning: divide by zero encountered in log\n",
      "  result = getattr(ufunc, method)(*inputs, **kwargs)\n"
     ]
    },
    {
     "data": {
      "image/png": "[encoded data removed]",
      "text/plain": [
       "<Figure size 432x288 with 1 Axes>"
      ]
     },
     "metadata": {
      "needs_background": "light"
     },
     "output_type": "display_data"
    }
   ],
   "source": [
    "# Plotting log-odds\n",
    "sns.lineplot(data = df, x = np.log(df['Odds']), \\\n",
    "             y = 'Probability',)\n",
    "plt.xlabel(\"Log-Odds\");"
   ]
  },
  {
   "cell_type": "code",
   "execution_count": null,
   "id": "9eac9853-909f-4a37-b41d-b4ae557a6617",
   "metadata": {},
   "outputs": [],
   "source": []
  },
  {
   "cell_type": "markdown",
   "id": "1ba39e68-0c18-4a60-8ff8-1b40adf68954",
   "metadata": {},
   "source": [
    "## Generating correlated variables\n"
   ]
  },
  {
   "cell_type": "code",
   "execution_count": 70,
   "id": "934f88e3-20d5-431a-a2ba-cf5a3d762623",
   "metadata": {},
   "outputs": [
    {
     "name": "stdout",
     "output_type": "stream",
     "text": [
      "Correlation matrix\n",
      "           x         y\n",
      "x  1.000000  0.799356\n",
      "y  0.799356  1.000000\n",
      "                x           y\n",
      "count  100.000000  100.000000\n",
      "mean     1.841104    3.877932\n",
      "std      0.986845    1.517855\n",
      "min     -0.377974   -1.622984\n",
      "25%      1.283809    2.944827\n",
      "50%      1.841760    3.914277\n",
      "75%      2.504359    4.791972\n",
      "max      4.731623    7.491824\n",
      "\n",
      " LinregressResult(slope=1.2294795175448414, intercept=1.6143330453560218, rvalue=0.7993555839912965, pvalue=2.087939303355455e-23, stderr=0.09335558051973486)\n"
     ]
    },
    {
     "data": {
      "image/png": "[encoded data removed]",
      "text/plain": [
       "<Figure size 360x360 with 1 Axes>"
      ]
     },
     "metadata": {
      "needs_background": "light"
     },
     "output_type": "display_data"
    }
   ],
   "source": [
    "### Generating correlated variables\n",
    "### Specify the mean of the two variables (mean),\n",
    "### Then the correlation between them (corr),\n",
    "### and finally, the standard deviation of each of them (stdev).\n",
    "### Also specify the number of observations needed (size).\n",
    "\n",
    "### Update the below three lines\n",
    "mean = np.array([2,4])\n",
    "corr = np.array([.75])\n",
    "stdev = np.array([1, 1.5])\n",
    "size = 100\n",
    "\n",
    "### Generate the nu,bers\n",
    "cov = np.prod(stdev)*corr\n",
    "cov_matrix = np.array([[stdev[0]**2, cov],\n",
    "                      [cov, stdev[1]**2]], dtype = 'float')\n",
    "\n",
    "df = np.random.multivariate_normal(mean= mean, cov=cov_matrix, size=size)\n",
    "df = pd.DataFrame(df, columns = ['x', 'y'])\n",
    "# sns.scatterplot(data=df, x = df.iloc[:,0], y=df.iloc[:,1])\n",
    "sns.lmplot(data=df, x = \"x\", y=\"y\", line_kws={\"lw\":1,\"alpha\": .5, \"color\":\"black\"}, ci=1)\n",
    "print('Correlation matrix\\n',df.corr())\n",
    "print(df.describe())\n",
    "print('\\n', stats.linregress(x = df['x'], y = df['y']))"
   ]
  },
  {
   "cell_type": "code",
   "execution_count": 71,
   "id": "494e9f8b-a1ef-41c8-a934-969b1dcb5436",
   "metadata": {},
   "outputs": [
    {
     "name": "stdout",
     "output_type": "stream",
     "text": [
      "Correlation matrix\n",
      "           x         y\n",
      "x  1.000000  0.952852\n",
      "y  0.952852  1.000000\n",
      "                x           y\n",
      "count  100.000000  100.000000\n",
      "mean     1.871985    3.790328\n",
      "std      1.111433    1.730344\n",
      "min     -1.617199   -1.155251\n",
      "25%      1.201281    2.779882\n",
      "50%      1.766116    3.705206\n",
      "75%      2.643829    5.062728\n",
      "max      4.397531    7.480398\n",
      "\n",
      " LinregressResult(slope=1.4834563450821474, intercept=1.013320006034911, rvalue=0.9528524270856542, pvalue=1.4725286051870146e-52, stderr=0.04772000400309797)\n"
     ]
    },
    {
     "data": {
      "image/png": "[encoded data removed]",
      "text/plain": [
       "<Figure size 360x360 with 1 Axes>"
      ]
     },
     "metadata": {
      "needs_background": "light"
     },
     "output_type": "display_data"
    }
   ],
   "source": [
    "### Update the below three lines\n",
    "mean = np.array([2,4])\n",
    "corr = np.array([.95])\n",
    "stdev = np.array([1, 1.5])\n",
    "size = 100\n",
    "\n",
    "### Generate the numbers\n",
    "cov = np.prod(stdev)*corr\n",
    "cov_matrix = np.array([[stdev[0]**2, cov],\n",
    "                      [cov, stdev[1]**2]], dtype = 'float')\n",
    "\n",
    "df = np.random.multivariate_normal(mean= mean, cov=cov_matrix, size=size)\n",
    "df = pd.DataFrame(df, columns = ['x', 'y'])\n",
    "# sns.scatterplot(data=df, x = df.iloc[:,0], y=df.iloc[:,1])\n",
    "sns.lmplot(data=df, x = \"x\", y=\"y\", line_kws={\"lw\":1,\"alpha\": .5, \"color\":\"black\"},ci=1)\n",
    "print('Correlation matrix\\n',df.corr())\n",
    "print(df.describe())\n",
    "print('\\n', stats.linregress(x = df['x'], y = df['y']))"
   ]
  },
  {
   "cell_type": "code",
   "execution_count": 72,
   "id": "fd95419f-c1c3-4b66-9e69-f99b2b6f0548",
   "metadata": {},
   "outputs": [
    {
     "name": "stderr",
     "output_type": "stream",
     "text": [
      "/opt/conda/envs/mggy8413/lib/python3.9/site-packages/statsmodels/tsa/tsatools.py:142: FutureWarning: In a future version of pandas all arguments of concat except for the argument 'objs' will be keyword-only\n",
      "  x = pd.concat(x[::order], 1)\n"
     ]
    },
    {
     "data": {
      "text/html": [
       "<table class=\"simpletable\">\n",
       "<caption>OLS Regression Results</caption>\n",
       "<tr>\n",
       "  <th>Dep. Variable:</th>            <td>y</td>        <th>  R-squared:         </th> <td>   0.908</td>\n",
       "</tr>\n",
       "<tr>\n",
       "  <th>Model:</th>                   <td>OLS</td>       <th>  Adj. R-squared:    </th> <td>   0.907</td>\n",
       "</tr>\n",
       "<tr>\n",
       "  <th>Method:</th>             <td>Least Squares</td>  <th>  F-statistic:       </th> <td>   966.4</td>\n",
       "</tr>\n",
       "<tr>\n",
       "  <th>Date:</th>             <td>Fri, 08 Oct 2021</td> <th>  Prob (F-statistic):</th> <td>1.47e-52</td>\n",
       "</tr>\n",
       "<tr>\n",
       "  <th>Time:</th>                 <td>23:13:54</td>     <th>  Log-Likelihood:    </th> <td> -76.964</td>\n",
       "</tr>\n",
       "<tr>\n",
       "  <th>No. Observations:</th>      <td>   100</td>      <th>  AIC:               </th> <td>   157.9</td>\n",
       "</tr>\n",
       "<tr>\n",
       "  <th>Df Residuals:</th>          <td>    98</td>      <th>  BIC:               </th> <td>   163.1</td>\n",
       "</tr>\n",
       "<tr>\n",
       "  <th>Df Model:</th>              <td>     1</td>      <th>                     </th>     <td> </td>   \n",
       "</tr>\n",
       "<tr>\n",
       "  <th>Covariance Type:</th>      <td>nonrobust</td>    <th>                     </th>     <td> </td>   \n",
       "</tr>\n",
       "</table>\n",
       "<table class=\"simpletable\">\n",
       "<tr>\n",
       "    <td></td>       <th>coef</th>     <th>std err</th>      <th>t</th>      <th>P>|t|</th>  <th>[0.025</th>    <th>0.975]</th>  \n",
       "</tr>\n",
       "<tr>\n",
       "  <th>const</th> <td>    1.0133</td> <td>    0.104</td> <td>    9.767</td> <td> 0.000</td> <td>    0.807</td> <td>    1.219</td>\n",
       "</tr>\n",
       "<tr>\n",
       "  <th>x</th>     <td>    1.4835</td> <td>    0.048</td> <td>   31.087</td> <td> 0.000</td> <td>    1.389</td> <td>    1.578</td>\n",
       "</tr>\n",
       "</table>\n",
       "<table class=\"simpletable\">\n",
       "<tr>\n",
       "  <th>Omnibus:</th>       <td> 2.878</td> <th>  Durbin-Watson:     </th> <td>   1.806</td>\n",
       "</tr>\n",
       "<tr>\n",
       "  <th>Prob(Omnibus):</th> <td> 0.237</td> <th>  Jarque-Bera (JB):  </th> <td>   2.768</td>\n",
       "</tr>\n",
       "<tr>\n",
       "  <th>Skew:</th>          <td> 0.403</td> <th>  Prob(JB):          </th> <td>   0.251</td>\n",
       "</tr>\n",
       "<tr>\n",
       "  <th>Kurtosis:</th>      <td> 2.873</td> <th>  Cond. No.          </th> <td>    4.98</td>\n",
       "</tr>\n",
       "</table><br/><br/>Notes:<br/>[1] Standard Errors assume that the covariance matrix of the errors is correctly specified."
      ],
      "text/plain": [
       "<class 'statsmodels.iolib.summary.Summary'>\n",
       "\"\"\"\n",
       "                            OLS Regression Results                            \n",
       "==============================================================================\n",
       "Dep. Variable:                      y   R-squared:                       0.908\n",
       "Model:                            OLS   Adj. R-squared:                  0.907\n",
       "Method:                 Least Squares   F-statistic:                     966.4\n",
       "Date:                Fri, 08 Oct 2021   Prob (F-statistic):           1.47e-52\n",
       "Time:                        23:13:54   Log-Likelihood:                -76.964\n",
       "No. Observations:                 100   AIC:                             157.9\n",
       "Df Residuals:                      98   BIC:                             163.1\n",
       "Df Model:                           1                                         \n",
       "Covariance Type:            nonrobust                                         \n",
       "==============================================================================\n",
       "                 coef    std err          t      P>|t|      [0.025      0.975]\n",
       "------------------------------------------------------------------------------\n",
       "const          1.0133      0.104      9.767      0.000       0.807       1.219\n",
       "x              1.4835      0.048     31.087      0.000       1.389       1.578\n",
       "==============================================================================\n",
       "Omnibus:                        2.878   Durbin-Watson:                   1.806\n",
       "Prob(Omnibus):                  0.237   Jarque-Bera (JB):                2.768\n",
       "Skew:                           0.403   Prob(JB):                        0.251\n",
       "Kurtosis:                       2.873   Cond. No.                         4.98\n",
       "==============================================================================\n",
       "\n",
       "Notes:\n",
       "[1] Standard Errors assume that the covariance matrix of the errors is correctly specified.\n",
       "\"\"\""
      ]
     },
     "execution_count": 72,
     "metadata": {},
     "output_type": "execute_result"
    }
   ],
   "source": [
    "model2 = sm.OLS(endog = df.y, exog = sm.add_constant(df.x), hasconst=True).fit()\n",
    "model2.mse_resid**.5\n",
    "model2.summary()"
   ]
  }
 ],
 "metadata": {
  "kernelspec": {
   "display_name": "Python [conda env:mggy8413]",
   "language": "python",
   "name": "conda-env-mggy8413-py"
  },
  "language_info": {
   "codemirror_mode": {
    "name": "ipython",
    "version": 3
   },
   "file_extension": ".py",
   "mimetype": "text/x-python",
   "name": "python",
   "nbconvert_exporter": "python",
   "pygments_lexer": "ipython3",
   "version": "3.9.6"
  }
 },
 "nbformat": 4,
 "nbformat_minor": 5
}
