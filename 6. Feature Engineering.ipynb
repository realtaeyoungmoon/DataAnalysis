{
 "cells": [
  {
   "cell_type": "markdown",
   "id": "3d2f819e",
   "metadata": {},
   "source": [
    "# Feature Engineering"
   ]
  },
  {
   "cell_type": "code",
   "execution_count": 1,
   "id": "b32ff09e-3e12-4cbd-85ae-31b534159c7b",
   "metadata": {},
   "outputs": [],
   "source": [
    "import numpy as np\n",
    "import pandas as pd\n",
    "import seaborn as sns\n",
    "import matplotlib.pyplot as plt"
   ]
  },
  {
   "cell_type": "code",
   "execution_count": 2,
   "id": "06e98414-609d-4705-b6d5-9206558fd23b",
   "metadata": {},
   "outputs": [],
   "source": [
    "diamonds = sns.load_dataset('diamonds')"
   ]
  },
  {
   "cell_type": "code",
   "execution_count": 3,
   "id": "d2738238-773f-47f9-b272-8f901913869b",
   "metadata": {},
   "outputs": [
    {
     "name": "stdout",
     "output_type": "stream",
     "text": [
      "Shape: (53940, 10)\n"
     ]
    },
    {
     "data": {
      "text/html": [
       "<div>\n",
       "<style scoped>\n",
       "    .dataframe tbody tr th:only-of-type {\n",
       "        vertical-align: middle;\n",
       "    }\n",
       "\n",
       "    .dataframe tbody tr th {\n",
       "        vertical-align: top;\n",
       "    }\n",
       "\n",
       "    .dataframe thead th {\n",
       "        text-align: right;\n",
       "    }\n",
       "</style>\n",
       "<table border=\"1\" class=\"dataframe\">\n",
       "  <thead>\n",
       "    <tr style=\"text-align: right;\">\n",
       "      <th></th>\n",
       "      <th>carat</th>\n",
       "      <th>cut</th>\n",
       "      <th>color</th>\n",
       "      <th>clarity</th>\n",
       "      <th>depth</th>\n",
       "      <th>table</th>\n",
       "      <th>price</th>\n",
       "      <th>x</th>\n",
       "      <th>y</th>\n",
       "      <th>z</th>\n",
       "    </tr>\n",
       "  </thead>\n",
       "  <tbody>\n",
       "    <tr>\n",
       "      <th>48077</th>\n",
       "      <td>0.56</td>\n",
       "      <td>Ideal</td>\n",
       "      <td>E</td>\n",
       "      <td>VS1</td>\n",
       "      <td>61.3</td>\n",
       "      <td>55.0</td>\n",
       "      <td>1930</td>\n",
       "      <td>5.29</td>\n",
       "      <td>5.32</td>\n",
       "      <td>3.25</td>\n",
       "    </tr>\n",
       "    <tr>\n",
       "      <th>31039</th>\n",
       "      <td>0.34</td>\n",
       "      <td>Ideal</td>\n",
       "      <td>D</td>\n",
       "      <td>VS1</td>\n",
       "      <td>62.6</td>\n",
       "      <td>56.0</td>\n",
       "      <td>749</td>\n",
       "      <td>4.49</td>\n",
       "      <td>4.52</td>\n",
       "      <td>2.82</td>\n",
       "    </tr>\n",
       "    <tr>\n",
       "      <th>21689</th>\n",
       "      <td>1.24</td>\n",
       "      <td>Ideal</td>\n",
       "      <td>G</td>\n",
       "      <td>VVS2</td>\n",
       "      <td>61.2</td>\n",
       "      <td>56.0</td>\n",
       "      <td>9788</td>\n",
       "      <td>6.92</td>\n",
       "      <td>6.88</td>\n",
       "      <td>4.22</td>\n",
       "    </tr>\n",
       "    <tr>\n",
       "      <th>776</th>\n",
       "      <td>0.70</td>\n",
       "      <td>Premium</td>\n",
       "      <td>D</td>\n",
       "      <td>VS2</td>\n",
       "      <td>59.6</td>\n",
       "      <td>61.0</td>\n",
       "      <td>2859</td>\n",
       "      <td>5.80</td>\n",
       "      <td>5.77</td>\n",
       "      <td>3.45</td>\n",
       "    </tr>\n",
       "  </tbody>\n",
       "</table>\n",
       "</div>"
      ],
      "text/plain": [
       "       carat      cut color clarity  depth  table  price     x     y     z\n",
       "48077   0.56    Ideal     E     VS1   61.3   55.0   1930  5.29  5.32  3.25\n",
       "31039   0.34    Ideal     D     VS1   62.6   56.0    749  4.49  4.52  2.82\n",
       "21689   1.24    Ideal     G    VVS2   61.2   56.0   9788  6.92  6.88  4.22\n",
       "776     0.70  Premium     D     VS2   59.6   61.0   2859  5.80  5.77  3.45"
      ]
     },
     "execution_count": 3,
     "metadata": {},
     "output_type": "execute_result"
    }
   ],
   "source": [
    "print('Shape:',diamonds.shape)\n",
    "diamonds.sample(4)"
   ]
  },
  {
   "cell_type": "code",
   "execution_count": 4,
   "id": "224458ee-1b73-40ae-89b4-361000019ca4",
   "metadata": {},
   "outputs": [
    {
     "data": {
      "text/plain": [
       "count    53940.000000\n",
       "mean      3932.799722\n",
       "std       3989.439738\n",
       "min        326.000000\n",
       "25%        950.000000\n",
       "50%       2401.000000\n",
       "75%       5324.250000\n",
       "max      18823.000000\n",
       "Name: price, dtype: float64"
      ]
     },
     "execution_count": 4,
     "metadata": {},
     "output_type": "execute_result"
    }
   ],
   "source": [
    "diamonds.price.describe()"
   ]
  },
  {
   "cell_type": "code",
   "execution_count": 5,
   "id": "0a67181b-516d-4594-ae88-59954649e92b",
   "metadata": {},
   "outputs": [
    {
     "data": {
      "text/plain": [
       "4950.25"
      ]
     },
     "execution_count": 5,
     "metadata": {},
     "output_type": "execute_result"
    }
   ],
   "source": [
    "(18823 - 326)/4 + 326"
   ]
  },
  {
   "cell_type": "code",
   "execution_count": 6,
   "id": "a31c7d44-02d8-4037-ae81-8efa4905e0fb",
   "metadata": {},
   "outputs": [
    {
     "data": {
      "image/png": "[encoded data removed]",
      "text/plain": [
       "<Figure size 720x288 with 1 Axes>"
      ]
     },
     "metadata": {
      "needs_background": "light"
     },
     "output_type": "display_data"
    }
   ],
   "source": [
    "diamonds.price.plot(kind='hist', bins = 100, figsize = (10,4), edgecolor='black', title='Diamond Price');\n",
    "plt.show()\n",
    "# diamonds.price.plot(kind='hist', bins = 100, figsize = (10,4), logx = True, logy=True, edgecolor='black', title='Log Price');"
   ]
  },
  {
   "cell_type": "markdown",
   "id": "93d74a1f-77e7-4404-add5-8a2a4dca3a8f",
   "metadata": {},
   "source": [
    "## Fixed width binning\n",
    "You can cut the data into a number of fixed bins using `pd.qcut`.  You can specify your own cut-offs for the bins as a list.    \n",
    "Note the interval notation.  `(` means not-inclusive, and `]` means inclusive.  \n",
    "\n",
    "For example:  \n",
    "Assuming integers:  \n",
    "```\n",
    "(0, 3) = 1, 2\n",
    "(0, 3] = 1, 2, 3, 4, 5\n",
    "[0, 3) = 0, 1, 2\n",
    "[0, 3] = 0, 1, 2, 3\n",
    "```"
   ]
  },
  {
   "cell_type": "code",
   "execution_count": 7,
   "id": "fd83b327-d301-45f8-ab60-20edd4e97128",
   "metadata": {},
   "outputs": [
    {
     "data": {
      "text/plain": [
       "0        (307.503, 4025.4]\n",
       "1        (307.503, 4025.4]\n",
       "2        (307.503, 4025.4]\n",
       "3        (307.503, 4025.4]\n",
       "4        (307.503, 4025.4]\n",
       "               ...        \n",
       "53935    (307.503, 4025.4]\n",
       "53936    (307.503, 4025.4]\n",
       "53937    (307.503, 4025.4]\n",
       "53938    (307.503, 4025.4]\n",
       "53939    (307.503, 4025.4]\n",
       "Name: price, Length: 53940, dtype: category\n",
       "Categories (5, interval[float64, right]): [(307.503, 4025.4] < (4025.4, 7724.8] < (7724.8, 11424.2] < (11424.2, 15123.6] < (15123.6, 18823.0]]"
      ]
     },
     "execution_count": 7,
     "metadata": {},
     "output_type": "execute_result"
    }
   ],
   "source": [
    "pd.cut(diamonds.price, bins = 5)"
   ]
  },
  {
   "cell_type": "code",
   "execution_count": 8,
   "id": "a43288dd-e90c-43bb-923e-ce0939c4be1e",
   "metadata": {},
   "outputs": [
    {
     "data": {
      "text/plain": [
       "0             (0, 2500]\n",
       "1             (0, 2500]\n",
       "2             (0, 2500]\n",
       "3             (0, 2500]\n",
       "4             (0, 2500]\n",
       "              ...      \n",
       "53935    (2500, 100000]\n",
       "53936    (2500, 100000]\n",
       "53937    (2500, 100000]\n",
       "53938    (2500, 100000]\n",
       "53939    (2500, 100000]\n",
       "Name: price, Length: 53940, dtype: category\n",
       "Categories (2, interval[int64, right]): [(0, 2500] < (2500, 100000]]"
      ]
     },
     "execution_count": 8,
     "metadata": {},
     "output_type": "execute_result"
    }
   ],
   "source": [
    "pd.cut(diamonds.price, bins = [0, 2500, 100000])"
   ]
  },
  {
   "cell_type": "code",
   "execution_count": 9,
   "id": "0f522d4d-4a18-4736-ac4e-726cfc006c20",
   "metadata": {},
   "outputs": [
    {
     "data": {
      "text/html": [
       "<div>\n",
       "<style scoped>\n",
       "    .dataframe tbody tr th:only-of-type {\n",
       "        vertical-align: middle;\n",
       "    }\n",
       "\n",
       "    .dataframe tbody tr th {\n",
       "        vertical-align: top;\n",
       "    }\n",
       "\n",
       "    .dataframe thead th {\n",
       "        text-align: right;\n",
       "    }\n",
       "</style>\n",
       "<table border=\"1\" class=\"dataframe\">\n",
       "  <thead>\n",
       "    <tr style=\"text-align: right;\">\n",
       "      <th></th>\n",
       "      <th>price</th>\n",
       "      <th>pricebin</th>\n",
       "    </tr>\n",
       "  </thead>\n",
       "  <tbody>\n",
       "    <tr>\n",
       "      <th>24354</th>\n",
       "      <td>12617</td>\n",
       "      <td>(2500, 100000]</td>\n",
       "    </tr>\n",
       "    <tr>\n",
       "      <th>11267</th>\n",
       "      <td>4971</td>\n",
       "      <td>(2500, 100000]</td>\n",
       "    </tr>\n",
       "    <tr>\n",
       "      <th>53067</th>\n",
       "      <td>2608</td>\n",
       "      <td>(2500, 100000]</td>\n",
       "    </tr>\n",
       "    <tr>\n",
       "      <th>6129</th>\n",
       "      <td>3984</td>\n",
       "      <td>(2500, 100000]</td>\n",
       "    </tr>\n",
       "    <tr>\n",
       "      <th>30492</th>\n",
       "      <td>732</td>\n",
       "      <td>(0, 2500]</td>\n",
       "    </tr>\n",
       "    <tr>\n",
       "      <th>18326</th>\n",
       "      <td>7455</td>\n",
       "      <td>(2500, 100000]</td>\n",
       "    </tr>\n",
       "  </tbody>\n",
       "</table>\n",
       "</div>"
      ],
      "text/plain": [
       "       price        pricebin\n",
       "24354  12617  (2500, 100000]\n",
       "11267   4971  (2500, 100000]\n",
       "53067   2608  (2500, 100000]\n",
       "6129    3984  (2500, 100000]\n",
       "30492    732       (0, 2500]\n",
       "18326   7455  (2500, 100000]"
      ]
     },
     "execution_count": 9,
     "metadata": {},
     "output_type": "execute_result"
    }
   ],
   "source": [
    "diamonds['pricebin'] = pd.cut(diamonds.price, bins = [0, 2500, 100000])\n",
    "diamonds[['price', 'pricebin']].sample(6)"
   ]
  },
  {
   "cell_type": "code",
   "execution_count": 10,
   "id": "6261dcea-d1e3-43bb-928d-34bb58f7f538",
   "metadata": {},
   "outputs": [
    {
     "data": {
      "text/plain": [
       "(0, 2500]         27542\n",
       "(2500, 100000]    26398\n",
       "Name: pricebin, dtype: int64"
      ]
     },
     "execution_count": 10,
     "metadata": {},
     "output_type": "execute_result"
    }
   ],
   "source": [
    "diamonds.pricebin.value_counts()"
   ]
  },
  {
   "cell_type": "markdown",
   "id": "9f0df0de-ae37-41a6-ae95-e3d7e96b9d4e",
   "metadata": {},
   "source": [
    "## Quantile binning"
   ]
  },
  {
   "cell_type": "code",
   "execution_count": 11,
   "id": "65a8ccc6-59cd-4ae4-829a-821d65aaeb63",
   "metadata": {},
   "outputs": [
    {
     "data": {
      "text/html": [
       "<div>\n",
       "<style scoped>\n",
       "    .dataframe tbody tr th:only-of-type {\n",
       "        vertical-align: middle;\n",
       "    }\n",
       "\n",
       "    .dataframe tbody tr th {\n",
       "        vertical-align: top;\n",
       "    }\n",
       "\n",
       "    .dataframe thead th {\n",
       "        text-align: right;\n",
       "    }\n",
       "</style>\n",
       "<table border=\"1\" class=\"dataframe\">\n",
       "  <thead>\n",
       "    <tr style=\"text-align: right;\">\n",
       "      <th></th>\n",
       "      <th>price</th>\n",
       "      <th>pricequantiles</th>\n",
       "    </tr>\n",
       "  </thead>\n",
       "  <tbody>\n",
       "    <tr>\n",
       "      <th>28252</th>\n",
       "      <td>666</td>\n",
       "      <td>First</td>\n",
       "    </tr>\n",
       "    <tr>\n",
       "      <th>40683</th>\n",
       "      <td>1155</td>\n",
       "      <td>Second</td>\n",
       "    </tr>\n",
       "    <tr>\n",
       "      <th>20002</th>\n",
       "      <td>8541</td>\n",
       "      <td>Fourth</td>\n",
       "    </tr>\n",
       "    <tr>\n",
       "      <th>28064</th>\n",
       "      <td>660</td>\n",
       "      <td>First</td>\n",
       "    </tr>\n",
       "    <tr>\n",
       "      <th>277</th>\n",
       "      <td>2795</td>\n",
       "      <td>Third</td>\n",
       "    </tr>\n",
       "    <tr>\n",
       "      <th>14579</th>\n",
       "      <td>5885</td>\n",
       "      <td>Fourth</td>\n",
       "    </tr>\n",
       "  </tbody>\n",
       "</table>\n",
       "</div>"
      ],
      "text/plain": [
       "       price pricequantiles\n",
       "28252    666          First\n",
       "40683   1155         Second\n",
       "20002   8541         Fourth\n",
       "28064    660          First\n",
       "277     2795          Third\n",
       "14579   5885         Fourth"
      ]
     },
     "execution_count": 11,
     "metadata": {},
     "output_type": "execute_result"
    }
   ],
   "source": [
    "# You can provide label instead of using the default interval notation, and you can \n",
    "# cut by quartiles using `qcut`\n",
    "\n",
    "diamonds['pricequantiles'] = pd.qcut(diamonds.price, 4, labels=['First', 'Second', 'Third', 'Fourth'])\n",
    "diamonds[['price', 'pricequantiles']].sample(6)"
   ]
  },
  {
   "cell_type": "code",
   "execution_count": 12,
   "id": "cc388158-547e-4aba-8d47-f46db7c71ff9",
   "metadata": {},
   "outputs": [
    {
     "data": {
      "image/png": "[encoded data removed]",
      "text/plain": [
       "<Figure size 1080x432 with 1 Axes>"
      ]
     },
     "metadata": {
      "needs_background": "light"
     },
     "output_type": "display_data"
    }
   ],
   "source": [
    "# graph of the log function\n",
    "plt.ylabel('Natural Log of Number')\n",
    "plt.xlabel('Number')\n",
    "pd.Series(np.log(np.arange(0,2, .01)+1e-8)).plot.line(figsize = (15,6));"
   ]
  },
  {
   "cell_type": "markdown",
   "id": "154411e2-ec52-4d18-bb51-501240b7872a",
   "metadata": {},
   "source": [
    "## Log transformation"
   ]
  },
  {
   "cell_type": "code",
   "execution_count": 13,
   "id": "1a9cc232-8919-414a-88d6-aeae33d64540",
   "metadata": {},
   "outputs": [
    {
     "data": {
      "image/png": "[encoded data removed]",
      "text/plain": [
       "<Figure size 1296x288 with 1 Axes>"
      ]
     },
     "metadata": {
      "needs_background": "light"
     },
     "output_type": "display_data"
    },
    {
     "data": {
      "image/png": "[encoded data removed]",
      "text/plain": [
       "<Figure size 1296x288 with 1 Axes>"
      ]
     },
     "metadata": {
      "needs_background": "light"
     },
     "output_type": "display_data"
    }
   ],
   "source": [
    "diamonds.price.plot(kind='hist', bins = 50, figsize = (18,4), \\\n",
    "                    edgecolor='black', title='Price on x-axis');\n",
    "plt.show()\n",
    "diamonds['log_transform'] = np.log10(diamonds.price)\n",
    "diamonds['log_transform'].plot(kind='hist', bins = 50, figsize = (18,4), \\\n",
    "                              edgecolor='black', title='Log(10)(price) on x-axis');"
   ]
  },
  {
   "cell_type": "markdown",
   "id": "83355921-5bc3-4ae7-a539-ba7cde0f5ba2",
   "metadata": {},
   "source": [
    "## Box Cox Transform"
   ]
  },
  {
   "cell_type": "code",
   "execution_count": 14,
   "id": "9edd1ea9-cdc1-42f1-b76a-d261abf310fc",
   "metadata": {},
   "outputs": [],
   "source": [
    "from scipy.stats import boxcox"
   ]
  },
  {
   "cell_type": "code",
   "execution_count": 15,
   "id": "bd04cb4e-4362-4763-9007-189641ecd94e",
   "metadata": {},
   "outputs": [
    {
     "name": "stdout",
     "output_type": "stream",
     "text": [
      "Lambda is: -0.06699030544539092\n"
     ]
    }
   ],
   "source": [
    "bc_data, bc_lambda = boxcox(diamonds.price)\n",
    "print('Lambda is:', bc_lambda)\n",
    "\n",
    "diamonds['boxcox_transform'] = bc_data\n"
   ]
  },
  {
   "cell_type": "code",
   "execution_count": 16,
   "id": "494653d7-8f44-4250-a8db-0db4119feacb",
   "metadata": {},
   "outputs": [
    {
     "name": "stdout",
     "output_type": "stream",
     "text": [
      "Lambda for Box-Cox is: -0.06699030544539092\n"
     ]
    },
    {
     "data": {
      "image/png": "[encoded data removed]",
      "text/plain": [
       "<Figure size 1584x216 with 1 Axes>"
      ]
     },
     "metadata": {
      "needs_background": "light"
     },
     "output_type": "display_data"
    },
    {
     "data": {
      "image/png": "[encoded data removed]",
      "text/plain": [
       "<Figure size 1584x216 with 1 Axes>"
      ]
     },
     "metadata": {
      "needs_background": "light"
     },
     "output_type": "display_data"
    },
    {
     "data": {
      "image/png": "[encoded data removed]",
      "text/plain": [
       "<Figure size 1584x216 with 1 Axes>"
      ]
     },
     "metadata": {
      "needs_background": "light"
     },
     "output_type": "display_data"
    }
   ],
   "source": [
    "print('Lambda for Box-Cox is:', bc_lambda)\n",
    "diamonds.price.plot(kind='hist', bins = 50, figsize = (22,3), edgecolor='black', title='Raw Price data, no transformation');\n",
    "plt.show()\n",
    "diamonds['log_transform'].plot(kind='hist', bins = 50, figsize = (22,3), edgecolor='black', title='Log Transform');\n",
    "plt.show()\n",
    "diamonds['boxcox_transform'].plot(kind='hist', bins = 50, figsize = (22,3), edgecolor='black', title='Box-Cox Transform');\n"
   ]
  },
  {
   "cell_type": "markdown",
   "id": "9774e26c-f401-4374-9bf6-186737309f0e",
   "metadata": {},
   "source": [
    "### Minmax, standardization and normalization"
   ]
  },
  {
   "cell_type": "markdown",
   "id": "d442d29e-2f3b-4561-92c5-6cb18819f352",
   "metadata": {},
   "source": [
    "#### Minmax and standardization of feature columns"
   ]
  },
  {
   "cell_type": "code",
   "execution_count": 17,
   "id": "ba7570a0-d331-4d88-b470-8f4d89984d29",
   "metadata": {},
   "outputs": [],
   "source": [
    "import sklearn.preprocessing as preproc\n",
    "diamonds['minmax'] = preproc.minmax_scale(diamonds[['price']])\n",
    "diamonds['standardized'] = preproc.StandardScaler().fit_transform(diamonds[['price']]) # At the column level"
   ]
  },
  {
   "cell_type": "code",
   "execution_count": 18,
   "id": "a7f27798-6f9b-46ce-a382-069417a0669c",
   "metadata": {},
   "outputs": [
    {
     "data": {
      "image/png": "[encoded data removed]",
      "text/plain": [
       "<Figure size 1584x144 with 1 Axes>"
      ]
     },
     "metadata": {
      "needs_background": "light"
     },
     "output_type": "display_data"
    },
    {
     "data": {
      "image/png": "[encoded data removed]",
      "text/plain": [
       "<Figure size 1584x144 with 1 Axes>"
      ]
     },
     "metadata": {
      "needs_background": "light"
     },
     "output_type": "display_data"
    },
    {
     "data": {
      "image/png": "[encoded data removed]",
      "text/plain": [
       "<Figure size 1584x144 with 1 Axes>"
      ]
     },
     "metadata": {
      "needs_background": "light"
     },
     "output_type": "display_data"
    }
   ],
   "source": [
    "diamonds.price.plot(kind='hist', bins = 50, figsize = (22,2), edgecolor='black', title='Raw Price data, no transformation');\n",
    "plt.show()\n",
    "diamonds['minmax'].plot(kind='hist', bins = 50, figsize = (22,2), edgecolor='black', title='Min-Max Scaling');\n",
    "plt.show()\n",
    "diamonds['standardized'].plot(kind='hist', bins = 50, figsize = (22,2), edgecolor='black', title='Standardization');\n",
    "plt.show()\n"
   ]
  },
  {
   "cell_type": "markdown",
   "id": "4040adb7-7139-4662-963e-424ed9a402fc",
   "metadata": {},
   "source": [
    "#### Standardization of a single data series, or vector can be done using the function zscore  \n",
    "#### This may be necessary as `StandardScaler` expects an m x n array as input (to standardize an entire feature set, as opposed to a single column)"
   ]
  },
  {
   "cell_type": "code",
   "execution_count": 19,
   "id": "e1c09e3c-2732-4db1-aa51-cc2707815728",
   "metadata": {},
   "outputs": [
    {
     "data": {
      "text/plain": [
       "array([-0.90409516, -0.90409516, -0.9038445 , ..., -0.29473076,\n",
       "       -0.29473076, -0.29473076])"
      ]
     },
     "execution_count": 19,
     "metadata": {},
     "output_type": "execute_result"
    }
   ],
   "source": [
    "from scipy.stats import zscore\n",
    "zscore(diamonds.price)"
   ]
  },
  {
   "cell_type": "markdown",
   "id": "f5dd05c1-3bd8-40c3-8d07-86c15df110fc",
   "metadata": {},
   "source": [
    "#### Use normalization where observations vary a lot between themselves"
   ]
  },
  {
   "cell_type": "code",
   "execution_count": 20,
   "id": "ad1c990a-4da8-4b5f-893e-4f3815bd4a40",
   "metadata": {},
   "outputs": [],
   "source": [
    "# Data source: https://data.worldbank.org/?locations=AU-CN-CH-IN-VN\n",
    "\n",
    "df = pd.DataFrame({'NI-USDTrillion': {'Australia': 1034.18,\n",
    "  'China': 10198.9,\n",
    "  'India': 2322.05,\n",
    "  'Switzerland': 519.097,\n",
    "  'Vietnam': 176.367},\n",
    " 'AgriLand-sqkm-mm': {'Australia': 3.71837,\n",
    "  'China': 5.285311,\n",
    "  'India': 1.79674,\n",
    "  'Switzerland': 0.01512999,\n",
    "  'Vietnam': 0.121688},\n",
    " 'Freight-mm-ton-km': {'Australia': 1982.586171,\n",
    "  'China': 23323.6147,\n",
    "  'India': 2407.098107,\n",
    "  'Switzerland': 1581.35236,\n",
    "  'Vietnam': 453.34954},\n",
    " 'AirPassengers(m)': {'Australia': 74.257326,\n",
    "  'China': 551.234509,\n",
    "  'India': 139.752424,\n",
    "  'Switzerland': 26.73257,\n",
    "  'Vietnam': 42.592762},\n",
    " 'ArableLandPct': {'Australia': 3.997909522,\n",
    "  'China': 12.67850328,\n",
    "  'India': 52.6088141,\n",
    "  'Switzerland': 10.07651831,\n",
    "  'Vietnam': 22.53781404},\n",
    " 'ArableLandHect': {'Australia': 30.752,\n",
    "  'China': 119.4911,\n",
    "  'India': 156.416,\n",
    "  'Switzerland': 0.398184,\n",
    "  'Vietnam': 6.9883},\n",
    " 'ArmedForces': {'Australia': 58000.0,\n",
    "  'China': 2695000.0,\n",
    "  'India': 3031000.0,\n",
    "  'Switzerland': 21000.0,\n",
    "  'Vietnam': 522000.0}})"
   ]
  },
  {
   "cell_type": "code",
   "execution_count": 21,
   "id": "04bff9b7-6627-4101-b8d7-1e38d6457d2a",
   "metadata": {},
   "outputs": [
    {
     "data": {
      "text/html": [
       "<div>\n",
       "<style scoped>\n",
       "    .dataframe tbody tr th:only-of-type {\n",
       "        vertical-align: middle;\n",
       "    }\n",
       "\n",
       "    .dataframe tbody tr th {\n",
       "        vertical-align: top;\n",
       "    }\n",
       "\n",
       "    .dataframe thead th {\n",
       "        text-align: right;\n",
       "    }\n",
       "</style>\n",
       "<table border=\"1\" class=\"dataframe\">\n",
       "  <thead>\n",
       "    <tr style=\"text-align: right;\">\n",
       "      <th></th>\n",
       "      <th>NI-USDTrillion</th>\n",
       "      <th>AgriLand-sqkm-mm</th>\n",
       "      <th>Freight-mm-ton-km</th>\n",
       "      <th>AirPassengers(m)</th>\n",
       "      <th>ArableLandPct</th>\n",
       "      <th>ArableLandHect</th>\n",
       "      <th>ArmedForces</th>\n",
       "    </tr>\n",
       "  </thead>\n",
       "  <tbody>\n",
       "    <tr>\n",
       "      <th>Australia</th>\n",
       "      <td>1034.180</td>\n",
       "      <td>3.718370</td>\n",
       "      <td>1982.586171</td>\n",
       "      <td>74.257326</td>\n",
       "      <td>3.997910</td>\n",
       "      <td>30.752000</td>\n",
       "      <td>58000.0</td>\n",
       "    </tr>\n",
       "    <tr>\n",
       "      <th>China</th>\n",
       "      <td>10198.900</td>\n",
       "      <td>5.285311</td>\n",
       "      <td>23323.614700</td>\n",
       "      <td>551.234509</td>\n",
       "      <td>12.678503</td>\n",
       "      <td>119.491100</td>\n",
       "      <td>2695000.0</td>\n",
       "    </tr>\n",
       "    <tr>\n",
       "      <th>India</th>\n",
       "      <td>2322.050</td>\n",
       "      <td>1.796740</td>\n",
       "      <td>2407.098107</td>\n",
       "      <td>139.752424</td>\n",
       "      <td>52.608814</td>\n",
       "      <td>156.416000</td>\n",
       "      <td>3031000.0</td>\n",
       "    </tr>\n",
       "    <tr>\n",
       "      <th>Switzerland</th>\n",
       "      <td>519.097</td>\n",
       "      <td>0.015130</td>\n",
       "      <td>1581.352360</td>\n",
       "      <td>26.732570</td>\n",
       "      <td>10.076518</td>\n",
       "      <td>0.398184</td>\n",
       "      <td>21000.0</td>\n",
       "    </tr>\n",
       "    <tr>\n",
       "      <th>Vietnam</th>\n",
       "      <td>176.367</td>\n",
       "      <td>0.121688</td>\n",
       "      <td>453.349540</td>\n",
       "      <td>42.592762</td>\n",
       "      <td>22.537814</td>\n",
       "      <td>6.988300</td>\n",
       "      <td>522000.0</td>\n",
       "    </tr>\n",
       "  </tbody>\n",
       "</table>\n",
       "</div>"
      ],
      "text/plain": [
       "             NI-USDTrillion  AgriLand-sqkm-mm  Freight-mm-ton-km  \\\n",
       "Australia          1034.180          3.718370        1982.586171   \n",
       "China             10198.900          5.285311       23323.614700   \n",
       "India              2322.050          1.796740        2407.098107   \n",
       "Switzerland         519.097          0.015130        1581.352360   \n",
       "Vietnam             176.367          0.121688         453.349540   \n",
       "\n",
       "             AirPassengers(m)  ArableLandPct  ArableLandHect  ArmedForces  \n",
       "Australia           74.257326       3.997910       30.752000      58000.0  \n",
       "China              551.234509      12.678503      119.491100    2695000.0  \n",
       "India              139.752424      52.608814      156.416000    3031000.0  \n",
       "Switzerland         26.732570      10.076518        0.398184      21000.0  \n",
       "Vietnam             42.592762      22.537814        6.988300     522000.0  "
      ]
     },
     "execution_count": 21,
     "metadata": {},
     "output_type": "execute_result"
    }
   ],
   "source": [
    "df"
   ]
  },
  {
   "cell_type": "code",
   "execution_count": 22,
   "id": "72f3ee1d-c68b-4a1f-b07f-5e10da3a24f4",
   "metadata": {},
   "outputs": [
    {
     "data": {
      "text/html": [
       "<div>\n",
       "<style scoped>\n",
       "    .dataframe tbody tr th:only-of-type {\n",
       "        vertical-align: middle;\n",
       "    }\n",
       "\n",
       "    .dataframe tbody tr th {\n",
       "        vertical-align: top;\n",
       "    }\n",
       "\n",
       "    .dataframe thead th {\n",
       "        text-align: right;\n",
       "    }\n",
       "</style>\n",
       "<table border=\"1\" class=\"dataframe\">\n",
       "  <thead>\n",
       "    <tr style=\"text-align: right;\">\n",
       "      <th></th>\n",
       "      <th>NI-USDTrillion</th>\n",
       "      <th>AgriLand-sqkm-mm</th>\n",
       "      <th>Freight-mm-ton-km</th>\n",
       "      <th>AirPassengers(m)</th>\n",
       "      <th>ArableLandPct</th>\n",
       "      <th>ArableLandHect</th>\n",
       "      <th>ArmedForces</th>\n",
       "    </tr>\n",
       "  </thead>\n",
       "  <tbody>\n",
       "    <tr>\n",
       "      <th>Australia</th>\n",
       "      <td>0.017817</td>\n",
       "      <td>6.406217e-05</td>\n",
       "      <td>0.034157</td>\n",
       "      <td>0.001279</td>\n",
       "      <td>0.000069</td>\n",
       "      <td>0.000530</td>\n",
       "      <td>0.999257</td>\n",
       "    </tr>\n",
       "    <tr>\n",
       "      <th>China</th>\n",
       "      <td>0.003784</td>\n",
       "      <td>1.961067e-06</td>\n",
       "      <td>0.008654</td>\n",
       "      <td>0.000205</td>\n",
       "      <td>0.000005</td>\n",
       "      <td>0.000044</td>\n",
       "      <td>0.999955</td>\n",
       "    </tr>\n",
       "    <tr>\n",
       "      <th>India</th>\n",
       "      <td>0.000766</td>\n",
       "      <td>5.927875e-07</td>\n",
       "      <td>0.000794</td>\n",
       "      <td>0.000046</td>\n",
       "      <td>0.000017</td>\n",
       "      <td>0.000052</td>\n",
       "      <td>0.999999</td>\n",
       "    </tr>\n",
       "    <tr>\n",
       "      <th>Switzerland</th>\n",
       "      <td>0.024642</td>\n",
       "      <td>7.182228e-07</td>\n",
       "      <td>0.075067</td>\n",
       "      <td>0.001269</td>\n",
       "      <td>0.000478</td>\n",
       "      <td>0.000019</td>\n",
       "      <td>0.996873</td>\n",
       "    </tr>\n",
       "    <tr>\n",
       "      <th>Vietnam</th>\n",
       "      <td>0.000338</td>\n",
       "      <td>2.331187e-07</td>\n",
       "      <td>0.000868</td>\n",
       "      <td>0.000082</td>\n",
       "      <td>0.000043</td>\n",
       "      <td>0.000013</td>\n",
       "      <td>1.000000</td>\n",
       "    </tr>\n",
       "  </tbody>\n",
       "</table>\n",
       "</div>"
      ],
      "text/plain": [
       "             NI-USDTrillion  AgriLand-sqkm-mm  Freight-mm-ton-km  \\\n",
       "Australia          0.017817      6.406217e-05           0.034157   \n",
       "China              0.003784      1.961067e-06           0.008654   \n",
       "India              0.000766      5.927875e-07           0.000794   \n",
       "Switzerland        0.024642      7.182228e-07           0.075067   \n",
       "Vietnam            0.000338      2.331187e-07           0.000868   \n",
       "\n",
       "             AirPassengers(m)  ArableLandPct  ArableLandHect  ArmedForces  \n",
       "Australia            0.001279       0.000069        0.000530     0.999257  \n",
       "China                0.000205       0.000005        0.000044     0.999955  \n",
       "India                0.000046       0.000017        0.000052     0.999999  \n",
       "Switzerland          0.001269       0.000478        0.000019     0.996873  \n",
       "Vietnam              0.000082       0.000043        0.000013     1.000000  "
      ]
     },
     "execution_count": 22,
     "metadata": {},
     "output_type": "execute_result"
    }
   ],
   "source": [
    "import sklearn.preprocessing as preproc\n",
    "df2 = pd.DataFrame(preproc.normalize(df), columns = df.columns, index= df.index) # At the row level\n",
    "df2"
   ]
  },
  {
   "cell_type": "code",
   "execution_count": 23,
   "id": "bcca5774-da17-408d-aded-3473c6129c4e",
   "metadata": {},
   "outputs": [
    {
     "data": {
      "text/plain": [
       "Australia      1.0\n",
       "China          1.0\n",
       "India          1.0\n",
       "Switzerland    1.0\n",
       "Vietnam        1.0\n",
       "dtype: float64"
      ]
     },
     "execution_count": 23,
     "metadata": {},
     "output_type": "execute_result"
    }
   ],
   "source": [
    "(df2**2).sum(axis=1)"
   ]
  },
  {
   "cell_type": "code",
   "execution_count": null,
   "id": "90965663-aa42-4d31-a3ff-ede05706331c",
   "metadata": {},
   "outputs": [],
   "source": []
  },
  {
   "cell_type": "markdown",
   "id": "3fea1a80-5e30-4089-9374-fd5173736c1d",
   "metadata": {},
   "source": [
    "## Inversing a transform"
   ]
  },
  {
   "cell_type": "code",
   "execution_count": 24,
   "id": "77512e89-cc22-4008-a33e-9fb405dddffc",
   "metadata": {},
   "outputs": [
    {
     "name": "stdout",
     "output_type": "stream",
     "text": [
      "Original diamond prices (first 4 only)\n",
      "0    326\n",
      "1    326\n",
      "2    327\n",
      "3    334\n",
      "Name: price, dtype: int64\n",
      "\n",
      "\n",
      "Standardized prices\n",
      "0   -0.904095\n",
      "1   -0.904095\n",
      "2   -0.903844\n",
      "3   -0.902090\n",
      "Name: standardized, dtype: float64\n",
      "\n",
      "\n",
      "Reconstructed prices by un-scaling the standardized prices:\n",
      "[[326.]\n",
      " [326.]\n",
      " [327.]\n",
      " [334.]]\n"
     ]
    }
   ],
   "source": [
    "diamonds = sns.load_dataset('diamonds')\n",
    "print('Original diamond prices (first 4 only)')\n",
    "print(diamonds['price'][:4])\n",
    "scaler = preproc.StandardScaler()\n",
    "diamonds['standardized'] = scaler.fit_transform(diamonds[['price']])\n",
    "print('\\n\\nStandardized prices')\n",
    "print(diamonds['standardized'][:4])\n",
    "print('\\n\\nReconstructed prices by un-scaling the standardized prices:')\n",
    "print(scaler.inverse_transform(diamonds['standardized'][:4].values.reshape(-1, 1)))"
   ]
  },
  {
   "cell_type": "markdown",
   "id": "6357d556-d164-483a-92cd-069581b18bb6",
   "metadata": {},
   "source": [
    "## One hot"
   ]
  },
  {
   "cell_type": "code",
   "execution_count": 25,
   "id": "586b1c38-ff5b-4a02-a08a-85a993b2bf99",
   "metadata": {},
   "outputs": [
    {
     "data": {
      "text/html": [
       "<div>\n",
       "<style scoped>\n",
       "    .dataframe tbody tr th:only-of-type {\n",
       "        vertical-align: middle;\n",
       "    }\n",
       "\n",
       "    .dataframe tbody tr th {\n",
       "        vertical-align: top;\n",
       "    }\n",
       "\n",
       "    .dataframe thead th {\n",
       "        text-align: right;\n",
       "    }\n",
       "</style>\n",
       "<table border=\"1\" class=\"dataframe\">\n",
       "  <thead>\n",
       "    <tr style=\"text-align: right;\">\n",
       "      <th></th>\n",
       "      <th>fruit</th>\n",
       "      <th>weight_gm</th>\n",
       "      <th>price</th>\n",
       "    </tr>\n",
       "  </thead>\n",
       "  <tbody>\n",
       "    <tr>\n",
       "      <th>0</th>\n",
       "      <td>apple</td>\n",
       "      <td>120</td>\n",
       "      <td>0.25</td>\n",
       "    </tr>\n",
       "    <tr>\n",
       "      <th>1</th>\n",
       "      <td>banana</td>\n",
       "      <td>100</td>\n",
       "      <td>0.18</td>\n",
       "    </tr>\n",
       "    <tr>\n",
       "      <th>2</th>\n",
       "      <td>pear</td>\n",
       "      <td>104</td>\n",
       "      <td>0.87</td>\n",
       "    </tr>\n",
       "    <tr>\n",
       "      <th>3</th>\n",
       "      <td>pear</td>\n",
       "      <td>60</td>\n",
       "      <td>0.09</td>\n",
       "    </tr>\n",
       "    <tr>\n",
       "      <th>4</th>\n",
       "      <td>apple</td>\n",
       "      <td>98</td>\n",
       "      <td>1.02</td>\n",
       "    </tr>\n",
       "    <tr>\n",
       "      <th>5</th>\n",
       "      <td>apple</td>\n",
       "      <td>119</td>\n",
       "      <td>0.63</td>\n",
       "    </tr>\n",
       "  </tbody>\n",
       "</table>\n",
       "</div>"
      ],
      "text/plain": [
       "    fruit  weight_gm  price\n",
       "0   apple        120   0.25\n",
       "1  banana        100   0.18\n",
       "2    pear        104   0.87\n",
       "3    pear         60   0.09\n",
       "4   apple         98   1.02\n",
       "5   apple        119   0.63"
      ]
     },
     "execution_count": 25,
     "metadata": {},
     "output_type": "execute_result"
    }
   ],
   "source": [
    "df = pd.DataFrame({'fruit': \n",
    "                   ['apple', 'banana', 'pear', \n",
    "                    'pear', 'apple', 'apple'],\n",
    "                  'weight_gm':[120,100,104,60,98,119],\n",
    "                  'price':[0.25, 0.18, 0.87, 0.09, 1.02,.63]})\n",
    "df"
   ]
  },
  {
   "cell_type": "code",
   "execution_count": 26,
   "id": "3b1bf7bd-99d6-4788-9a23-aa73c0f3c9a0",
   "metadata": {},
   "outputs": [
    {
     "data": {
      "text/html": [
       "<div>\n",
       "<style scoped>\n",
       "    .dataframe tbody tr th:only-of-type {\n",
       "        vertical-align: middle;\n",
       "    }\n",
       "\n",
       "    .dataframe tbody tr th {\n",
       "        vertical-align: top;\n",
       "    }\n",
       "\n",
       "    .dataframe thead th {\n",
       "        text-align: right;\n",
       "    }\n",
       "</style>\n",
       "<table border=\"1\" class=\"dataframe\">\n",
       "  <thead>\n",
       "    <tr style=\"text-align: right;\">\n",
       "      <th></th>\n",
       "      <th>weight_gm</th>\n",
       "      <th>price</th>\n",
       "      <th>fruit_apple</th>\n",
       "      <th>fruit_banana</th>\n",
       "      <th>fruit_pear</th>\n",
       "    </tr>\n",
       "  </thead>\n",
       "  <tbody>\n",
       "    <tr>\n",
       "      <th>0</th>\n",
       "      <td>120</td>\n",
       "      <td>0.25</td>\n",
       "      <td>1</td>\n",
       "      <td>0</td>\n",
       "      <td>0</td>\n",
       "    </tr>\n",
       "    <tr>\n",
       "      <th>1</th>\n",
       "      <td>100</td>\n",
       "      <td>0.18</td>\n",
       "      <td>0</td>\n",
       "      <td>1</td>\n",
       "      <td>0</td>\n",
       "    </tr>\n",
       "    <tr>\n",
       "      <th>2</th>\n",
       "      <td>104</td>\n",
       "      <td>0.87</td>\n",
       "      <td>0</td>\n",
       "      <td>0</td>\n",
       "      <td>1</td>\n",
       "    </tr>\n",
       "    <tr>\n",
       "      <th>3</th>\n",
       "      <td>60</td>\n",
       "      <td>0.09</td>\n",
       "      <td>0</td>\n",
       "      <td>0</td>\n",
       "      <td>1</td>\n",
       "    </tr>\n",
       "    <tr>\n",
       "      <th>4</th>\n",
       "      <td>98</td>\n",
       "      <td>1.02</td>\n",
       "      <td>1</td>\n",
       "      <td>0</td>\n",
       "      <td>0</td>\n",
       "    </tr>\n",
       "    <tr>\n",
       "      <th>5</th>\n",
       "      <td>119</td>\n",
       "      <td>0.63</td>\n",
       "      <td>1</td>\n",
       "      <td>0</td>\n",
       "      <td>0</td>\n",
       "    </tr>\n",
       "  </tbody>\n",
       "</table>\n",
       "</div>"
      ],
      "text/plain": [
       "   weight_gm  price  fruit_apple  fruit_banana  fruit_pear\n",
       "0        120   0.25            1             0           0\n",
       "1        100   0.18            0             1           0\n",
       "2        104   0.87            0             0           1\n",
       "3         60   0.09            0             0           1\n",
       "4         98   1.02            1             0           0\n",
       "5        119   0.63            1             0           0"
      ]
     },
     "execution_count": 26,
     "metadata": {},
     "output_type": "execute_result"
    }
   ],
   "source": [
    "pd.get_dummies(df)"
   ]
  },
  {
   "cell_type": "code",
   "execution_count": 27,
   "id": "634f83fe-ed6a-4323-a618-8dd8848d8df1",
   "metadata": {},
   "outputs": [
    {
     "data": {
      "text/html": [
       "<div>\n",
       "<style scoped>\n",
       "    .dataframe tbody tr th:only-of-type {\n",
       "        vertical-align: middle;\n",
       "    }\n",
       "\n",
       "    .dataframe tbody tr th {\n",
       "        vertical-align: top;\n",
       "    }\n",
       "\n",
       "    .dataframe thead th {\n",
       "        text-align: right;\n",
       "    }\n",
       "</style>\n",
       "<table border=\"1\" class=\"dataframe\">\n",
       "  <thead>\n",
       "    <tr style=\"text-align: right;\">\n",
       "      <th></th>\n",
       "      <th>weight_gm</th>\n",
       "      <th>price</th>\n",
       "      <th>fruit_banana</th>\n",
       "      <th>fruit_pear</th>\n",
       "    </tr>\n",
       "  </thead>\n",
       "  <tbody>\n",
       "    <tr>\n",
       "      <th>0</th>\n",
       "      <td>120</td>\n",
       "      <td>0.25</td>\n",
       "      <td>0</td>\n",
       "      <td>0</td>\n",
       "    </tr>\n",
       "    <tr>\n",
       "      <th>1</th>\n",
       "      <td>100</td>\n",
       "      <td>0.18</td>\n",
       "      <td>1</td>\n",
       "      <td>0</td>\n",
       "    </tr>\n",
       "    <tr>\n",
       "      <th>2</th>\n",
       "      <td>104</td>\n",
       "      <td>0.87</td>\n",
       "      <td>0</td>\n",
       "      <td>1</td>\n",
       "    </tr>\n",
       "    <tr>\n",
       "      <th>3</th>\n",
       "      <td>60</td>\n",
       "      <td>0.09</td>\n",
       "      <td>0</td>\n",
       "      <td>1</td>\n",
       "    </tr>\n",
       "    <tr>\n",
       "      <th>4</th>\n",
       "      <td>98</td>\n",
       "      <td>1.02</td>\n",
       "      <td>0</td>\n",
       "      <td>0</td>\n",
       "    </tr>\n",
       "    <tr>\n",
       "      <th>5</th>\n",
       "      <td>119</td>\n",
       "      <td>0.63</td>\n",
       "      <td>0</td>\n",
       "      <td>0</td>\n",
       "    </tr>\n",
       "  </tbody>\n",
       "</table>\n",
       "</div>"
      ],
      "text/plain": [
       "   weight_gm  price  fruit_banana  fruit_pear\n",
       "0        120   0.25             0           0\n",
       "1        100   0.18             1           0\n",
       "2        104   0.87             0           1\n",
       "3         60   0.09             0           1\n",
       "4         98   1.02             0           0\n",
       "5        119   0.63             0           0"
      ]
     },
     "execution_count": 27,
     "metadata": {},
     "output_type": "execute_result"
    }
   ],
   "source": [
    "pd.get_dummies(df, drop_first=True)"
   ]
  },
  {
   "cell_type": "markdown",
   "id": "488e3006-6779-49d7-87f9-23e29453e406",
   "metadata": {},
   "source": [
    "#### Label encoding"
   ]
  },
  {
   "cell_type": "code",
   "execution_count": 28,
   "id": "912a36d7-95c4-40df-9cdc-bff32e29521d",
   "metadata": {},
   "outputs": [
    {
     "data": {
      "text/html": [
       "<div>\n",
       "<style scoped>\n",
       "    .dataframe tbody tr th:only-of-type {\n",
       "        vertical-align: middle;\n",
       "    }\n",
       "\n",
       "    .dataframe tbody tr th {\n",
       "        vertical-align: top;\n",
       "    }\n",
       "\n",
       "    .dataframe thead th {\n",
       "        text-align: right;\n",
       "    }\n",
       "</style>\n",
       "<table border=\"1\" class=\"dataframe\">\n",
       "  <thead>\n",
       "    <tr style=\"text-align: right;\">\n",
       "      <th></th>\n",
       "      <th>fruit</th>\n",
       "      <th>weight_gm</th>\n",
       "      <th>price</th>\n",
       "    </tr>\n",
       "  </thead>\n",
       "  <tbody>\n",
       "    <tr>\n",
       "      <th>0</th>\n",
       "      <td>apple</td>\n",
       "      <td>120</td>\n",
       "      <td>0.25</td>\n",
       "    </tr>\n",
       "    <tr>\n",
       "      <th>1</th>\n",
       "      <td>banana</td>\n",
       "      <td>100</td>\n",
       "      <td>0.18</td>\n",
       "    </tr>\n",
       "    <tr>\n",
       "      <th>2</th>\n",
       "      <td>pear</td>\n",
       "      <td>104</td>\n",
       "      <td>0.87</td>\n",
       "    </tr>\n",
       "    <tr>\n",
       "      <th>3</th>\n",
       "      <td>pear</td>\n",
       "      <td>60</td>\n",
       "      <td>0.09</td>\n",
       "    </tr>\n",
       "    <tr>\n",
       "      <th>4</th>\n",
       "      <td>apple</td>\n",
       "      <td>98</td>\n",
       "      <td>1.02</td>\n",
       "    </tr>\n",
       "    <tr>\n",
       "      <th>5</th>\n",
       "      <td>apple</td>\n",
       "      <td>119</td>\n",
       "      <td>0.63</td>\n",
       "    </tr>\n",
       "  </tbody>\n",
       "</table>\n",
       "</div>"
      ],
      "text/plain": [
       "    fruit  weight_gm  price\n",
       "0   apple        120   0.25\n",
       "1  banana        100   0.18\n",
       "2    pear        104   0.87\n",
       "3    pear         60   0.09\n",
       "4   apple         98   1.02\n",
       "5   apple        119   0.63"
      ]
     },
     "execution_count": 28,
     "metadata": {},
     "output_type": "execute_result"
    }
   ],
   "source": [
    "df"
   ]
  },
  {
   "cell_type": "code",
   "execution_count": 29,
   "id": "54029e19-a7a9-468a-98f6-43feb43a0cf2",
   "metadata": {},
   "outputs": [
    {
     "data": {
      "text/html": [
       "<div>\n",
       "<style scoped>\n",
       "    .dataframe tbody tr th:only-of-type {\n",
       "        vertical-align: middle;\n",
       "    }\n",
       "\n",
       "    .dataframe tbody tr th {\n",
       "        vertical-align: top;\n",
       "    }\n",
       "\n",
       "    .dataframe thead th {\n",
       "        text-align: right;\n",
       "    }\n",
       "</style>\n",
       "<table border=\"1\" class=\"dataframe\">\n",
       "  <thead>\n",
       "    <tr style=\"text-align: right;\">\n",
       "      <th></th>\n",
       "      <th>fruit</th>\n",
       "      <th>weight_gm</th>\n",
       "      <th>price</th>\n",
       "      <th>encoded_labels</th>\n",
       "    </tr>\n",
       "  </thead>\n",
       "  <tbody>\n",
       "    <tr>\n",
       "      <th>0</th>\n",
       "      <td>apple</td>\n",
       "      <td>120</td>\n",
       "      <td>0.25</td>\n",
       "      <td>0</td>\n",
       "    </tr>\n",
       "    <tr>\n",
       "      <th>1</th>\n",
       "      <td>banana</td>\n",
       "      <td>100</td>\n",
       "      <td>0.18</td>\n",
       "      <td>1</td>\n",
       "    </tr>\n",
       "    <tr>\n",
       "      <th>2</th>\n",
       "      <td>pear</td>\n",
       "      <td>104</td>\n",
       "      <td>0.87</td>\n",
       "      <td>2</td>\n",
       "    </tr>\n",
       "    <tr>\n",
       "      <th>3</th>\n",
       "      <td>pear</td>\n",
       "      <td>60</td>\n",
       "      <td>0.09</td>\n",
       "      <td>2</td>\n",
       "    </tr>\n",
       "    <tr>\n",
       "      <th>4</th>\n",
       "      <td>apple</td>\n",
       "      <td>98</td>\n",
       "      <td>1.02</td>\n",
       "      <td>0</td>\n",
       "    </tr>\n",
       "    <tr>\n",
       "      <th>5</th>\n",
       "      <td>apple</td>\n",
       "      <td>119</td>\n",
       "      <td>0.63</td>\n",
       "      <td>0</td>\n",
       "    </tr>\n",
       "  </tbody>\n",
       "</table>\n",
       "</div>"
      ],
      "text/plain": [
       "    fruit  weight_gm  price  encoded_labels\n",
       "0   apple        120   0.25               0\n",
       "1  banana        100   0.18               1\n",
       "2    pear        104   0.87               2\n",
       "3    pear         60   0.09               2\n",
       "4   apple         98   1.02               0\n",
       "5   apple        119   0.63               0"
      ]
     },
     "execution_count": 29,
     "metadata": {},
     "output_type": "execute_result"
    }
   ],
   "source": [
    "from sklearn.preprocessing import LabelEncoder\n",
    "le = LabelEncoder()\n",
    "encoded_labels = le.fit_transform(df['fruit'].values.ravel()) # This needs a 1D array\n",
    "df['encoded_labels'] = encoded_labels\n",
    "df"
   ]
  },
  {
   "cell_type": "code",
   "execution_count": 30,
   "id": "bb925d5f-dceb-4584-9454-1266524cd0db",
   "metadata": {},
   "outputs": [
    {
     "data": {
      "text/plain": [
       "{0: 'apple', 1: 'banana', 2: 'pear'}"
      ]
     },
     "execution_count": 30,
     "metadata": {},
     "output_type": "execute_result"
    }
   ],
   "source": [
    "# Enumerate Encoded Classes\n",
    "dict(list(enumerate(le.classes_)))"
   ]
  },
  {
   "cell_type": "code",
   "execution_count": 31,
   "id": "667d8fe0-c438-419c-a8ed-0ad7529e8137",
   "metadata": {},
   "outputs": [
    {
     "name": "stderr",
     "output_type": "stream",
     "text": [
      "2021-10-15 21:11:31.279806: W tensorflow/stream_executor/platform/default/dso_loader.cc:64] Could not load dynamic library 'libcudart.so.11.0'; dlerror: libcudart.so.11.0: cannot open shared object file: No such file or directory; LD_LIBRARY_PATH: :/usr/local/nvidia/lib64\n",
      "2021-10-15 21:11:31.279870: I tensorflow/stream_executor/cuda/cudart_stub.cc:29] Ignore above cudart dlerror if you do not have a GPU set up on your machine.\n"
     ]
    },
    {
     "data": {
      "text/plain": [
       "array([[1., 0., 0.],\n",
       "       [0., 1., 0.],\n",
       "       [0., 0., 1.],\n",
       "       [0., 0., 1.],\n",
       "       [1., 0., 0.],\n",
       "       [1., 0., 0.]], dtype=float32)"
      ]
     },
     "execution_count": 31,
     "metadata": {},
     "output_type": "execute_result"
    }
   ],
   "source": [
    "from tensorflow.keras.utils import to_categorical\n",
    "to_categorical(encoded_labels)"
   ]
  },
  {
   "cell_type": "markdown",
   "id": "2f4f36ec-3173-400b-9860-1568e82424c5",
   "metadata": {},
   "source": [
    "## Imbalanced classes"
   ]
  },
  {
   "cell_type": "code",
   "execution_count": 32,
   "id": "f6dc0811-0218-4a7d-8398-ae43e2e7ecc6",
   "metadata": {},
   "outputs": [],
   "source": [
    "df = sns.load_dataset('geyser')"
   ]
  },
  {
   "cell_type": "code",
   "execution_count": 33,
   "id": "02371990-624d-45e2-b0e1-781c56d19451",
   "metadata": {},
   "outputs": [
    {
     "data": {
      "text/html": [
       "<div>\n",
       "<style scoped>\n",
       "    .dataframe tbody tr th:only-of-type {\n",
       "        vertical-align: middle;\n",
       "    }\n",
       "\n",
       "    .dataframe tbody tr th {\n",
       "        vertical-align: top;\n",
       "    }\n",
       "\n",
       "    .dataframe thead th {\n",
       "        text-align: right;\n",
       "    }\n",
       "</style>\n",
       "<table border=\"1\" class=\"dataframe\">\n",
       "  <thead>\n",
       "    <tr style=\"text-align: right;\">\n",
       "      <th></th>\n",
       "      <th>duration</th>\n",
       "      <th>waiting</th>\n",
       "      <th>kind</th>\n",
       "    </tr>\n",
       "  </thead>\n",
       "  <tbody>\n",
       "    <tr>\n",
       "      <th>0</th>\n",
       "      <td>3.600</td>\n",
       "      <td>79</td>\n",
       "      <td>long</td>\n",
       "    </tr>\n",
       "    <tr>\n",
       "      <th>1</th>\n",
       "      <td>1.800</td>\n",
       "      <td>54</td>\n",
       "      <td>short</td>\n",
       "    </tr>\n",
       "    <tr>\n",
       "      <th>2</th>\n",
       "      <td>3.333</td>\n",
       "      <td>74</td>\n",
       "      <td>long</td>\n",
       "    </tr>\n",
       "    <tr>\n",
       "      <th>3</th>\n",
       "      <td>2.283</td>\n",
       "      <td>62</td>\n",
       "      <td>short</td>\n",
       "    </tr>\n",
       "    <tr>\n",
       "      <th>4</th>\n",
       "      <td>4.533</td>\n",
       "      <td>85</td>\n",
       "      <td>long</td>\n",
       "    </tr>\n",
       "    <tr>\n",
       "      <th>...</th>\n",
       "      <td>...</td>\n",
       "      <td>...</td>\n",
       "      <td>...</td>\n",
       "    </tr>\n",
       "    <tr>\n",
       "      <th>267</th>\n",
       "      <td>4.117</td>\n",
       "      <td>81</td>\n",
       "      <td>long</td>\n",
       "    </tr>\n",
       "    <tr>\n",
       "      <th>268</th>\n",
       "      <td>2.150</td>\n",
       "      <td>46</td>\n",
       "      <td>short</td>\n",
       "    </tr>\n",
       "    <tr>\n",
       "      <th>269</th>\n",
       "      <td>4.417</td>\n",
       "      <td>90</td>\n",
       "      <td>long</td>\n",
       "    </tr>\n",
       "    <tr>\n",
       "      <th>270</th>\n",
       "      <td>1.817</td>\n",
       "      <td>46</td>\n",
       "      <td>short</td>\n",
       "    </tr>\n",
       "    <tr>\n",
       "      <th>271</th>\n",
       "      <td>4.467</td>\n",
       "      <td>74</td>\n",
       "      <td>long</td>\n",
       "    </tr>\n",
       "  </tbody>\n",
       "</table>\n",
       "<p>272 rows × 3 columns</p>\n",
       "</div>"
      ],
      "text/plain": [
       "     duration  waiting   kind\n",
       "0       3.600       79   long\n",
       "1       1.800       54  short\n",
       "2       3.333       74   long\n",
       "3       2.283       62  short\n",
       "4       4.533       85   long\n",
       "..        ...      ...    ...\n",
       "267     4.117       81   long\n",
       "268     2.150       46  short\n",
       "269     4.417       90   long\n",
       "270     1.817       46  short\n",
       "271     4.467       74   long\n",
       "\n",
       "[272 rows x 3 columns]"
      ]
     },
     "execution_count": 33,
     "metadata": {},
     "output_type": "execute_result"
    }
   ],
   "source": [
    "df"
   ]
  },
  {
   "cell_type": "code",
   "execution_count": 34,
   "id": "7aeedabd-e1ca-4b33-b5b5-0fb948e5fab4",
   "metadata": {},
   "outputs": [
    {
     "data": {
      "text/plain": [
       "long     172\n",
       "short    100\n",
       "Name: kind, dtype: int64"
      ]
     },
     "execution_count": 34,
     "metadata": {},
     "output_type": "execute_result"
    }
   ],
   "source": [
    "df.kind.value_counts()"
   ]
  },
  {
   "cell_type": "code",
   "execution_count": 35,
   "id": "0348f1a2-786a-4754-96b0-7b9b21c06b96",
   "metadata": {},
   "outputs": [],
   "source": [
    "# Split the dataframe between X and y\n",
    "X = df[['duration', 'waiting']]\n",
    "y = df[['kind']]"
   ]
  },
  {
   "cell_type": "code",
   "execution_count": 36,
   "id": "d521f6b9-1821-4677-b777-afb3535ebb72",
   "metadata": {},
   "outputs": [
    {
     "data": {
      "text/plain": [
       "kind \n",
       "long     172\n",
       "short    100\n",
       "dtype: int64"
      ]
     },
     "execution_count": 36,
     "metadata": {},
     "output_type": "execute_result"
    }
   ],
   "source": [
    "y.value_counts()"
   ]
  },
  {
   "cell_type": "markdown",
   "id": "86f3e6a6-ec5d-4cca-bbb0-a5a755c0346a",
   "metadata": {},
   "source": [
    "#### Random Under Sampler"
   ]
  },
  {
   "cell_type": "code",
   "execution_count": 37,
   "id": "576d8484-bda2-46b3-b1db-9e3e59b102ed",
   "metadata": {},
   "outputs": [],
   "source": [
    "from imblearn.under_sampling import RandomUnderSampler\n",
    "undersampler = RandomUnderSampler()\n",
    "X_res, y_res = undersampler.fit_resample(X, y)"
   ]
  },
  {
   "cell_type": "code",
   "execution_count": 38,
   "id": "c825e417-0208-45f2-9412-66c1e94ff83f",
   "metadata": {},
   "outputs": [
    {
     "data": {
      "text/plain": [
       "kind \n",
       "long     100\n",
       "short    100\n",
       "dtype: int64"
      ]
     },
     "execution_count": 38,
     "metadata": {},
     "output_type": "execute_result"
    }
   ],
   "source": [
    "y_res.value_counts()"
   ]
  },
  {
   "cell_type": "markdown",
   "id": "32b9f513-ab83-4229-b333-77f02d6b291d",
   "metadata": {},
   "source": [
    "#### Centroid Based Under Sampler"
   ]
  },
  {
   "cell_type": "code",
   "execution_count": 39,
   "id": "be5091a8-b07a-4d0d-9ba8-537e32e7f767",
   "metadata": {},
   "outputs": [],
   "source": [
    "from imblearn.under_sampling import ClusterCentroids\n",
    "clustercentroids = ClusterCentroids()\n",
    "X_res, y_res = clustercentroids.fit_resample(X, y)"
   ]
  },
  {
   "cell_type": "code",
   "execution_count": 40,
   "id": "b9636789-b342-4583-aafc-b5f4319744a6",
   "metadata": {},
   "outputs": [
    {
     "data": {
      "text/plain": [
       "kind \n",
       "long     100\n",
       "short    100\n",
       "dtype: int64"
      ]
     },
     "execution_count": 40,
     "metadata": {},
     "output_type": "execute_result"
    }
   ],
   "source": [
    "y_res.value_counts()"
   ]
  },
  {
   "cell_type": "markdown",
   "id": "7dea59d6-b092-4d79-a505-b64825741e1b",
   "metadata": {},
   "source": [
    "#### Random Over Sampler"
   ]
  },
  {
   "cell_type": "code",
   "execution_count": 41,
   "id": "41ba81c0-44ba-4efb-9732-3722b1ff33ef",
   "metadata": {},
   "outputs": [],
   "source": [
    "from imblearn.over_sampling import RandomOverSampler\n",
    "randomoversampler = RandomOverSampler()\n",
    "X_res, y_res = randomoversampler.fit_resample(X, y)"
   ]
  },
  {
   "cell_type": "code",
   "execution_count": 42,
   "id": "7bc05082-fb5c-49fa-98f8-a67be2a301f6",
   "metadata": {},
   "outputs": [
    {
     "data": {
      "text/plain": [
       "kind \n",
       "long     172\n",
       "short    172\n",
       "dtype: int64"
      ]
     },
     "execution_count": 42,
     "metadata": {},
     "output_type": "execute_result"
    }
   ],
   "source": [
    "y_res.value_counts()"
   ]
  },
  {
   "cell_type": "markdown",
   "id": "cf7725f2-8f66-47e6-96d1-af2056bf1f4d",
   "metadata": {},
   "source": [
    "#### SMOTE Over Sampler"
   ]
  },
  {
   "cell_type": "code",
   "execution_count": 43,
   "id": "64208cbb-66d0-46ca-bec8-5a6332afa7b2",
   "metadata": {},
   "outputs": [],
   "source": [
    "from imblearn.over_sampling import SMOTE \n",
    "smote = SMOTE()\n",
    "X_res, y_res = smote.fit_resample(X, y)"
   ]
  },
  {
   "cell_type": "code",
   "execution_count": 44,
   "id": "63657c91-a34b-4f90-adca-1c542fdff2f1",
   "metadata": {},
   "outputs": [
    {
     "data": {
      "text/plain": [
       "kind \n",
       "long     172\n",
       "short    172\n",
       "dtype: int64"
      ]
     },
     "execution_count": 44,
     "metadata": {},
     "output_type": "execute_result"
    }
   ],
   "source": [
    "y_res.value_counts()"
   ]
  },
  {
   "cell_type": "markdown",
   "id": "23c6a145-da81-477e-a26d-9c6ea729505c",
   "metadata": {},
   "source": [
    "### PCA in Action"
   ]
  },
  {
   "cell_type": "code",
   "execution_count": 45,
   "id": "8dccabef-e751-4a7f-9229-e0bc33559028",
   "metadata": {},
   "outputs": [
    {
     "data": {
      "text/html": [
       "<div>\n",
       "<style scoped>\n",
       "    .dataframe tbody tr th:only-of-type {\n",
       "        vertical-align: middle;\n",
       "    }\n",
       "\n",
       "    .dataframe tbody tr th {\n",
       "        vertical-align: top;\n",
       "    }\n",
       "\n",
       "    .dataframe thead th {\n",
       "        text-align: right;\n",
       "    }\n",
       "</style>\n",
       "<table border=\"1\" class=\"dataframe\">\n",
       "  <thead>\n",
       "    <tr style=\"text-align: right;\">\n",
       "      <th></th>\n",
       "      <th>mpg</th>\n",
       "      <th>cyl</th>\n",
       "      <th>disp</th>\n",
       "      <th>hp</th>\n",
       "      <th>drat</th>\n",
       "      <th>wt</th>\n",
       "      <th>qsec</th>\n",
       "      <th>vs</th>\n",
       "      <th>am</th>\n",
       "      <th>gear</th>\n",
       "      <th>carb</th>\n",
       "    </tr>\n",
       "  </thead>\n",
       "  <tbody>\n",
       "    <tr>\n",
       "      <th>Mazda RX4</th>\n",
       "      <td>21.0</td>\n",
       "      <td>6</td>\n",
       "      <td>160.0</td>\n",
       "      <td>110</td>\n",
       "      <td>3.90</td>\n",
       "      <td>2.620</td>\n",
       "      <td>16.46</td>\n",
       "      <td>0</td>\n",
       "      <td>1</td>\n",
       "      <td>4</td>\n",
       "      <td>4</td>\n",
       "    </tr>\n",
       "    <tr>\n",
       "      <th>Mazda RX4 Wag</th>\n",
       "      <td>21.0</td>\n",
       "      <td>6</td>\n",
       "      <td>160.0</td>\n",
       "      <td>110</td>\n",
       "      <td>3.90</td>\n",
       "      <td>2.875</td>\n",
       "      <td>17.02</td>\n",
       "      <td>0</td>\n",
       "      <td>1</td>\n",
       "      <td>4</td>\n",
       "      <td>4</td>\n",
       "    </tr>\n",
       "    <tr>\n",
       "      <th>Datsun 710</th>\n",
       "      <td>22.8</td>\n",
       "      <td>4</td>\n",
       "      <td>108.0</td>\n",
       "      <td>93</td>\n",
       "      <td>3.85</td>\n",
       "      <td>2.320</td>\n",
       "      <td>18.61</td>\n",
       "      <td>1</td>\n",
       "      <td>1</td>\n",
       "      <td>4</td>\n",
       "      <td>1</td>\n",
       "    </tr>\n",
       "    <tr>\n",
       "      <th>Hornet 4 Drive</th>\n",
       "      <td>21.4</td>\n",
       "      <td>6</td>\n",
       "      <td>258.0</td>\n",
       "      <td>110</td>\n",
       "      <td>3.08</td>\n",
       "      <td>3.215</td>\n",
       "      <td>19.44</td>\n",
       "      <td>1</td>\n",
       "      <td>0</td>\n",
       "      <td>3</td>\n",
       "      <td>1</td>\n",
       "    </tr>\n",
       "    <tr>\n",
       "      <th>Hornet Sportabout</th>\n",
       "      <td>18.7</td>\n",
       "      <td>8</td>\n",
       "      <td>360.0</td>\n",
       "      <td>175</td>\n",
       "      <td>3.15</td>\n",
       "      <td>3.440</td>\n",
       "      <td>17.02</td>\n",
       "      <td>0</td>\n",
       "      <td>0</td>\n",
       "      <td>3</td>\n",
       "      <td>2</td>\n",
       "    </tr>\n",
       "  </tbody>\n",
       "</table>\n",
       "</div>"
      ],
      "text/plain": [
       "                    mpg  cyl   disp   hp  drat     wt   qsec  vs  am  gear  \\\n",
       "Mazda RX4          21.0    6  160.0  110  3.90  2.620  16.46   0   1     4   \n",
       "Mazda RX4 Wag      21.0    6  160.0  110  3.90  2.875  17.02   0   1     4   \n",
       "Datsun 710         22.8    4  108.0   93  3.85  2.320  18.61   1   1     4   \n",
       "Hornet 4 Drive     21.4    6  258.0  110  3.08  3.215  19.44   1   0     3   \n",
       "Hornet Sportabout  18.7    8  360.0  175  3.15  3.440  17.02   0   0     3   \n",
       "\n",
       "                   carb  \n",
       "Mazda RX4             4  \n",
       "Mazda RX4 Wag         4  \n",
       "Datsun 710            1  \n",
       "Hornet 4 Drive        1  \n",
       "Hornet Sportabout     2  "
      ]
     },
     "execution_count": 45,
     "metadata": {},
     "output_type": "execute_result"
    }
   ],
   "source": [
    "import statsmodels.api as sm\n",
    "df = sm.datasets.get_rdataset('mtcars').data\n",
    "df.head()"
   ]
  },
  {
   "cell_type": "code",
   "execution_count": 46,
   "id": "aa5c9c82-b61f-4af9-a1e4-59bf5b409a62",
   "metadata": {},
   "outputs": [
    {
     "name": "stdout",
     "output_type": "stream",
     "text": [
      "(32, 10)\n"
     ]
    },
    {
     "data": {
      "text/html": [
       "<div>\n",
       "<style scoped>\n",
       "    .dataframe tbody tr th:only-of-type {\n",
       "        vertical-align: middle;\n",
       "    }\n",
       "\n",
       "    .dataframe tbody tr th {\n",
       "        vertical-align: top;\n",
       "    }\n",
       "\n",
       "    .dataframe thead th {\n",
       "        text-align: right;\n",
       "    }\n",
       "</style>\n",
       "<table border=\"1\" class=\"dataframe\">\n",
       "  <thead>\n",
       "    <tr style=\"text-align: right;\">\n",
       "      <th></th>\n",
       "      <th>cyl</th>\n",
       "      <th>disp</th>\n",
       "      <th>hp</th>\n",
       "      <th>drat</th>\n",
       "      <th>wt</th>\n",
       "      <th>qsec</th>\n",
       "      <th>vs</th>\n",
       "      <th>am</th>\n",
       "      <th>gear</th>\n",
       "      <th>carb</th>\n",
       "    </tr>\n",
       "  </thead>\n",
       "  <tbody>\n",
       "    <tr>\n",
       "      <th>Mazda RX4</th>\n",
       "      <td>-0.106668</td>\n",
       "      <td>-0.579750</td>\n",
       "      <td>-0.543655</td>\n",
       "      <td>0.576594</td>\n",
       "      <td>-0.620167</td>\n",
       "      <td>-0.789601</td>\n",
       "      <td>-0.881917</td>\n",
       "      <td>1.208941</td>\n",
       "      <td>0.430331</td>\n",
       "      <td>0.746967</td>\n",
       "    </tr>\n",
       "    <tr>\n",
       "      <th>Mazda RX4 Wag</th>\n",
       "      <td>-0.106668</td>\n",
       "      <td>-0.579750</td>\n",
       "      <td>-0.543655</td>\n",
       "      <td>0.576594</td>\n",
       "      <td>-0.355382</td>\n",
       "      <td>-0.471202</td>\n",
       "      <td>-0.881917</td>\n",
       "      <td>1.208941</td>\n",
       "      <td>0.430331</td>\n",
       "      <td>0.746967</td>\n",
       "    </tr>\n",
       "    <tr>\n",
       "      <th>Datsun 710</th>\n",
       "      <td>-1.244457</td>\n",
       "      <td>-1.006026</td>\n",
       "      <td>-0.795570</td>\n",
       "      <td>0.481584</td>\n",
       "      <td>-0.931678</td>\n",
       "      <td>0.432823</td>\n",
       "      <td>1.133893</td>\n",
       "      <td>1.208941</td>\n",
       "      <td>0.430331</td>\n",
       "      <td>-1.140108</td>\n",
       "    </tr>\n",
       "    <tr>\n",
       "      <th>Hornet 4 Drive</th>\n",
       "      <td>-0.106668</td>\n",
       "      <td>0.223615</td>\n",
       "      <td>-0.543655</td>\n",
       "      <td>-0.981576</td>\n",
       "      <td>-0.002336</td>\n",
       "      <td>0.904736</td>\n",
       "      <td>1.133893</td>\n",
       "      <td>-0.827170</td>\n",
       "      <td>-0.946729</td>\n",
       "      <td>-1.140108</td>\n",
       "    </tr>\n",
       "    <tr>\n",
       "      <th>Hornet Sportabout</th>\n",
       "      <td>1.031121</td>\n",
       "      <td>1.059772</td>\n",
       "      <td>0.419550</td>\n",
       "      <td>-0.848562</td>\n",
       "      <td>0.231297</td>\n",
       "      <td>-0.471202</td>\n",
       "      <td>-0.881917</td>\n",
       "      <td>-0.827170</td>\n",
       "      <td>-0.946729</td>\n",
       "      <td>-0.511083</td>\n",
       "    </tr>\n",
       "  </tbody>\n",
       "</table>\n",
       "</div>"
      ],
      "text/plain": [
       "                        cyl      disp        hp      drat        wt      qsec  \\\n",
       "Mazda RX4         -0.106668 -0.579750 -0.543655  0.576594 -0.620167 -0.789601   \n",
       "Mazda RX4 Wag     -0.106668 -0.579750 -0.543655  0.576594 -0.355382 -0.471202   \n",
       "Datsun 710        -1.244457 -1.006026 -0.795570  0.481584 -0.931678  0.432823   \n",
       "Hornet 4 Drive    -0.106668  0.223615 -0.543655 -0.981576 -0.002336  0.904736   \n",
       "Hornet Sportabout  1.031121  1.059772  0.419550 -0.848562  0.231297 -0.471202   \n",
       "\n",
       "                         vs        am      gear      carb  \n",
       "Mazda RX4         -0.881917  1.208941  0.430331  0.746967  \n",
       "Mazda RX4 Wag     -0.881917  1.208941  0.430331  0.746967  \n",
       "Datsun 710         1.133893  1.208941  0.430331 -1.140108  \n",
       "Hornet 4 Drive     1.133893 -0.827170 -0.946729 -1.140108  \n",
       "Hornet Sportabout -0.881917 -0.827170 -0.946729 -0.511083  "
      ]
     },
     "execution_count": 46,
     "metadata": {},
     "output_type": "execute_result"
    }
   ],
   "source": [
    "# Separate out the features (assuming mpg is the target variable)\n",
    "feat = df.iloc[:,1:]\n",
    "\n",
    "# Next, standard scale the feature set\n",
    "import sklearn.preprocessing as preproc\n",
    "feat = pd.DataFrame(data=preproc.StandardScaler().fit_transform(feat), columns=feat.columns, index = feat.index)\n",
    "print(feat.shape)\n",
    "feat.head()"
   ]
  },
  {
   "cell_type": "code",
   "execution_count": 47,
   "id": "ebf29446-4304-40a2-97c6-f90bdf655b43",
   "metadata": {},
   "outputs": [
    {
     "data": {
      "image/png": "[encoded data removed]",
      "text/plain": [
       "<Figure size 432x288 with 2 Axes>"
      ]
     },
     "metadata": {
      "needs_background": "light"
     },
     "output_type": "display_data"
    }
   ],
   "source": [
    "# Check out the correlation\n",
    "sns.heatmap(feat.corr(), annot=True);"
   ]
  },
  {
   "cell_type": "code",
   "execution_count": 48,
   "id": "4e2dc0d2-13dc-410c-a136-ebdad9a887db",
   "metadata": {},
   "outputs": [],
   "source": [
    "from sklearn.decomposition import PCA\n",
    "pca = PCA(n_components=.8) #0.8 means keep 80% of the variance"
   ]
  },
  {
   "cell_type": "code",
   "execution_count": 49,
   "id": "1177c77d-3f9c-42a7-a554-db0c830aa291",
   "metadata": {},
   "outputs": [],
   "source": [
    "# Get the new features and hold them in variable new\n",
    "pc_mtcars = pca.fit_transform(feat)"
   ]
  },
  {
   "cell_type": "code",
   "execution_count": 50,
   "id": "0c74cbde-576e-4328-b4cf-cb88c9a98d88",
   "metadata": {},
   "outputs": [
    {
     "data": {
      "text/plain": [
       "(32, 2)"
      ]
     },
     "execution_count": 50,
     "metadata": {},
     "output_type": "execute_result"
    }
   ],
   "source": [
    "pc_mtcars.shape"
   ]
  },
  {
   "cell_type": "code",
   "execution_count": 51,
   "id": "6d683e86-9e5a-43b8-82cb-78c3aaea584c",
   "metadata": {},
   "outputs": [
    {
     "data": {
      "text/html": [
       "<div>\n",
       "<style scoped>\n",
       "    .dataframe tbody tr th:only-of-type {\n",
       "        vertical-align: middle;\n",
       "    }\n",
       "\n",
       "    .dataframe tbody tr th {\n",
       "        vertical-align: top;\n",
       "    }\n",
       "\n",
       "    .dataframe thead th {\n",
       "        text-align: right;\n",
       "    }\n",
       "</style>\n",
       "<table border=\"1\" class=\"dataframe\">\n",
       "  <thead>\n",
       "    <tr style=\"text-align: right;\">\n",
       "      <th></th>\n",
       "      <th>0</th>\n",
       "      <th>1</th>\n",
       "    </tr>\n",
       "  </thead>\n",
       "  <tbody>\n",
       "    <tr>\n",
       "      <th>0</th>\n",
       "      <td>0.632134</td>\n",
       "      <td>1.739877</td>\n",
       "    </tr>\n",
       "    <tr>\n",
       "      <th>1</th>\n",
       "      <td>0.605027</td>\n",
       "      <td>1.554343</td>\n",
       "    </tr>\n",
       "    <tr>\n",
       "      <th>2</th>\n",
       "      <td>2.801549</td>\n",
       "      <td>-0.122632</td>\n",
       "    </tr>\n",
       "    <tr>\n",
       "      <th>3</th>\n",
       "      <td>0.259204</td>\n",
       "      <td>-2.364265</td>\n",
       "    </tr>\n",
       "    <tr>\n",
       "      <th>4</th>\n",
       "      <td>-2.032508</td>\n",
       "      <td>-0.774822</td>\n",
       "    </tr>\n",
       "    <tr>\n",
       "      <th>5</th>\n",
       "      <td>0.204867</td>\n",
       "      <td>-2.778790</td>\n",
       "    </tr>\n",
       "    <tr>\n",
       "      <th>6</th>\n",
       "      <td>-2.846324</td>\n",
       "      <td>0.318210</td>\n",
       "    </tr>\n",
       "    <tr>\n",
       "      <th>7</th>\n",
       "      <td>1.938647</td>\n",
       "      <td>-1.454239</td>\n",
       "    </tr>\n",
       "    <tr>\n",
       "      <th>8</th>\n",
       "      <td>2.300271</td>\n",
       "      <td>-1.963602</td>\n",
       "    </tr>\n",
       "    <tr>\n",
       "      <th>9</th>\n",
       "      <td>0.636986</td>\n",
       "      <td>-0.150858</td>\n",
       "    </tr>\n",
       "    <tr>\n",
       "      <th>10</th>\n",
       "      <td>0.712003</td>\n",
       "      <td>-0.308009</td>\n",
       "    </tr>\n",
       "    <tr>\n",
       "      <th>11</th>\n",
       "      <td>-2.168500</td>\n",
       "      <td>-0.698349</td>\n",
       "    </tr>\n",
       "    <tr>\n",
       "      <th>12</th>\n",
       "      <td>-2.013998</td>\n",
       "      <td>-0.698920</td>\n",
       "    </tr>\n",
       "    <tr>\n",
       "      <th>13</th>\n",
       "      <td>-1.983030</td>\n",
       "      <td>-0.811307</td>\n",
       "    </tr>\n",
       "    <tr>\n",
       "      <th>14</th>\n",
       "      <td>-3.540037</td>\n",
       "      <td>-0.841191</td>\n",
       "    </tr>\n",
       "    <tr>\n",
       "      <th>15</th>\n",
       "      <td>-3.597893</td>\n",
       "      <td>-0.747153</td>\n",
       "    </tr>\n",
       "    <tr>\n",
       "      <th>16</th>\n",
       "      <td>-3.493731</td>\n",
       "      <td>-0.445347</td>\n",
       "    </tr>\n",
       "    <tr>\n",
       "      <th>17</th>\n",
       "      <td>3.329571</td>\n",
       "      <td>-0.292943</td>\n",
       "    </tr>\n",
       "    <tr>\n",
       "      <th>18</th>\n",
       "      <td>3.883988</td>\n",
       "      <td>0.704290</td>\n",
       "    </tr>\n",
       "    <tr>\n",
       "      <th>19</th>\n",
       "      <td>3.636227</td>\n",
       "      <td>-0.276133</td>\n",
       "    </tr>\n",
       "    <tr>\n",
       "      <th>20</th>\n",
       "      <td>1.962264</td>\n",
       "      <td>-2.101797</td>\n",
       "    </tr>\n",
       "    <tr>\n",
       "      <th>21</th>\n",
       "      <td>-2.048033</td>\n",
       "      <td>-1.026281</td>\n",
       "    </tr>\n",
       "    <tr>\n",
       "      <th>22</th>\n",
       "      <td>-1.682576</td>\n",
       "      <td>-0.913388</td>\n",
       "    </tr>\n",
       "    <tr>\n",
       "      <th>23</th>\n",
       "      <td>-2.658623</td>\n",
       "      <td>0.669277</td>\n",
       "    </tr>\n",
       "    <tr>\n",
       "      <th>24</th>\n",
       "      <td>-2.354816</td>\n",
       "      <td>-0.899123</td>\n",
       "    </tr>\n",
       "    <tr>\n",
       "      <th>25</th>\n",
       "      <td>3.358263</td>\n",
       "      <td>-0.103399</td>\n",
       "    </tr>\n",
       "    <tr>\n",
       "      <th>26</th>\n",
       "      <td>2.440051</td>\n",
       "      <td>2.057439</td>\n",
       "    </tr>\n",
       "    <tr>\n",
       "      <th>27</th>\n",
       "      <td>2.946328</td>\n",
       "      <td>1.383718</td>\n",
       "    </tr>\n",
       "    <tr>\n",
       "      <th>28</th>\n",
       "      <td>-1.212566</td>\n",
       "      <td>3.498277</td>\n",
       "    </tr>\n",
       "    <tr>\n",
       "      <th>29</th>\n",
       "      <td>0.014182</td>\n",
       "      <td>3.221361</td>\n",
       "    </tr>\n",
       "    <tr>\n",
       "      <th>30</th>\n",
       "      <td>-2.541137</td>\n",
       "      <td>4.366990</td>\n",
       "    </tr>\n",
       "    <tr>\n",
       "      <th>31</th>\n",
       "      <td>2.512210</td>\n",
       "      <td>0.258768</td>\n",
       "    </tr>\n",
       "  </tbody>\n",
       "</table>\n",
       "</div>"
      ],
      "text/plain": [
       "           0         1\n",
       "0   0.632134  1.739877\n",
       "1   0.605027  1.554343\n",
       "2   2.801549 -0.122632\n",
       "3   0.259204 -2.364265\n",
       "4  -2.032508 -0.774822\n",
       "5   0.204867 -2.778790\n",
       "6  -2.846324  0.318210\n",
       "7   1.938647 -1.454239\n",
       "8   2.300271 -1.963602\n",
       "9   0.636986 -0.150858\n",
       "10  0.712003 -0.308009\n",
       "11 -2.168500 -0.698349\n",
       "12 -2.013998 -0.698920\n",
       "13 -1.983030 -0.811307\n",
       "14 -3.540037 -0.841191\n",
       "15 -3.597893 -0.747153\n",
       "16 -3.493731 -0.445347\n",
       "17  3.329571 -0.292943\n",
       "18  3.883988  0.704290\n",
       "19  3.636227 -0.276133\n",
       "20  1.962264 -2.101797\n",
       "21 -2.048033 -1.026281\n",
       "22 -1.682576 -0.913388\n",
       "23 -2.658623  0.669277\n",
       "24 -2.354816 -0.899123\n",
       "25  3.358263 -0.103399\n",
       "26  2.440051  2.057439\n",
       "27  2.946328  1.383718\n",
       "28 -1.212566  3.498277\n",
       "29  0.014182  3.221361\n",
       "30 -2.541137  4.366990\n",
       "31  2.512210  0.258768"
      ]
     },
     "execution_count": 51,
     "metadata": {},
     "output_type": "execute_result"
    }
   ],
   "source": [
    "pc_mtcars = pd.DataFrame(pc_mtcars)\n",
    "pc_mtcars"
   ]
  },
  {
   "cell_type": "code",
   "execution_count": 52,
   "id": "a68d8488-a932-4e53-ad6c-22a39d99140c",
   "metadata": {},
   "outputs": [
    {
     "data": {
      "text/plain": [
       "array([0.57602174, 0.26496432])"
      ]
     },
     "execution_count": 52,
     "metadata": {},
     "output_type": "execute_result"
    }
   ],
   "source": [
    "# proportion variance explained by each of the principal components\n",
    "pca.explained_variance_ratio_"
   ]
  },
  {
   "cell_type": "code",
   "execution_count": 53,
   "id": "dd005c3e-d3f1-48bd-b380-b1af99b73e61",
   "metadata": {},
   "outputs": [
    {
     "data": {
      "text/plain": [
       "0.8409860622774871"
      ]
     },
     "execution_count": 53,
     "metadata": {},
     "output_type": "execute_result"
    }
   ],
   "source": [
    "# proportion variance explained by both\n",
    "(pca.explained_variance_ratio_).cumsum()[-1]"
   ]
  },
  {
   "cell_type": "code",
   "execution_count": 54,
   "id": "5b47ec4e-b44a-4b85-a955-f419ec565fde",
   "metadata": {},
   "outputs": [
    {
     "data": {
      "text/plain": [
       "array([5.9460309 , 2.73511555])"
      ]
     },
     "execution_count": 54,
     "metadata": {},
     "output_type": "execute_result"
    }
   ],
   "source": [
    "# Absolute variance explained\n",
    "pca.explained_variance_"
   ]
  },
  {
   "cell_type": "code",
   "execution_count": null,
   "id": "60d8202c-6f72-41cb-bacb-f2bc28e9316d",
   "metadata": {},
   "outputs": [],
   "source": []
  },
  {
   "cell_type": "code",
   "execution_count": 55,
   "id": "16e2e712-d8c9-4630-826e-4d2d99a9cf07",
   "metadata": {},
   "outputs": [
    {
     "data": {
      "text/plain": [
       "9.769962616701378e-15"
      ]
     },
     "execution_count": 55,
     "metadata": {},
     "output_type": "execute_result"
    }
   ],
   "source": [
    "# Check if the principal components are orthogonal (dot product should be zero)\n",
    "np.dot(pc_mtcars[0], pc_mtcars[1])"
   ]
  },
  {
   "cell_type": "code",
   "execution_count": 56,
   "id": "18759e65-edce-48ab-9f4f-c78c5a08d698",
   "metadata": {},
   "outputs": [
    {
     "data": {
      "text/html": [
       "<div>\n",
       "<style scoped>\n",
       "    .dataframe tbody tr th:only-of-type {\n",
       "        vertical-align: middle;\n",
       "    }\n",
       "\n",
       "    .dataframe tbody tr th {\n",
       "        vertical-align: top;\n",
       "    }\n",
       "\n",
       "    .dataframe thead th {\n",
       "        text-align: right;\n",
       "    }\n",
       "</style>\n",
       "<table border=\"1\" class=\"dataframe\">\n",
       "  <thead>\n",
       "    <tr style=\"text-align: right;\">\n",
       "      <th></th>\n",
       "      <th>0</th>\n",
       "      <th>1</th>\n",
       "    </tr>\n",
       "  </thead>\n",
       "  <tbody>\n",
       "    <tr>\n",
       "      <th>0</th>\n",
       "      <td>0.632134</td>\n",
       "      <td>1.739877</td>\n",
       "    </tr>\n",
       "    <tr>\n",
       "      <th>1</th>\n",
       "      <td>0.605027</td>\n",
       "      <td>1.554343</td>\n",
       "    </tr>\n",
       "    <tr>\n",
       "      <th>2</th>\n",
       "      <td>2.801549</td>\n",
       "      <td>-0.122632</td>\n",
       "    </tr>\n",
       "    <tr>\n",
       "      <th>3</th>\n",
       "      <td>0.259204</td>\n",
       "      <td>-2.364265</td>\n",
       "    </tr>\n",
       "    <tr>\n",
       "      <th>4</th>\n",
       "      <td>-2.032508</td>\n",
       "      <td>-0.774822</td>\n",
       "    </tr>\n",
       "  </tbody>\n",
       "</table>\n",
       "</div>"
      ],
      "text/plain": [
       "          0         1\n",
       "0  0.632134  1.739877\n",
       "1  0.605027  1.554343\n",
       "2  2.801549 -0.122632\n",
       "3  0.259204 -2.364265\n",
       "4 -2.032508 -0.774822"
      ]
     },
     "execution_count": 56,
     "metadata": {},
     "output_type": "execute_result"
    }
   ],
   "source": [
    "pc_mtcars.head()"
   ]
  },
  {
   "cell_type": "code",
   "execution_count": 57,
   "id": "1957716e-175f-410c-a9e4-ef0c9c25c8e8",
   "metadata": {},
   "outputs": [
    {
     "data": {
      "text/plain": [
       "<AxesSubplot:xlabel='0', ylabel='1'>"
      ]
     },
     "execution_count": 57,
     "metadata": {},
     "output_type": "execute_result"
    },
    {
     "data": {
      "image/png": "[encoded data removed]",
      "text/plain": [
       "<Figure size 1008x360 with 1 Axes>"
      ]
     },
     "metadata": {},
     "output_type": "display_data"
    }
   ],
   "source": [
    "# Scatterplot of first two principal components\n",
    "sns.set_style(style='white')\n",
    "plt.figure(figsize = (14,5))\n",
    "sns.scatterplot(data = pc_mtcars, x = 0, y = 1, alpha = .8, edgecolor = 'None')"
   ]
  },
  {
   "cell_type": "markdown",
   "id": "755b40e6-97a9-45f4-8f58-a6e8b9b1e563",
   "metadata": {},
   "source": [
    "##### Check if eigenvectors multiplied by original feature set \n",
    "##### data equals the principal components (Optional)"
   ]
  },
  {
   "cell_type": "code",
   "execution_count": 58,
   "id": "289d1843-ad3f-4a5f-af2a-4d0d9d3d0fd2",
   "metadata": {},
   "outputs": [
    {
     "data": {
      "text/plain": [
       "array([[-0.40297112, -0.39592428, -0.35432552,  0.3155948 , -0.36680043,\n",
       "         0.21989818,  0.33335709,  0.24749911,  0.22143747, -0.22670801],\n",
       "       [ 0.03901479, -0.05393117,  0.24496137,  0.27847781, -0.14675805,\n",
       "        -0.46066271, -0.22751987,  0.43201042,  0.46516217,  0.411693  ]])"
      ]
     },
     "execution_count": 58,
     "metadata": {},
     "output_type": "execute_result"
    }
   ],
   "source": [
    "# Eigenvectors.  These are multiplied by the actual features and summed up to get the new features\n",
    "ev = pca.components_\n",
    "ev"
   ]
  },
  {
   "cell_type": "code",
   "execution_count": 59,
   "id": "1e6fcec7-35ce-4b4c-817e-cd39337676df",
   "metadata": {},
   "outputs": [
    {
     "data": {
      "text/html": [
       "<div>\n",
       "<style scoped>\n",
       "    .dataframe tbody tr th:only-of-type {\n",
       "        vertical-align: middle;\n",
       "    }\n",
       "\n",
       "    .dataframe tbody tr th {\n",
       "        vertical-align: top;\n",
       "    }\n",
       "\n",
       "    .dataframe thead th {\n",
       "        text-align: right;\n",
       "    }\n",
       "</style>\n",
       "<table border=\"1\" class=\"dataframe\">\n",
       "  <thead>\n",
       "    <tr style=\"text-align: right;\">\n",
       "      <th></th>\n",
       "      <th>0</th>\n",
       "      <th>1</th>\n",
       "    </tr>\n",
       "  </thead>\n",
       "  <tbody>\n",
       "    <tr>\n",
       "      <th>0</th>\n",
       "      <td>0.632134</td>\n",
       "      <td>1.739877</td>\n",
       "    </tr>\n",
       "    <tr>\n",
       "      <th>1</th>\n",
       "      <td>0.605027</td>\n",
       "      <td>1.554343</td>\n",
       "    </tr>\n",
       "  </tbody>\n",
       "</table>\n",
       "</div>"
      ],
      "text/plain": [
       "          0         1\n",
       "0  0.632134  1.739877\n",
       "1  0.605027  1.554343"
      ]
     },
     "execution_count": 59,
     "metadata": {},
     "output_type": "execute_result"
    }
   ],
   "source": [
    "# For the first observation, these are the new feature values\n",
    "pc_mtcars.iloc[0:2]\n"
   ]
  },
  {
   "cell_type": "code",
   "execution_count": 60,
   "id": "68984eef-af5d-4712-a754-fd2a6683c654",
   "metadata": {},
   "outputs": [
    {
     "data": {
      "text/plain": [
       "cyl    -0.106668\n",
       "disp   -0.579750\n",
       "hp     -0.543655\n",
       "drat    0.576594\n",
       "wt     -0.620167\n",
       "qsec   -0.789601\n",
       "vs     -0.881917\n",
       "am      1.208941\n",
       "gear    0.430331\n",
       "carb    0.746967\n",
       "Name: Mazda RX4, dtype: float64"
      ]
     },
     "execution_count": 60,
     "metadata": {},
     "output_type": "execute_result"
    }
   ],
   "source": [
    "feat.iloc[0]"
   ]
  },
  {
   "cell_type": "code",
   "execution_count": 61,
   "id": "7df51f5a-7a2d-4a3d-b47e-8048e84ebe82",
   "metadata": {},
   "outputs": [
    {
     "data": {
      "text/plain": [
       "cyl     0.042984\n",
       "disp    0.229537\n",
       "hp      0.192631\n",
       "drat    0.181970\n",
       "wt      0.227477\n",
       "qsec   -0.173632\n",
       "vs     -0.293993\n",
       "am      0.299212\n",
       "gear    0.095292\n",
       "carb   -0.169343\n",
       "Name: Mazda RX4, dtype: float64"
      ]
     },
     "execution_count": 61,
     "metadata": {},
     "output_type": "execute_result"
    }
   ],
   "source": [
    "(ev[0] * feat.iloc[0])"
   ]
  },
  {
   "cell_type": "code",
   "execution_count": 62,
   "id": "b343e4e4-e178-4bb7-977d-c79901629974",
   "metadata": {},
   "outputs": [
    {
     "data": {
      "text/plain": [
       "0.6321344928989644"
      ]
     },
     "execution_count": 62,
     "metadata": {},
     "output_type": "execute_result"
    }
   ],
   "source": [
    "(ev[0] * feat.iloc[0]).sum()"
   ]
  },
  {
   "cell_type": "code",
   "execution_count": 63,
   "id": "973ed09f-8eb2-4432-aec6-e97c84d5bf71",
   "metadata": {},
   "outputs": [
    {
     "data": {
      "text/plain": [
       "Mazda RX4              0.632134\n",
       "Mazda RX4 Wag          0.605027\n",
       "Datsun 710             2.801549\n",
       "Hornet 4 Drive         0.259204\n",
       "Hornet Sportabout     -2.032508\n",
       "Valiant                0.204867\n",
       "Duster 360            -2.846324\n",
       "Merc 240D              1.938647\n",
       "Merc 230               2.300271\n",
       "Merc 280               0.636986\n",
       "Merc 280C              0.712003\n",
       "Merc 450SE            -2.168500\n",
       "Merc 450SL            -2.013998\n",
       "Merc 450SLC           -1.983030\n",
       "Cadillac Fleetwood    -3.540037\n",
       "Lincoln Continental   -3.597893\n",
       "Chrysler Imperial     -3.493731\n",
       "Fiat 128               3.329571\n",
       "Honda Civic            3.883988\n",
       "Toyota Corolla         3.636227\n",
       "Toyota Corona          1.962264\n",
       "Dodge Challenger      -2.048033\n",
       "AMC Javelin           -1.682576\n",
       "Camaro Z28            -2.658623\n",
       "Pontiac Firebird      -2.354816\n",
       "Fiat X1-9              3.358263\n",
       "Porsche 914-2          2.440051\n",
       "Lotus Europa           2.946328\n",
       "Ford Pantera L        -1.212566\n",
       "Ferrari Dino           0.014182\n",
       "Maserati Bora         -2.541137\n",
       "Volvo 142E             2.512210\n",
       "dtype: float64"
      ]
     },
     "execution_count": 63,
     "metadata": {},
     "output_type": "execute_result"
    }
   ],
   "source": [
    "(ev[0] * feat).sum(axis=1)"
   ]
  },
  {
   "cell_type": "code",
   "execution_count": 64,
   "id": "251ccb33-1841-442b-bd55-ead16fcc3147",
   "metadata": {},
   "outputs": [
    {
     "data": {
      "text/plain": [
       "Mazda RX4              1.739877\n",
       "Mazda RX4 Wag          1.554343\n",
       "Datsun 710            -0.122632\n",
       "Hornet 4 Drive        -2.364265\n",
       "Hornet Sportabout     -0.774822\n",
       "Valiant               -2.778790\n",
       "Duster 360             0.318210\n",
       "Merc 240D             -1.454239\n",
       "Merc 230              -1.963602\n",
       "Merc 280              -0.150858\n",
       "Merc 280C             -0.308009\n",
       "Merc 450SE            -0.698349\n",
       "Merc 450SL            -0.698920\n",
       "Merc 450SLC           -0.811307\n",
       "Cadillac Fleetwood    -0.841191\n",
       "Lincoln Continental   -0.747153\n",
       "Chrysler Imperial     -0.445347\n",
       "Fiat 128              -0.292943\n",
       "Honda Civic            0.704290\n",
       "Toyota Corolla        -0.276133\n",
       "Toyota Corona         -2.101797\n",
       "Dodge Challenger      -1.026281\n",
       "AMC Javelin           -0.913388\n",
       "Camaro Z28             0.669277\n",
       "Pontiac Firebird      -0.899123\n",
       "Fiat X1-9             -0.103399\n",
       "Porsche 914-2          2.057439\n",
       "Lotus Europa           1.383718\n",
       "Ford Pantera L         3.498277\n",
       "Ferrari Dino           3.221361\n",
       "Maserati Bora          4.366990\n",
       "Volvo 142E             0.258768\n",
       "dtype: float64"
      ]
     },
     "execution_count": 64,
     "metadata": {},
     "output_type": "execute_result"
    }
   ],
   "source": [
    "(ev[1] * feat).sum(axis=1)"
   ]
  },
  {
   "cell_type": "code",
   "execution_count": null,
   "id": "f60f243c-007a-42da-aece-62e664c0c154",
   "metadata": {},
   "outputs": [],
   "source": []
  }
 ],
 "metadata": {
  "kernelspec": {
   "display_name": "Python [conda env:mggy8413]",
   "language": "python",
   "name": "conda-env-mggy8413-py"
  },
  "language_info": {
   "codemirror_mode": {
    "name": "ipython",
    "version": 3
   },
   "file_extension": ".py",
   "mimetype": "text/x-python",
   "name": "python",
   "nbconvert_exporter": "python",
   "pygments_lexer": "ipython3",
   "version": "3.9.6"
  }
 },
 "nbformat": 4,
 "nbformat_minor": 5
}
